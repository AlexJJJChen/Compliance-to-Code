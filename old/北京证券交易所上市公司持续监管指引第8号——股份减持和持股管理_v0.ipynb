{
 "cells": [
  {
   "cell_type": "markdown",
   "id": "291d7c88",
   "metadata": {},
   "source": [
    "# Prompt模板\n",
    "\n",
    "这个模板有小改动, 和生成这些code的不是完全一致. "
   ]
  },
  {
   "cell_type": "code",
   "execution_count": null,
   "id": "f7dd9779",
   "metadata": {},
   "outputs": [],
   "source": [
    "prompt_meu_coding_bse_08 = \"\"\"\n",
    "# 身份\n",
    "你是一个精通法律的程序员. 擅长编写代码以检验特定案例对于特定法律要求的合规性. \n",
    "\n",
    "# 任务\n",
    "你现在面临一个编写代码以检验某法律事件的合规性的任务, 你需要编写一个函数, 这个函数的输入是一个日频的pandas dataframe, 每一行是在某个交易日内公司的情况和股东的情况, 这个函数会检验该dataframe的每一行在某一个给定的法律最小可执行单元上的合规性, 标注在特定的列上, 并返回标注后的dataframe. \n",
    "\n",
    "# 更多要求\n",
    " - 你可以进行任意长度的思考, 然后用<CODE></CODE>包裹你的代码. \n",
    " - 你需要按照下面这个框架编写代码: 1. 标记valid的subject(meu_n_k_subject); 2. 标记valid的condition(meu_n_k_condition); 3. 标记valid的constrain(meu_n_k_constrain); 4. 在dataframe中记录subject, condition和constrain的valid情况; 5. 计算整体的违约情况并标记在dataframe上. \n",
    "\n",
    "# example\n",
    "下面是一个例子:\n",
    "\n",
    "## 输入\n",
    "法律的最小可执行单元编号: MEU_4_1\n",
    "法律的最小可执行单元内容: {{\"subject\": \"上市公司大股东 | 董监高\", \"condition\": \"计划通过本所集中竞价或大宗交易减持股份\", \"constraint\": \"应当及时通知公司，并在首次卖出的15个交易日前向本所报告并预先披露减持计划\", \"contextual_info\": NaN}}\n",
    "必要的额外信息: NaN\n",
    "\n",
    "## 输出\n",
    "<CODE>\n",
    "import pandas a pd\n",
    "\n",
    "def check_meu_4_1(df):\n",
    "    '''\n",
    "    代码的注释要清晰, 展示你分别验证subject, condition和constrain的过程.\n",
    "    \"subject\": \"上市公司大股东 | 董监高\", \n",
    "    \"condition\": \"计划通过本所集中竞价或大宗交易减持股份\", \n",
    "    \"constraint\": \"应当及时通知公司，并在首次卖出的15个交易日前向本所报告并预先披露减持计划\", \n",
    "    \"contextual_info\": NaN\n",
    "    '''\n",
    "\n",
    "    df['meu_4_2_subject'] = False  # 初始化subject列\n",
    "    df['meu_4_2_condition'] = False  # 初始化condition列\n",
    "    df['meu_4_2_constrain'] = False  # 初始化constrain列\n",
    "    \n",
    "    # 标记valid的subject\n",
    "    is_major_shareholder = (\n",
    "        df['股东身份'].isin(['控股股东', '实际控制人', '持股5%以上股东']) |\n",
    "        (df['持股比例'] >= 0.05)\n",
    "    )\n",
    "    is_director = df['股东身份'].isin(['董监高'])\n",
    "    valid_subject = is_major_shareholder | is_director\n",
    "\n",
    "    # 标记valid的condition\n",
    "    valid_condition = df['减持方式'].isin(['竞价交易', '大宗交易'])\n",
    "\n",
    "    # 标记valid的constrain\n",
    "    df['交易日差'] = (df['计划开始日'] - df['计划披露日']).dt.days\n",
    "    has_plan = df['存在减持计划']\n",
    "    valid_constraint = df['交易日差'] >= 15 & df['存在减持计划']\n",
    "    \n",
    "    # 标记各条件满足情况\n",
    "    df.loc[valid_subject, 'meu_4_1_subject'] = True\n",
    "    df.loc[valid_condition, 'meu_4_1_condition'] = True\n",
    "    df.loc[valid_constraint, 'meu_4_1_constraint'] = True\n",
    "    \n",
    "    # 判断违规情况：满足主体和条件但不满足约束\n",
    "    is_violation = (\n",
    "        valid_subject & \n",
    "        valid_condition & \n",
    "        (~valid_constraint)\n",
    "    )\n",
    "    \n",
    "    # 标记违规行\n",
    "    df.loc[is_violation, 'meu_4_1_compliance'] = False\n",
    "    \n",
    "    return df\n",
    "\n",
    "</CODE>\n",
    "    \n",
    "# 下面轮到你来完成这个任务\n",
    "法律的最小可执行单元编号: {meu_id}\n",
    "法律的最小可执行单元内容: {meu_content}\n",
    "必要的额外信息: {note}\n",
    "\n",
    "\n",
    "# 附加信息\n",
    "## 你可以操作的dataframe的columns: \n",
    "['日期', '日收益率', '收盘价', '前收盘价', '上市日期', '发行价格', '净资产增长率', '净利润增长率', '净资产',\n",
    "'净利润', '总股本', '每股净资产', '每股净利润', '公告类型', '公告日期', '复权因子', '收盘价减每股净资产',\n",
    "'收盘价减每股净利润', '公司涉嫌证券期货违法犯罪事件', '持股比例', '持股数量', '股东身份', '减持方式', '拟减持原因',\n",
    "'存在减持计划', '计划减持比例', '计划价格下限', '计划价格上限', '当日减持比例', '累计减持比例', '计划披露日',\n",
    "'计划开始日', '计划结束日', '离任日期', '公司简称', '股东', '股东涉嫌证券期货违法犯罪事件']\n",
    "\n",
    "## 其中: \n",
    "- 所有日期相关的列都已经是pd.datetime格式, ['日期']列本身就是交易日, 不需要额外计算交易日, 但是自然日需要计算. \n",
    "- 所有价格的单位都是元而非万元, 千元或百万元; 所有的比例都是小数而非百分数\n",
    "- 这是一个二维的面板数据, 根据['日期', '公司简称', '股东']可以定位到特定公司的特定股东在特定交易日的状态, 以及公司在该日的状态. 如果你要分公司和股东地考虑一些合规要求, 需要考虑按照 ['公司简称', '股东']分组并在组内完成. \n",
    "- 交易方式有['竞价交易', '大宗交易', '融券卖出'], 竞价交易包括集中竞价. \n",
    "- ['公司/股东涉嫌证券期货违法犯罪事件'] 有['被中国证监会及其派出机构立案调查', '中国证监会及其派出机构立案调查结束', '行政处罚决定作出', '被司法机关立案侦查', '司法机关立案侦查结束', '被本所公开谴责']\n",
    "- ['股东身份'] 有 ['董监高', '离任董监高', '控股股东', '实际控制人', '持股5%以上股东', '普通股东'], 这些标签不会并列出现, 因此有时候董监高/离任董监高持股在5%以上但并没有标明'持股5%以上股东', 你需要从['持股比例']手动筛选. \n",
    "- ['存在减持计划']是一个布尔值，表示该股东当天是否有减持计划\n",
    "- 假设公司上市发行价就是最早的非空的收盘价, 公司发行时的控股股东和实际控制人就是第一个非空的收盘价的同一天的控股股东和实际控制人. \n",
    "- ['持股比例'] 全部是公开上市前取得的股份. 不考虑承诺和限制出售的股份. \n",
    "\n",
    "\"\"\""
   ]
  },
  {
   "cell_type": "markdown",
   "id": "5b589a35",
   "metadata": {},
   "source": [
    "# Law Article 4"
   ]
  },
  {
   "cell_type": "markdown",
   "id": "694dafc5",
   "metadata": {},
   "source": [
    "## MEU_4_1"
   ]
  },
  {
   "cell_type": "markdown",
   "id": "a2c56977",
   "metadata": {},
   "source": [
    "\n",
    "| 字段 | 内容 |\n",
    "|------|------|\n",
    "| subject | 上市公司大股东 | 董监高 |\n",
    "| condition | 计划通过本所集中竞价或大宗交易减持股份 |\n",
    "| constraint | 应当及时通知公司，并在首次卖出的15个交易日前向本所报告并预先披露减持计划 |\n",
    "| contextual_info | nan |\n",
    "| note | nan |\n",
    "| relation | nan |\n",
    "| target | nan |\n",
    "| type | 实际执行单元 |\n",
    "| comments | nan |\n",
    "| prompt_tokens | 1432 |\n",
    "| completion_tokens | 741 |\n"
   ]
  },
  {
   "cell_type": "markdown",
   "id": "2e01332c",
   "metadata": {},
   "source": [
    "### 推理内容"
   ]
  },
  {
   "cell_type": "markdown",
   "id": "59fd032e",
   "metadata": {},
   "source": [
    "reasoning content not found"
   ]
  },
  {
   "cell_type": "markdown",
   "id": "aadf8f71",
   "metadata": {},
   "source": [
    "### 代码实现"
   ]
  },
  {
   "cell_type": "code",
   "execution_count": null,
   "id": "f382537f",
   "metadata": {},
   "outputs": [],
   "source": [
    "import pandas as pd\n",
    "\n",
    "def check_meu_4_1(df):\n",
    "    '''\n",
    "    检查减持计划披露合规性\n",
    "    \"subject\": \"上市公司大股东 | 董监高\", \n",
    "    \"condition\": \"计划通过本所集中竞价或大宗交易减持股份\", \n",
    "    \"constraint\": \"应当及时通知公司，并在首次卖出的15个交易日前向本所报告并预先披露减持计划\"\n",
    "    \n",
    "    处理逻辑:\n",
    "    1. 识别主体: 大股东(持股≥5%)或董监高\n",
    "    2. 识别条件: 计划通过集中竞价或大宗交易减持\n",
    "    3. 检查约束: 提前15个交易日披露减持计划\n",
    "    4. 标记合规情况\n",
    "    '''\n",
    "    \n",
    "    # 初始化结果列\n",
    "    df['meu_4_1_subject'] = False\n",
    "    df['meu_4_1_condition'] = False\n",
    "    df['meu_4_1_constraint'] = False\n",
    "    df['meu_4_1_compliance'] = True  # 默认合规\n",
    "    \n",
    "    # 1. 验证subject条件: 大股东或董监高\n",
    "    # 大股东条件: 持股比例≥5%或身份为控股股东/实际控制人/持股5%以上股东\n",
    "    is_major_shareholder = (\n",
    "        (df['持股比例'] >= 0.05) |\n",
    "        df['股东身份'].isin(['控股股东', '实际控制人', '持股5%以上股东'])\n",
    "    )\n",
    "    # 董监高条件: 身份为董监高(不包括离任)\n",
    "    is_director = df['股东身份'] == '董监高'\n",
    "    valid_subject = is_major_shareholder | is_director\n",
    "    \n",
    "    # 2. 验证condition条件: 计划通过集中竞价或大宗交易减持\n",
    "    valid_condition = (\n",
    "        df['存在减持计划'] & \n",
    "        df['减持方式'].isin(['竞价交易', '大宗交易'])\n",
    "    )\n",
    "    \n",
    "    # 3. 验证constraint条件: 提前15个交易日披露\n",
    "    # 计算计划开始日与披露日的交易日差\n",
    "    df['交易日差'] = (df['计划开始日'] - df['计划披露日']).dt.days\n",
    "    valid_constraint = df['交易日差'] >= 15\n",
    "    \n",
    "    # 标记各条件满足情况\n",
    "    df.loc[valid_subject, 'meu_4_1_subject'] = True\n",
    "    df.loc[valid_condition, 'meu_4_1_condition'] = True\n",
    "    df.loc[valid_constraint, 'meu_4_1_constraint'] = True\n",
    "    \n",
    "    # 识别违规情况: 满足主体和条件但不满足约束\n",
    "    is_violation = (\n",
    "        valid_subject & \n",
    "        valid_condition & \n",
    "        (~valid_constraint)\n",
    "    )\n",
    "    df.loc[is_violation, 'meu_4_1_compliance'] = False\n",
    "    \n",
    "    # 对于没有减持计划的记录，标记为不适用\n",
    "    no_plan = ~df['存在减持计划']\n",
    "    df.loc[no_plan, ['meu_4_1_subject', 'meu_4_1_condition', 'meu_4_1_constraint']] = pd.NA\n",
    "    df.loc[no_plan, 'meu_4_1_compliance'] = pd.NA\n",
    "    \n",
    "    return df"
   ]
  },
  {
   "cell_type": "markdown",
   "id": "610b6069",
   "metadata": {},
   "source": [
    "---"
   ]
  },
  {
   "cell_type": "markdown",
   "id": "ccab346b",
   "metadata": {},
   "source": [
    "## MEU_4_7"
   ]
  },
  {
   "cell_type": "markdown",
   "id": "155b0a1a",
   "metadata": {},
   "source": [
    "\n",
    "| 字段 | 内容 |\n",
    "|------|------|\n",
    "| subject | 上市公司大股东 | 董监高 |\n",
    "| condition | 披露减持计划 |\n",
    "| constraint | 每次披露的减持计划中减持时间区间不得超过3个月 |\n",
    "| contextual_info | nan |\n",
    "| note | nan |\n",
    "| relation | nan |\n",
    "| target | nan |\n",
    "| type | 实际执行单元 |\n",
    "| comments | nan |\n",
    "| prompt_tokens | 1414 |\n",
    "| completion_tokens | 620 |\n"
   ]
  },
  {
   "cell_type": "markdown",
   "id": "3110f57c",
   "metadata": {},
   "source": [
    "### 推理内容"
   ]
  },
  {
   "cell_type": "markdown",
   "id": "e19c6be3",
   "metadata": {},
   "source": [
    "reasoning content not found"
   ]
  },
  {
   "cell_type": "markdown",
   "id": "702c3c15",
   "metadata": {},
   "source": [
    "### 代码实现"
   ]
  },
  {
   "cell_type": "code",
   "execution_count": null,
   "id": "f5f6885f",
   "metadata": {},
   "outputs": [],
   "source": [
    "import pandas as pd\n",
    "\n",
    "def check_meu_4_7(df):\n",
    "    '''\n",
    "    检查减持计划披露的时间区间是否符合不超过3个月的规定\n",
    "    \n",
    "    \"subject\": \"上市公司大股东 | 董监高\", \n",
    "    \"condition\": \"披露减持计划\", \n",
    "    \"constraint\": \"每次披露的减持计划中减持时间区间不得超过3个月\", \n",
    "    \"contextual_info\": NaN\n",
    "    \n",
    "    实现逻辑:\n",
    "    1. 首先识别符合subject要求的股东(大股东或董监高)\n",
    "    2. 然后检查是否存在减持计划披露(condition)\n",
    "    3. 最后验证减持计划的时间区间是否<=3个月(constraint)\n",
    "    '''\n",
    "    \n",
    "    # 初始化结果列\n",
    "    df['meu_4_7_subject'] = False\n",
    "    df['meu_4_7_condition'] = False\n",
    "    df['meu_4_7_constraint'] = False\n",
    "    df['meu_4_7_compliance'] = True  # 默认合规\n",
    "    \n",
    "    # 1. 验证subject: 大股东或董监高\n",
    "    is_major_shareholder = (\n",
    "        df['股东身份'].isin(['控股股东', '实际控制人', '持股5%以上股东']) |\n",
    "        (df['持股比例'] >= 0.05)\n",
    "    )\n",
    "    is_director = df['股东身份'].isin(['董监高', '离任董监高'])\n",
    "    valid_subject = is_major_shareholder | is_director\n",
    "    \n",
    "    # 2. 验证condition: 披露减持计划\n",
    "    valid_condition = df['存在减持计划']\n",
    "    \n",
    "    # 3. 验证constraint: 减持时间区间<=3个月\n",
    "    # 计算减持计划的时间区间(自然日)\n",
    "    df['减持区间天数'] = (df['计划结束日'] - df['计划开始日']).dt.days\n",
    "    valid_constraint = df['减持区间天数'] <= 90  # 3个月按90天计算\n",
    "    \n",
    "    # 标记各条件满足情况\n",
    "    df.loc[valid_subject, 'meu_4_7_subject'] = True\n",
    "    df.loc[valid_condition, 'meu_4_7_condition'] = True\n",
    "    df.loc[valid_constraint, 'meu_4_7_constraint'] = True\n",
    "    \n",
    "    # 判断违规情况: 满足主体和条件但不满足约束\n",
    "    is_violation = (\n",
    "        valid_subject & \n",
    "        valid_condition & \n",
    "        (~valid_constraint)\n",
    "    )\n",
    "    \n",
    "    # 标记违规行\n",
    "    df.loc[is_violation, 'meu_4_7_compliance'] = False\n",
    "    \n",
    "    # 添加违规原因说明\n",
    "    df.loc[is_violation, 'meu_4_7_violation_reason'] = '减持计划时间区间超过3个月'\n",
    "    \n",
    "    return df"
   ]
  },
  {
   "cell_type": "markdown",
   "id": "09014f9d",
   "metadata": {},
   "source": [
    "---"
   ]
  },
  {
   "cell_type": "markdown",
   "id": "4c029209",
   "metadata": {},
   "source": [
    "## MEU_4_8"
   ]
  },
  {
   "cell_type": "markdown",
   "id": "61a6227e",
   "metadata": {},
   "source": [
    "\n",
    "| 字段 | 内容 |\n",
    "|------|------|\n",
    "| subject | 上市公司大股东 | 董监高 |\n",
    "| condition | 拟在3个月内通过集中竞价交易减持股份的总数超过公司股份总数1% |\n",
    "| constraint | 应当在首次卖出的30个交易日前预先披露减持计划 |\n",
    "| contextual_info | nan |\n",
    "| note | nan |\n",
    "| relation | nan |\n",
    "| target | nan |\n",
    "| type | 实际执行单元 |\n",
    "| comments | nan |\n",
    "| prompt_tokens | 1429 |\n",
    "| completion_tokens | 897 |\n"
   ]
  },
  {
   "cell_type": "markdown",
   "id": "d79e43cc",
   "metadata": {},
   "source": [
    "### 推理内容"
   ]
  },
  {
   "cell_type": "markdown",
   "id": "0dae1580",
   "metadata": {},
   "source": [
    "reasoning content not found"
   ]
  },
  {
   "cell_type": "markdown",
   "id": "b4cde0fd",
   "metadata": {},
   "source": [
    "### 代码实现"
   ]
  },
  {
   "cell_type": "code",
   "execution_count": null,
   "id": "8098d762",
   "metadata": {},
   "outputs": [],
   "source": [
    "import pandas as pd\n",
    "\n",
    "def check_meu_4_8(df):\n",
    "    '''\n",
    "    检查MEU_4_8合规性:\n",
    "    \"subject\": \"上市公司大股东 | 董监高\", \n",
    "    \"condition\": \"拟在3个月内通过集中竞价交易减持股份的总数超过公司股份总数1%\", \n",
    "    \"constraint\": \"应当在首次卖出的30个交易日前预先披露减持计划\", \n",
    "    \"contextual_info\": NaN\n",
    "    \n",
    "    实现逻辑:\n",
    "    1. 首先验证subject是否符合要求(大股东或董监高)\n",
    "    2. 然后验证condition是否符合(3个月内通过集中竞价减持超过1%)\n",
    "    3. 最后验证constraint是否符合(提前30个交易日披露)\n",
    "    4. 标记各条件满足情况并判断是否违规\n",
    "    '''\n",
    "    \n",
    "    # 初始化结果列\n",
    "    df['meu_4_8_subject'] = False\n",
    "    df['meu_4_8_condition'] = False\n",
    "    df['meu_4_8_constraint'] = False\n",
    "    df['meu_4_8_compliance'] = True  # 默认合规\n",
    "    \n",
    "    # 1. 验证subject条件 (大股东或董监高)\n",
    "    is_major_shareholder = (\n",
    "        df['股东身份'].isin(['控股股东', '实际控制人', '持股5%以上股东']) |\n",
    "        (df['持股比例'] >= 0.05)\n",
    "    )\n",
    "    is_director = df['股东身份'].isin(['董监高'])\n",
    "    valid_subject = is_major_shareholder | is_director\n",
    "    df.loc[valid_subject, 'meu_4_8_subject'] = True\n",
    "    \n",
    "    # 2. 验证condition条件 (3个月内通过集中竞价减持超过1%)\n",
    "    # 需要按公司和股东分组计算未来3个月(约63个交易日)的计划减持比例\n",
    "    df_grouped = df.groupby(['公司简称', '股东'])\n",
    "    \n",
    "    # 计算每个减持计划在未来3个月内的累计减持比例\n",
    "    df['未来3个月累计减持比例'] = 0.0\n",
    "    \n",
    "    for name, group in df_grouped:\n",
    "        # 对每个股东在公司中的记录按日期排序\n",
    "        group = group.sort_values('日期')\n",
    "        \n",
    "        # 计算每个日期后63个交易日的窗口\n",
    "        for idx, row in group.iterrows():\n",
    "            if not row['存在减持计划']:\n",
    "                continue\n",
    "                \n",
    "            start_date = row['日期']\n",
    "            end_date = start_date + pd.Timedelta(days=90)  # 近似3个月\n",
    "            \n",
    "            # 计算该计划在未来3个月的累计减持比例\n",
    "            mask = (\n",
    "                (group['日期'] >= start_date) & \n",
    "                (group['日期'] <= end_date) &\n",
    "                (group['减持方式'] == '竞价交易')\n",
    "            )\n",
    "            total_reduction = group.loc[mask, '计划减持比例'].sum()\n",
    "            \n",
    "            df.loc[idx, '未来3个月累计减持比例'] = total_reduction\n",
    "    \n",
    "    # 条件判断: 存在减持计划且未来3个月集中竞价减持超过1%\n",
    "    valid_condition = (\n",
    "        df['存在减持计划'] & \n",
    "        (df['减持方式'] == '竞价交易') & \n",
    "        (df['未来3个月累计减持比例'] > 0.01)\n",
    "    )\n",
    "    df.loc[valid_condition, 'meu_4_8_condition'] = True\n",
    "    \n",
    "    # 3. 验证constraint条件 (提前30个交易日披露)\n",
    "    # 计算计划披露日与计划开始日之间的交易日差\n",
    "    df['交易日差'] = (df['计划开始日'] - df['计划披露日']).dt.days\n",
    "    valid_constraint = df['交易日差'] >= 30\n",
    "    df.loc[valid_constraint, 'meu_4_8_constraint'] = True\n",
    "    \n",
    "    # 判断违规情况: 满足主体和条件但不满足约束\n",
    "    is_violation = (\n",
    "        valid_subject & \n",
    "        valid_condition & \n",
    "        (~valid_constraint)\n",
    "    )\n",
    "    df.loc[is_violation, 'meu_4_8_compliance'] = False\n",
    "    \n",
    "    return df"
   ]
  },
  {
   "cell_type": "markdown",
   "id": "ce970f77",
   "metadata": {},
   "source": [
    "---"
   ]
  },
  {
   "cell_type": "markdown",
   "id": "b927ea2c",
   "metadata": {},
   "source": [
    "# Law Article 9"
   ]
  },
  {
   "cell_type": "markdown",
   "id": "b2361fae",
   "metadata": {},
   "source": [
    "## MEU_9_1"
   ]
  },
  {
   "cell_type": "markdown",
   "id": "391b693c",
   "metadata": {},
   "source": [
    "\n",
    "| 字段 | 内容 |\n",
    "|------|------|\n",
    "| subject | 控股股东 | 实际控制人 | 董监高 |\n",
    "| condition | 公司上市时未盈利且处于实现盈利前阶段 |\n",
    "| constraint | 自公司股票上市之日起2个完整会计年度内不得减持公开发行并上市前股份 |\n",
    "| contextual_info | nan |\n",
    "| note | nan |\n",
    "| relation | nan |\n",
    "| target | nan |\n",
    "| type | 实际执行单元 |\n",
    "| comments | nan |\n",
    "| prompt_tokens | 1433 |\n",
    "| completion_tokens | 994 |\n"
   ]
  },
  {
   "cell_type": "markdown",
   "id": "60265436",
   "metadata": {},
   "source": [
    "### 推理内容"
   ]
  },
  {
   "cell_type": "markdown",
   "id": "bb3f6def",
   "metadata": {},
   "source": [
    "reasoning content not found"
   ]
  },
  {
   "cell_type": "markdown",
   "id": "ce8a7222",
   "metadata": {},
   "source": [
    "### 代码实现"
   ]
  },
  {
   "cell_type": "code",
   "execution_count": null,
   "id": "daf15949",
   "metadata": {},
   "outputs": [],
   "source": [
    "import pandas as pd\n",
    "\n",
    "def check_meu_9_1(df):\n",
    "    '''\n",
    "    检查控股股东、实际控制人或董监高在公司上市时未盈利且处于实现盈利前阶段时，\n",
    "    自公司股票上市之日起2个完整会计年度内不得减持公开发行并上市前股份的合规性\n",
    "    \n",
    "    \"subject\": \"控股股东 | 实际控制人 | 董监高\", \n",
    "    \"condition\": \"公司上市时未盈利且处于实现盈利前阶段\", \n",
    "    \"constraint\": \"自公司股票上市之日起2个完整会计年度内不得减持公开发行并上市前股份\", \n",
    "    \"contextual_info\": NaN\n",
    "    '''\n",
    "    \n",
    "    # 初始化结果列\n",
    "    df['meu_9_1_subject'] = False\n",
    "    df['meu_9_1_condition'] = False\n",
    "    df['meu_9_1_constraint'] = False\n",
    "    df['meu_9_1_compliance'] = True  # 默认合规\n",
    "    \n",
    "    # 1. 验证subject条件：控股股东、实际控制人或董监高\n",
    "    is_controlling = df['股东身份'].isin(['控股股东', '实际控制人'])\n",
    "    is_director = df['股东身份'].isin(['董监高'])\n",
    "    valid_subject = is_controlling | is_director\n",
    "    \n",
    "    # 2. 验证condition条件：公司上市时未盈利且处于实现盈利前阶段\n",
    "    # 2.1 找出每个公司的上市日期和发行价\n",
    "    company_info = df.groupby('公司简称').agg({\n",
    "        '上市日期': 'first',\n",
    "        '每股净利润': 'first'\n",
    "    }).reset_index()\n",
    "    company_info.rename(columns={'每股净利润': '上市时每股净利润'}, inplace=True)\n",
    "    \n",
    "    # 2.2 合并回原DataFrame\n",
    "    df = pd.merge(df, company_info, on='公司简称', how='left')\n",
    "    \n",
    "    # 2.3 判断公司上市时是否未盈利（每股净利润<=0）\n",
    "    unprofitable_at_ipo = df['上市时每股净利润'] <= 0\n",
    "    \n",
    "    # 2.4 判断当前是否仍处于实现盈利前阶段（当前每股净利润<=0）\n",
    "    still_unprofitable = df['每股净利润'] <= 0\n",
    "    \n",
    "    valid_condition = unprofitable_at_ipo & still_unprofitable\n",
    "    \n",
    "    # 3. 验证constraint条件：自上市之日起2个完整会计年度内不得减持\n",
    "    # 3.1 计算当前日期与上市日期的年份差\n",
    "    df['上市年限'] = (df['日期'].dt.year - df['上市日期'].dt.year)\n",
    "    \n",
    "    # 3.2 考虑完整会计年度（需要跨过12月31日）\n",
    "    # 如果当前月份已经超过上市月份，则已满完整年度\n",
    "    full_years_passed = (df['日期'].dt.year - df['上市日期'].dt.year) \n",
    "    full_years_passed = full_years_passed - ((df['日期'].dt.month < df['上市日期'].dt.month) | \n",
    "                                           ((df['日期'].dt.month == df['上市日期'].dt.month) & \n",
    "                                            (df['日期'].dt.day < df['上市日期'].dt.day)))\n",
    "    \n",
    "    # 3.3 判断是否在2个完整会计年度内\n",
    "    within_2_years = full_years_passed < 2\n",
    "    \n",
    "    # 3.4 判断是否有减持行为（当日减持比例>0）\n",
    "    has_reduction = df['当日减持比例'] > 0\n",
    "    \n",
    "    # 约束条件：如果在2年内减持了股份，则违反约束\n",
    "    valid_constraint = ~(within_2_years & has_reduction)\n",
    "    \n",
    "    # 标记各条件满足情况\n",
    "    df.loc[valid_subject, 'meu_9_1_subject'] = True\n",
    "    df.loc[valid_condition, 'meu_9_1_condition'] = True\n",
    "    df.loc[valid_constraint, 'meu_9_1_constraint'] = True\n",
    "    \n",
    "    # 判断违规情况：满足主体和条件但不满足约束\n",
    "    is_violation = (\n",
    "        valid_subject & \n",
    "        valid_condition & \n",
    "        (~valid_constraint)\n",
    "    )\n",
    "    \n",
    "    # 标记违规行\n",
    "    df.loc[is_violation, 'meu_9_1_compliance'] = False\n",
    "    \n",
    "    # 清理临时列\n",
    "    df.drop(['上市时每股净利润', '上市年限'], axis=1, inplace=True, errors='ignore')\n",
    "    \n",
    "    return df"
   ]
  },
  {
   "cell_type": "markdown",
   "id": "06f77ba9",
   "metadata": {},
   "source": [
    "---"
   ]
  },
  {
   "cell_type": "markdown",
   "id": "3a379813",
   "metadata": {},
   "source": [
    "## MEU_9_3"
   ]
  },
  {
   "cell_type": "markdown",
   "id": "49863041",
   "metadata": {},
   "source": [
    "\n",
    "| 字段 | 内容 |\n",
    "|------|------|\n",
    "| subject | 董监高 |\n",
    "| condition | 在前款规定的2个完整会计年度期间内离职 |\n",
    "| constraint | 应当继续遵守前款规定的减持限制 |\n",
    "| contextual_info | nan |\n",
    "| note | nan |\n",
    "| relation | refer_to |\n",
    "| target | MEU_9_1 |\n",
    "| type | 实际执行单元 |\n",
    "| comments | nan |\n",
    "| prompt_tokens | 1413 |\n",
    "| completion_tokens | 828 |\n"
   ]
  },
  {
   "cell_type": "markdown",
   "id": "a0a583d9",
   "metadata": {},
   "source": [
    "### 推理内容"
   ]
  },
  {
   "cell_type": "markdown",
   "id": "eb3e6c10",
   "metadata": {},
   "source": [
    "reasoning content not found"
   ]
  },
  {
   "cell_type": "markdown",
   "id": "3d3af1fd",
   "metadata": {},
   "source": [
    "### 代码实现"
   ]
  },
  {
   "cell_type": "code",
   "execution_count": null,
   "id": "6a0e9e91",
   "metadata": {},
   "outputs": [],
   "source": [
    "import pandas as pd\n",
    "\n",
    "def check_meu_9_3(df):\n",
    "    '''\n",
    "    检查MEU_9_3合规性:\n",
    "    \"subject\": \"董监高\", \n",
    "    \"condition\": \"在前款规定的2个完整会计年度期间内离职\", \n",
    "    \"constraint\": \"应当继续遵守前款规定的减持限制\", \n",
    "    \"contextual_info\": NaN\n",
    "    \n",
    "    实现逻辑:\n",
    "    1. subject: 检查是否为董监高或离任董监高\n",
    "    2. condition: 检查是否在离职后2个完整会计年度内\n",
    "    3. constraint: 检查是否遵守减持限制(假设前款规定的减持限制是指董监高减持限制)\n",
    "    '''\n",
    "    \n",
    "    # 初始化结果列\n",
    "    df['meu_9_3_subject'] = False\n",
    "    df['meu_9_3_condition'] = False\n",
    "    df['meu_9_3_constraint'] = False\n",
    "    df['meu_9_3_compliance'] = True  # 默认合规\n",
    "    \n",
    "    # 1. 检查subject条件 - 董监高或离任董监高\n",
    "    is_director = df['股东身份'].isin(['董监高', '离任董监高'])\n",
    "    df.loc[is_director, 'meu_9_3_subject'] = True\n",
    "    \n",
    "    # 2. 检查condition条件 - 在离职后2个完整会计年度内\n",
    "    # 获取每个公司的会计年度信息(假设会计年度是自然年)\n",
    "    df['会计年度'] = df['日期'].dt.year\n",
    "    \n",
    "    # 对每个股东计算离职日期和2个完整会计年度后的截止日期\n",
    "    grouped = df.groupby(['公司简称', '股东'])\n",
    "    \n",
    "    for (company, shareholder), group in grouped:\n",
    "        # 获取该股东的离任日期(如果有)\n",
    "        leave_dates = group['离任日期'].dropna()\n",
    "        if not leave_dates.empty:\n",
    "            leave_date = leave_dates.iloc[0]  # 取第一个离任日期\n",
    "            leave_year = leave_date.year\n",
    "            \n",
    "            # 计算2个完整会计年度后的截止日期(离职当年+2年)\n",
    "            cutoff_date = pd.Timestamp(year=leave_year + 2, month=12, day=31)\n",
    "            \n",
    "            # 标记在离职后2个会计年度内的记录\n",
    "            in_period = (group['日期'] > leave_date) & (group['日期'] <= cutoff_date)\n",
    "            df.loc[in_period.index, 'meu_9_3_condition'] = True\n",
    "    \n",
    "    # 3. 检查constraint条件 - 遵守减持限制\n",
    "    # 假设董监高减持限制是: 每年减持不超过25%的持股量\n",
    "    # 我们需要检查离任董监高是否遵守同样的限制\n",
    "    \n",
    "    # 首先计算每个股东在每个会计年度的累计减持比例\n",
    "    df['会计年度减持累计'] = df.groupby(['公司简称', '股东', '会计年度'])['当日减持比例'].cumsum()\n",
    "    \n",
    "    # 标记违反减持限制的记录(减持超过25%)\n",
    "    violates_limit = df['会计年度减持累计'] > 0.25\n",
    "    df.loc[violates_limit, 'meu_9_3_constraint'] = False\n",
    "    df.loc[~violates_limit, 'meu_9_3_constraint'] = True\n",
    "    \n",
    "    # 判断违规情况: 满足主体和条件但不满足约束\n",
    "    is_violation = (\n",
    "        df['meu_9_3_subject'] & \n",
    "        df['meu_9_3_condition'] & \n",
    "        (~df['meu_9_3_constraint'])\n",
    "    )\n",
    "    \n",
    "    # 标记违规行\n",
    "    df.loc[is_violation, 'meu_9_3_compliance'] = False\n",
    "    \n",
    "    return df"
   ]
  },
  {
   "cell_type": "markdown",
   "id": "b1a708db",
   "metadata": {},
   "source": [
    "---"
   ]
  },
  {
   "cell_type": "markdown",
   "id": "00e79e4b",
   "metadata": {},
   "source": [
    "# Law Article 10"
   ]
  },
  {
   "cell_type": "markdown",
   "id": "6c7fecc6",
   "metadata": {},
   "source": [
    "## MEU_10_1"
   ]
  },
  {
   "cell_type": "markdown",
   "id": "8100499b",
   "metadata": {},
   "source": [
    "\n",
    "| 字段 | 内容 |\n",
    "|------|------|\n",
    "| subject | 上市公司大股东 |\n",
    "| condition | 因涉嫌与本上市公司有关的证券期货违法犯罪，在被中国证监会及其派出机构立案调查或者被司法机关立案侦查期间 |\n",
    "| constraint | 不得减持其所持有的本公司股份 |\n",
    "| contextual_info | nan |\n",
    "| note | nan |\n",
    "| relation | nan |\n",
    "| target | nan |\n",
    "| type | 实际执行单元 |\n",
    "| comments | nan |\n",
    "| prompt_tokens | 1423 |\n",
    "| completion_tokens | 933 |\n"
   ]
  },
  {
   "cell_type": "markdown",
   "id": "513e8665",
   "metadata": {},
   "source": [
    "### 推理内容"
   ]
  },
  {
   "cell_type": "markdown",
   "id": "8574e7ff",
   "metadata": {},
   "source": [
    "reasoning content not found"
   ]
  },
  {
   "cell_type": "markdown",
   "id": "41eeb2a8",
   "metadata": {},
   "source": [
    "### 代码实现"
   ]
  },
  {
   "cell_type": "code",
   "execution_count": null,
   "id": "d2e23658",
   "metadata": {},
   "outputs": [],
   "source": [
    "import pandas as pd\n",
    "\n",
    "def check_meu_10_1(df):\n",
    "    '''\n",
    "    检查上市公司大股东在被立案调查或侦查期间是否违规减持股份\n",
    "    \n",
    "    法律要求:\n",
    "    \"subject\": \"上市公司大股东\", \n",
    "    \"condition\": \"因涉嫌与本上市公司有关的证券期货违法犯罪，在被中国证监会及其派出机构立案调查或者被司法机关立案侦查期间\", \n",
    "    \"constraint\": \"不得减持其所持有的本公司股份\", \n",
    "    \"contextual_info\": NaN\n",
    "    \n",
    "    检查逻辑:\n",
    "    1. 主体条件: 必须是上市公司大股东(包括控股股东、实际控制人或持股5%以上股东)\n",
    "    2. 状态条件: 因涉嫌与本公司有关的证券期货违法犯罪被立案调查/侦查期间\n",
    "    3. 约束条件: 在此期间不得减持股份\n",
    "    '''\n",
    "    \n",
    "    # 初始化结果列\n",
    "    df['meu_10_1_subject'] = False\n",
    "    df['meu_10_1_condition'] = False\n",
    "    df['meu_10_1_constraint'] = True  # 默认满足约束(未减持)\n",
    "    df['meu_10_1_compliance'] = True   # 默认合规\n",
    "    \n",
    "    # 1. 检查主体条件: 上市公司大股东\n",
    "    is_major_shareholder = (\n",
    "        df['股东身份'].isin(['控股股东', '实际控制人', '持股5%以上股东']) |\n",
    "        (df['持股比例'] >= 0.05)\n",
    "    )\n",
    "    df.loc[is_major_shareholder, 'meu_10_1_subject'] = True\n",
    "    \n",
    "    # 2. 检查状态条件: 被立案调查/侦查期间\n",
    "    # 获取与本公司相关的调查/侦查事件\n",
    "    investigation_events = [\n",
    "        '被中国证监会及其派出机构立案调查',\n",
    "        '被司法机关立案侦查'\n",
    "    ]\n",
    "    \n",
    "    # 结束事件\n",
    "    investigation_end_events = [\n",
    "        '中国证监会及其派出机构立案调查结束',\n",
    "        '司法机关立案侦查结束'\n",
    "    ]\n",
    "    \n",
    "    # 按公司和股东分组，标记调查期间\n",
    "    def mark_investigation_period(group):\n",
    "        # 按日期排序\n",
    "        group = group.sort_values('日期')\n",
    "        \n",
    "        # 初始化调查状态列\n",
    "        group['under_investigation'] = False\n",
    "        \n",
    "        # 记录最近的调查开始和结束日期\n",
    "        current_start = None\n",
    "        \n",
    "        for idx, row in group.iterrows():\n",
    "            # 如果遇到新的调查开始事件\n",
    "            if row['股东涉嫌证券期货违法犯罪事件'] in investigation_events:\n",
    "                current_start = row['日期']\n",
    "                group.loc[idx, 'under_investigation'] = True\n",
    "            # 如果遇到调查结束事件且之前有调查\n",
    "            elif (current_start is not None and \n",
    "                  row['股东涉嫌证券期货违法犯罪事件'] in investigation_end_events):\n",
    "                # 标记从start到当前日期为调查期间\n",
    "                mask = (group['日期'] >= current_start) & (group['日期'] <= row['日期'])\n",
    "                group.loc[mask, 'under_investigation'] = True\n",
    "                current_start = None\n",
    "            # 如果当前处于调查期间\n",
    "            elif current_start is not None:\n",
    "                group.loc[idx, 'under_investigation'] = True\n",
    "                \n",
    "        return group\n",
    "    \n",
    "    # 按公司和股东分组处理\n",
    "    df = df.groupby(['公司简称', '股东'], group_keys=False).apply(mark_investigation_period)\n",
    "    \n",
    "    # 标记满足条件的情况\n",
    "    df.loc[df['under_investigation'], 'meu_10_1_condition'] = True\n",
    "    \n",
    "    # 3. 检查约束条件: 调查期间不得减持\n",
    "    # 检查是否有减持行为 (当日减持比例 > 0)\n",
    "    has_reduced = df['当日减持比例'] > 0\n",
    "    \n",
    "    # 标记违规减持情况 (满足主体和条件但减持了)\n",
    "    violation = (\n",
    "        is_major_shareholder & \n",
    "        df['under_investigation'] & \n",
    "        has_reduced\n",
    "    )\n",
    "    \n",
    "    df.loc[violation, 'meu_10_1_constraint'] = False\n",
    "    df.loc[violation, 'meu_10_1_compliance'] = False\n",
    "    \n",
    "    # 清理临时列\n",
    "    df.drop('under_investigation', axis=1, inplace=True, errors='ignore')\n",
    "    \n",
    "    return df"
   ]
  },
  {
   "cell_type": "markdown",
   "id": "8401a5e2",
   "metadata": {},
   "source": [
    "---"
   ]
  },
  {
   "cell_type": "markdown",
   "id": "214d6c64",
   "metadata": {},
   "source": [
    "## MEU_10_2"
   ]
  },
  {
   "cell_type": "markdown",
   "id": "7914d400",
   "metadata": {},
   "source": [
    "\n",
    "| 字段 | 内容 |\n",
    "|------|------|\n",
    "| subject | 上市公司大股东 |\n",
    "| condition | 因涉嫌与本上市公司有关的证券期货违法犯罪被中国证监会及其派出机构立案调查或者被司法机关立案侦查，在行政处罚决定、刑事判决作出之后未满6个月 |\n",
    "| constraint | 不得减持其所持有的本公司股份 |\n",
    "| contextual_info | nan |\n",
    "| note | nan |\n",
    "| relation | nan |\n",
    "| target | nan |\n",
    "| type | 实际执行单元 |\n",
    "| comments | nan |\n",
    "| prompt_tokens | 1434 |\n",
    "| completion_tokens | 846 |\n"
   ]
  },
  {
   "cell_type": "markdown",
   "id": "af2007dd",
   "metadata": {},
   "source": [
    "### 推理内容"
   ]
  },
  {
   "cell_type": "markdown",
   "id": "3368c1a1",
   "metadata": {},
   "source": [
    "reasoning content not found"
   ]
  },
  {
   "cell_type": "markdown",
   "id": "cd241e11",
   "metadata": {},
   "source": [
    "### 代码实现"
   ]
  },
  {
   "cell_type": "code",
   "execution_count": null,
   "id": "27883b69",
   "metadata": {},
   "outputs": [],
   "source": [
    "import pandas as pd\n",
    "\n",
    "def check_meu_10_2(df):\n",
    "    '''\n",
    "    检查MEU_10_2合规性:\n",
    "    \"subject\": \"上市公司大股东\", \n",
    "    \"condition\": \"因涉嫌与本上市公司有关的证券期货违法犯罪被中国证监会及其派出机构立案调查或者被司法机关立案侦查，在行政处罚决定、刑事判决作出之后未满6个月\", \n",
    "    \"constraint\": \"不得减持其所持有的本公司股份\", \n",
    "    \"contextual_info\": NaN\n",
    "    \n",
    "    合规性逻辑:\n",
    "    1. subject: 必须是上市公司大股东(控股股东/实际控制人/持股5%以上股东)\n",
    "    2. condition: 因涉嫌证券期货违法犯罪被立案调查/侦查，且在行政处罚/刑事判决后未满6个月\n",
    "    3. constraint: 不得减持股份\n",
    "    '''\n",
    "\n",
    "    # 初始化结果列\n",
    "    df['meu_10_2_subject'] = False\n",
    "    df['meu_10_2_condition'] = False\n",
    "    df['meu_10_2_constraint'] = True  # 默认满足约束(未减持)\n",
    "    df['meu_10_2_compliance'] = True  # 默认合规\n",
    "\n",
    "    # 1. 验证subject: 上市公司大股东\n",
    "    is_major_shareholder = (\n",
    "        df['股东身份'].isin(['控股股东', '实际控制人', '持股5%以上股东']) |\n",
    "        (df['持股比例'] >= 0.05)\n",
    "    )\n",
    "    df.loc[is_major_shareholder, 'meu_10_2_subject'] = True\n",
    "\n",
    "    # 2. 验证condition: 被立案调查/侦查且在处罚后6个月内\n",
    "    # 先按股东分组处理时间序列条件\n",
    "    grouped = df.groupby(['公司简称', '股东'])\n",
    "    \n",
    "    # 记录每个股东最近一次处罚日期\n",
    "    penalty_dates = pd.Series(index=df.index, dtype='datetime64[ns]')\n",
    "    \n",
    "    for (company, shareholder), group in grouped:\n",
    "        # 获取该股东所有相关事件\n",
    "        events = group['股东涉嫌证券期货违法犯罪事件'].dropna()\n",
    "        \n",
    "        # 找出最近的行政处罚/刑事判决日期\n",
    "        last_penalty = None\n",
    "        penalty_flags = events.isin(['行政处罚决定作出'])\n",
    "        \n",
    "        if penalty_flags.any():\n",
    "            last_penalty = group.loc[penalty_flags.idxmax(), '日期']\n",
    "        \n",
    "        # 标记该股东在处罚后6个月内的所有日期\n",
    "        if last_penalty is not None:\n",
    "            mask = (group['日期'] >= last_penalty) & \\\n",
    "                   (group['日期'] <= last_penalty + pd.DateOffset(months=6))\n",
    "            penalty_dates.loc[mask.index] = last_penalty\n",
    "    \n",
    "    # 合并回原DataFrame\n",
    "    df['最近处罚日期'] = penalty_dates\n",
    "    \n",
    "    # 条件满足: 有处罚日期且在6个月内\n",
    "    has_condition = ~df['最近处罚日期'].isna()\n",
    "    df.loc[has_condition, 'meu_10_2_condition'] = True\n",
    "\n",
    "    # 3. 验证constraint: 不得减持\n",
    "    # 检查当日是否有减持行为(通过减持比例或减持数量判断)\n",
    "    is_reducing = (\n",
    "        (df['当日减持比例'] > 0) |  # 当日有减持比例\n",
    "        (df['减持方式'].notna())    # 当日有减持方式记录\n",
    "    )\n",
    "    df.loc[is_reducing, 'meu_10_2_constraint'] = False\n",
    "\n",
    "    # 判断违规情况: 满足主体和条件但不满足约束(即违规减持)\n",
    "    is_violation = (\n",
    "        is_major_shareholder & \n",
    "        has_condition & \n",
    "        is_reducing\n",
    "    )\n",
    "    df.loc[is_violation, 'meu_10_2_compliance'] = False\n",
    "\n",
    "    return df"
   ]
  },
  {
   "cell_type": "markdown",
   "id": "10b89e37",
   "metadata": {},
   "source": [
    "---"
   ]
  },
  {
   "cell_type": "markdown",
   "id": "161470c4",
   "metadata": {},
   "source": [
    "## MEU_10_3"
   ]
  },
  {
   "cell_type": "markdown",
   "id": "8f8cfa4e",
   "metadata": {},
   "source": [
    "\n",
    "| 字段 | 内容 |\n",
    "|------|------|\n",
    "| subject | 上市公司大股东 |\n",
    "| condition | 因涉及与本上市公司有关的违法违规，被本所公开谴责未满3个月 |\n",
    "| constraint | 不得减持其所持有的本公司股份 |\n",
    "| contextual_info | nan |\n",
    "| note | nan |\n",
    "| relation | nan |\n",
    "| target | nan |\n",
    "| type | 实际执行单元 |\n",
    "| comments | nan |\n",
    "| prompt_tokens | 1416 |\n",
    "| completion_tokens | 909 |\n"
   ]
  },
  {
   "cell_type": "markdown",
   "id": "9eda5262",
   "metadata": {},
   "source": [
    "### 推理内容"
   ]
  },
  {
   "cell_type": "markdown",
   "id": "5e9e6c41",
   "metadata": {},
   "source": [
    "reasoning content not found"
   ]
  },
  {
   "cell_type": "markdown",
   "id": "10c74636",
   "metadata": {},
   "source": [
    "### 代码实现"
   ]
  },
  {
   "cell_type": "code",
   "execution_count": null,
   "id": "29450014",
   "metadata": {},
   "outputs": [],
   "source": [
    "import pandas as pd\n",
    "\n",
    "def check_meu_10_3(df):\n",
    "    '''\n",
    "    检查MEU_10_3合规性:\n",
    "    \"subject\": \"上市公司大股东\", \n",
    "    \"condition\": \"因涉及与本上市公司有关的违法违规，被本所公开谴责未满3个月\", \n",
    "    \"constraint\": \"不得减持其所持有的本公司股份\", \n",
    "    \"contextual_info\": NaN\n",
    "    \n",
    "    合规性检查逻辑:\n",
    "    1. subject: 必须是上市公司大股东(控股股东/实际控制人/持股5%以上股东)\n",
    "    2. condition: 该股东因涉及与本公司有关的违法违规被本所公开谴责未满3个月\n",
    "    3. constraint: 在满足上述条件时不得减持股份\n",
    "    '''\n",
    "    \n",
    "    # 初始化结果列\n",
    "    df['meu_10_3_subject'] = False\n",
    "    df['meu_10_3_condition'] = False\n",
    "    df['meu_10_3_constraint'] = True  # 默认满足约束(未减持)\n",
    "    df['meu_10_3_compliance'] = True  # 默认合规\n",
    "    \n",
    "    # 1. 检查subject条件: 上市公司大股东\n",
    "    is_major_shareholder = (\n",
    "        df['股东身份'].isin(['控股股东', '实际控制人', '持股5%以上股东']) |\n",
    "        (df['持股比例'] >= 0.05)\n",
    "    )\n",
    "    df.loc[is_major_shareholder, 'meu_10_3_subject'] = True\n",
    "    \n",
    "    # 2. 检查condition条件: 被本所公开谴责未满3个月\n",
    "    # 先找出所有被公开谴责的记录\n",
    "    condemned = df[df['股东涉嫌证券期货违法犯罪事件'] == '被本所公开谴责']\n",
    "    \n",
    "    # 按股东分组，找出每个股东最近一次被谴责的日期\n",
    "    if not condemned.empty:\n",
    "        last_condemn_dates = condemned.groupby(['公司简称', '股东'])['日期'].max().reset_index()\n",
    "        last_condemn_dates.columns = ['公司简称', '股东', '最后谴责日期']\n",
    "        \n",
    "        # 合并回原数据框\n",
    "        df = pd.merge(df, last_condemn_dates, on=['公司简称', '股东'], how='left')\n",
    "        \n",
    "        # 计算谴责日期与当前日期的月份差\n",
    "        df['谴责月份差'] = (df['日期'] - df['最后谴责日期']).dt.days / 30\n",
    "        \n",
    "        # 条件满足: 有谴责记录且未满3个月\n",
    "        has_condemn = ~df['最后谴责日期'].isna()\n",
    "        within_3months = df['谴责月份差'] < 3\n",
    "        valid_condition = has_condemn & within_3months\n",
    "        \n",
    "        df.loc[valid_condition, 'meu_10_3_condition'] = True\n",
    "        \n",
    "        # 3. 检查constraint条件: 不得减持\n",
    "        # 减持行为判断: 当日减持比例 > 0 或 累计减持比例增加\n",
    "        # 需要按股东分组检查减持情况\n",
    "        df['减持行为'] = False\n",
    "        \n",
    "        # 按股东分组处理\n",
    "        for (company, shareholder), group in df.groupby(['公司简称', '股东']):\n",
    "            # 计算每日减持比例变化\n",
    "            group = group.sort_values('日期')\n",
    "            group['减持比例变化'] = group['累计减持比例'].diff().fillna(0)\n",
    "            \n",
    "            # 标记有减持行为的日期\n",
    "            has_reduced = (group['当日减持比例'] > 0) | (group['减持比例变化'] > 0)\n",
    "            df.loc[has_reduced.index, '减持行为'] = has_reduced\n",
    "            \n",
    "        # 约束违反: 满足subject和condition但有减持行为\n",
    "        violation = is_major_shareholder & valid_condition & df['减持行为']\n",
    "        df.loc[violation, 'meu_10_3_constraint'] = False\n",
    "        df.loc[violation, 'meu_10_3_compliance'] = False\n",
    "        \n",
    "        # 清理临时列\n",
    "        df = df.drop(columns=['最后谴责日期', '谴责月份差', '减持行为'], errors='ignore')\n",
    "    \n",
    "    return df"
   ]
  },
  {
   "cell_type": "markdown",
   "id": "ab8b940b",
   "metadata": {},
   "source": [
    "---"
   ]
  },
  {
   "cell_type": "markdown",
   "id": "47c64374",
   "metadata": {},
   "source": [
    "## MEU_10_4"
   ]
  },
  {
   "cell_type": "markdown",
   "id": "5ce7b265",
   "metadata": {},
   "source": [
    "\n",
    "| 字段 | 内容 |\n",
    "|------|------|\n",
    "| subject | 上市公司大股东 |\n",
    "| condition | 因涉及证券期货违法，被中国证监会行政处罚且罚没款尚未足额缴纳，且不存在法律、行政法规另有规定或减持资金用于缴纳罚没款的情形 |\n",
    "| constraint | 不得减持其所持有的本公司股份 |\n",
    "| contextual_info | nan |\n",
    "| note | nan |\n",
    "| relation | nan |\n",
    "| target | nan |\n",
    "| type | 实际执行单元 |\n",
    "| comments | nan |\n",
    "| prompt_tokens | 1435 |\n",
    "| completion_tokens | 604 |\n"
   ]
  },
  {
   "cell_type": "markdown",
   "id": "48de0dda",
   "metadata": {},
   "source": [
    "### 推理内容"
   ]
  },
  {
   "cell_type": "markdown",
   "id": "2d8eb010",
   "metadata": {},
   "source": [
    "reasoning content not found"
   ]
  },
  {
   "cell_type": "markdown",
   "id": "2458382e",
   "metadata": {},
   "source": [
    "### 代码实现"
   ]
  },
  {
   "cell_type": "code",
   "execution_count": null,
   "id": "6a2f1da7",
   "metadata": {},
   "outputs": [],
   "source": [
    "import pandas as pd\n",
    "\n",
    "def check_meu_10_4(df):\n",
    "    '''\n",
    "    检查上市公司大股东在被证监会行政处罚且罚没款未足额缴纳时不得减持股份的合规性\n",
    "    \n",
    "    参数:\n",
    "        df: 包含公司和股东信息的DataFrame\n",
    "        \n",
    "    返回:\n",
    "        添加了合规性检查结果的DataFrame\n",
    "    \n",
    "    法律要求:\n",
    "        \"subject\": \"上市公司大股东\", \n",
    "        \"condition\": \"因涉及证券期货违法，被中国证监会行政处罚且罚没款尚未足额缴纳，且不存在法律、行政法规另有规定或减持资金用于缴纳罚没款的情形\", \n",
    "        \"constraint\": \"不得减持其所持有的本公司股份\", \n",
    "        \"contextual_info\": NaN\n",
    "    '''\n",
    "    \n",
    "    # 初始化结果列\n",
    "    df['meu_10_4_subject'] = False\n",
    "    df['meu_10_4_condition'] = False\n",
    "    df['meu_10_4_constraint'] = True  # 默认满足约束(即不减持)\n",
    "    df['meu_10_4_compliance'] = True  # 默认合规\n",
    "    \n",
    "    # 1. 验证subject: 上市公司大股东\n",
    "    # 大股东包括控股股东、实际控制人或持股5%以上股东\n",
    "    is_major_shareholder = (\n",
    "        df['股东身份'].isin(['控股股东', '实际控制人']) |\n",
    "        (df['持股比例'] >= 0.05)\n",
    "    )\n",
    "    df.loc[is_major_shareholder, 'meu_10_4_subject'] = True\n",
    "    \n",
    "    # 2. 验证condition: 被行政处罚且罚没款未缴纳且无例外情形\n",
    "    # 假设\"行政处罚决定作出\"表示已被行政处罚\n",
    "    penalized = df['股东涉嫌证券期货违法犯罪事件'] == '行政处罚决定作出'\n",
    "    \n",
    "    # 假设没有\"罚没款已足额缴纳\"的标记字段，这里简化处理为只要被处罚就认为未缴纳\n",
    "    # 且假设没有例外情形(没有相关字段)\n",
    "    df.loc[is_major_shareholder & penalized, 'meu_10_4_condition'] = True\n",
    "    \n",
    "    # 3. 验证constraint: 不得减持股份\n",
    "    # 检查是否有减持行为(当日减持比例>0)\n",
    "    is_selling = df['当日减持比例'] > 0\n",
    "    \n",
    "    # 对于满足主体和条件的股东，如果减持则违反约束\n",
    "    violation = (\n",
    "        df['meu_10_4_subject'] & \n",
    "        df['meu_10_4_condition'] & \n",
    "        is_selling\n",
    "    )\n",
    "    df.loc[violation, 'meu_10_4_constraint'] = False\n",
    "    df.loc[violation, 'meu_10_4_compliance'] = False\n",
    "    \n",
    "    return df"
   ]
  },
  {
   "cell_type": "markdown",
   "id": "44e74f71",
   "metadata": {},
   "source": [
    "---"
   ]
  },
  {
   "cell_type": "markdown",
   "id": "50521bd5",
   "metadata": {},
   "source": [
    "# Law Article 11"
   ]
  },
  {
   "cell_type": "markdown",
   "id": "af933ec9",
   "metadata": {},
   "source": [
    "## MEU_11_1"
   ]
  },
  {
   "cell_type": "markdown",
   "id": "d28aaf39",
   "metadata": {},
   "source": [
    "\n",
    "| 字段 | 内容 |\n",
    "|------|------|\n",
    "| subject | 上市公司控股股东 | 实际控制人 |\n",
    "| condition | 上市公司因涉嫌证券期货违法犯罪，在被中国证监会及其派出机构立案调查或者被司法机关立案侦查期间 |\n",
    "| constraint | 不得减持其所持有的本公司股份 |\n",
    "| contextual_info | nan |\n",
    "| note | nan |\n",
    "| relation | nan |\n",
    "| target | nan |\n",
    "| type | 实际执行单元 |\n",
    "| comments | nan |\n",
    "| prompt_tokens | 1426 |\n",
    "| completion_tokens | 944 |\n"
   ]
  },
  {
   "cell_type": "markdown",
   "id": "837cbe41",
   "metadata": {},
   "source": [
    "### 推理内容"
   ]
  },
  {
   "cell_type": "markdown",
   "id": "b4e30931",
   "metadata": {},
   "source": [
    "reasoning content not found"
   ]
  },
  {
   "cell_type": "markdown",
   "id": "9df66b2d",
   "metadata": {},
   "source": [
    "### 代码实现"
   ]
  },
  {
   "cell_type": "code",
   "execution_count": null,
   "id": "976f10d3",
   "metadata": {},
   "outputs": [],
   "source": [
    "import pandas as pd\n",
    "\n",
    "def check_meu_11_1(df):\n",
    "    '''\n",
    "    检查上市公司控股股东或实际控制人在公司涉嫌证券期货违法犯罪期间减持股份的合规性\n",
    "    \n",
    "    \"subject\": \"上市公司控股股东 | 实际控制人\", \n",
    "    \"condition\": \"上市公司因涉嫌证券期货违法犯罪，在被中国证监会及其派出机构立案调查或者被司法机关立案侦查期间\", \n",
    "    \"constraint\": \"不得减持其所持有的本公司股份\", \n",
    "    \"contextual_info\": NaN\n",
    "    \n",
    "    实现逻辑：\n",
    "    1. subject检查：股东身份是控股股东或实际控制人\n",
    "    2. condition检查：公司处于被立案调查或侦查期间\n",
    "    3. constraint检查：在condition满足期间没有减持行为\n",
    "    '''\n",
    "    \n",
    "    # 初始化结果列\n",
    "    df['meu_11_1_subject'] = False\n",
    "    df['meu_11_1_condition'] = False\n",
    "    df['meu_11_1_constraint'] = True  # 默认满足约束（没有减持）\n",
    "    df['meu_11_1_compliance'] = True  # 默认合规\n",
    "    \n",
    "    # 1. 检查subject条件：控股股东或实际控制人\n",
    "    valid_subject = df['股东身份'].isin(['控股股东', '实际控制人'])\n",
    "    df.loc[valid_subject, 'meu_11_1_subject'] = True\n",
    "    \n",
    "    # 2. 检查condition条件：公司处于被立案调查或侦查期间\n",
    "    # 定义违法犯罪事件开始和结束的标志\n",
    "    investigation_start = df['公司涉嫌证券期货违法犯罪事件'].isin([\n",
    "        '被中国证监会及其派出机构立案调查', \n",
    "        '被司法机关立案侦查'\n",
    "    ])\n",
    "    investigation_end = df['公司涉嫌证券期货违法犯罪事件'].isin([\n",
    "        '中国证监会及其派出机构立案调查结束',\n",
    "        '司法机关立案侦查结束',\n",
    "        '行政处罚决定作出'\n",
    "    ])\n",
    "    \n",
    "    # 按公司分组，标记调查期间\n",
    "    df['investigation_start'] = investigation_start\n",
    "    df['investigation_end'] = investigation_end\n",
    "    \n",
    "    # 为每个公司创建调查期间标记\n",
    "    def mark_investigation_period(group):\n",
    "        # 找出所有调查开始和结束的日期\n",
    "        starts = group[group['investigation_start']]['日期']\n",
    "        ends = group[group['investigation_end']]['日期']\n",
    "        \n",
    "        # 如果没有开始事件，直接返回全False\n",
    "        if len(starts) == 0:\n",
    "            group['in_investigation'] = False\n",
    "            return group\n",
    "        \n",
    "        # 按时间排序开始和结束事件\n",
    "        starts = starts.sort_values()\n",
    "        ends = ends.sort_values()\n",
    "        \n",
    "        # 创建时间段列表\n",
    "        periods = []\n",
    "        current_start = None\n",
    "        \n",
    "        for date in group['日期']:\n",
    "            # 检查是否在某个调查期间内\n",
    "            in_period = False\n",
    "            for i in range(len(starts)):\n",
    "                # 如果有开始没有对应的结束，则一直持续\n",
    "                if i >= len(ends) or starts.iloc[i] > ends.iloc[i]:\n",
    "                    if date >= starts.iloc[i]:\n",
    "                        in_period = True\n",
    "                        break\n",
    "                else:\n",
    "                    if starts.iloc[i] <= date <= ends.iloc[i]:\n",
    "                        in_period = True\n",
    "                        break\n",
    "            \n",
    "            group.loc[group['日期'] == date, 'in_investigation'] = in_period\n",
    "        \n",
    "        return group\n",
    "    \n",
    "    # 按公司分组应用标记函数\n",
    "    df = df.groupby('公司简称', group_keys=False).apply(mark_investigation_period)\n",
    "    \n",
    "    valid_condition = df['in_investigation']\n",
    "    df.loc[valid_condition, 'meu_11_1_condition'] = True\n",
    "    \n",
    "    # 3. 检查constraint条件：在调查期间没有减持\n",
    "    # 减持行为定义为当日减持比例 > 0\n",
    "    has_reduction = df['当日减持比例'] > 0\n",
    "    \n",
    "    # 违规情况：满足subject和condition但有减持行为\n",
    "    violation = valid_subject & valid_condition & has_reduction\n",
    "    df.loc[violation, 'meu_11_1_constraint'] = False\n",
    "    df.loc[violation, 'meu_11_1_compliance'] = False\n",
    "    \n",
    "    # 清理临时列\n",
    "    df = df.drop(columns=['investigation_start', 'investigation_end', 'in_investigation'])\n",
    "    \n",
    "    return df"
   ]
  },
  {
   "cell_type": "markdown",
   "id": "9ba7a40b",
   "metadata": {},
   "source": [
    "---"
   ]
  },
  {
   "cell_type": "markdown",
   "id": "c0618dd7",
   "metadata": {},
   "source": [
    "## MEU_11_2"
   ]
  },
  {
   "cell_type": "markdown",
   "id": "afc0922f",
   "metadata": {},
   "source": [
    "\n",
    "| 字段 | 内容 |\n",
    "|------|------|\n",
    "| subject | 上市公司控股股东 | 实际控制人 |\n",
    "| condition | 上市公司因涉嫌证券期货违法犯罪被中国证监会及其派出机构立案调查或者被司法机关立案侦查，在行政处罚决定、刑事判决作出之后未满6个月的 |\n",
    "| constraint | 不得减持其所持有的本公司股份 |\n",
    "| contextual_info | nan |\n",
    "| note | nan |\n",
    "| relation | nan |\n",
    "| target | nan |\n",
    "| type | 实际执行单元 |\n",
    "| comments | nan |\n",
    "| prompt_tokens | 1437 |\n",
    "| completion_tokens | 744 |\n"
   ]
  },
  {
   "cell_type": "markdown",
   "id": "0d4d0185",
   "metadata": {},
   "source": [
    "### 推理内容"
   ]
  },
  {
   "cell_type": "markdown",
   "id": "d3ae5001",
   "metadata": {},
   "source": [
    "reasoning content not found"
   ]
  },
  {
   "cell_type": "markdown",
   "id": "5cbbb3c1",
   "metadata": {},
   "source": [
    "### 代码实现"
   ]
  },
  {
   "cell_type": "code",
   "execution_count": null,
   "id": "ab586b44",
   "metadata": {},
   "outputs": [],
   "source": [
    "import pandas as pd\n",
    "\n",
    "def check_meu_11_2(df):\n",
    "    '''\n",
    "    检查MEU_11_2合规性:\n",
    "    \"subject\": \"上市公司控股股东 | 实际控制人\", \n",
    "    \"condition\": \"上市公司因涉嫌证券期货违法犯罪被中国证监会及其派出机构立案调查或者被司法机关立案侦查，在行政处罚决定、刑事判决作出之后未满6个月的\", \n",
    "    \"constraint\": \"不得减持其所持有的本公司股份\", \n",
    "    \"contextual_info\": NaN\n",
    "    \n",
    "    实现逻辑:\n",
    "    1. subject: 检查是否为控股股东或实际控制人\n",
    "    2. condition: 检查公司是否在行政处罚/刑事判决后6个月内\n",
    "    3. constraint: 检查是否有减持行为\n",
    "    4. 违规情况: 满足subject和condition但不满足constraint(即在此期间减持)\n",
    "    '''\n",
    "    \n",
    "    # 初始化结果列\n",
    "    df['meu_11_2_subject'] = False\n",
    "    df['meu_11_2_condition'] = False\n",
    "    df['meu_11_2_constraint'] = True  # 默认满足约束(即没有减持)\n",
    "    df['meu_11_2_compliance'] = True  # 默认合规\n",
    "    \n",
    "    # 1. 检查subject条件: 控股股东或实际控制人\n",
    "    is_controlling_shareholder = df['股东身份'].isin(['控股股东', '实际控制人'])\n",
    "    df['meu_11_2_subject'] = is_controlling_shareholder\n",
    "    \n",
    "    # 2. 检查condition条件: 公司在处罚/判决后6个月内\n",
    "    # 先找出公司所有处罚/判决日期\n",
    "    penalty_dates = df[df['公司涉嫌证券期货违法犯罪事件'].isin(['行政处罚决定作出'])]['日期'].unique()\n",
    "    \n",
    "    # 对每个公司分组处理\n",
    "    grouped = df.groupby('公司简称')\n",
    "    \n",
    "    for company, group in grouped:\n",
    "        # 获取该公司所有处罚日期\n",
    "        company_penalty_dates = penalty_dates[penalty_dates.isin(group['日期'])]\n",
    "        \n",
    "        # 对每个处罚日期，计算6个月内的日期范围\n",
    "        for penalty_date in company_penalty_dates:\n",
    "            six_months_after = penalty_date + pd.DateOffset(months=6)\n",
    "            condition_mask = (group['日期'] >= penalty_date) & (group['日期'] < six_months_after)\n",
    "            \n",
    "            # 标记condition满足的行\n",
    "            df.loc[condition_mask.index, 'meu_11_2_condition'] = True\n",
    "    \n",
    "    # 3. 检查constraint条件: 是否有减持行为\n",
    "    # 减持行为定义为: 当日减持比例 > 0 或 累计减持比例增加\n",
    "    has_reduction = (df['当日减持比例'] > 0) | (df.groupby(['公司简称', '股东'])['累计减持比例'].diff() > 0)\n",
    "    df.loc[has_reduction, 'meu_11_2_constraint'] = False\n",
    "    \n",
    "    # 4. 判断违规情况: 满足subject和condition但不满足constraint\n",
    "    is_violation = (\n",
    "        df['meu_11_2_subject'] & \n",
    "        df['meu_11_2_condition'] & \n",
    "        (~df['meu_11_2_constraint'])\n",
    "    )\n",
    "    \n",
    "    df.loc[is_violation, 'meu_11_2_compliance'] = False\n",
    "    \n",
    "    return df"
   ]
  },
  {
   "cell_type": "markdown",
   "id": "1353d25a",
   "metadata": {},
   "source": [
    "---"
   ]
  },
  {
   "cell_type": "markdown",
   "id": "36dc7e29",
   "metadata": {},
   "source": [
    "## MEU_11_3"
   ]
  },
  {
   "cell_type": "markdown",
   "id": "5ae6267c",
   "metadata": {},
   "source": [
    "\n",
    "| 字段 | 内容 |\n",
    "|------|------|\n",
    "| subject | 上市公司控股股东 | 实际控制人 |\n",
    "| condition | 上市公司被本所公开谴责未满3个月 |\n",
    "| constraint | 不得减持其所持有的本公司股份 |\n",
    "| contextual_info | nan |\n",
    "| note | nan |\n",
    "| relation | nan |\n",
    "| target | nan |\n",
    "| type | 实际执行单元 |\n",
    "| comments | nan |\n",
    "| prompt_tokens | 1415 |\n",
    "| completion_tokens | 682 |\n"
   ]
  },
  {
   "cell_type": "markdown",
   "id": "1b24be13",
   "metadata": {},
   "source": [
    "### 推理内容"
   ]
  },
  {
   "cell_type": "markdown",
   "id": "f1c962e9",
   "metadata": {},
   "source": [
    "reasoning content not found"
   ]
  },
  {
   "cell_type": "markdown",
   "id": "aa87ac74",
   "metadata": {},
   "source": [
    "### 代码实现"
   ]
  },
  {
   "cell_type": "code",
   "execution_count": null,
   "id": "5093d7e5",
   "metadata": {},
   "outputs": [],
   "source": [
    "import pandas as pd\n",
    "\n",
    "def check_meu_11_3(df):\n",
    "    '''\n",
    "    检查MEU_11_3合规性:\n",
    "    \"subject\": \"上市公司控股股东 | 实际控制人\", \n",
    "    \"condition\": \"上市公司被本所公开谴责未满3个月\", \n",
    "    \"constraint\": \"不得减持其所持有的本公司股份\"\n",
    "    \n",
    "    参数:\n",
    "    df - 包含公司和股东信息的DataFrame\n",
    "    \n",
    "    返回:\n",
    "    标注合规性后的DataFrame\n",
    "    '''\n",
    "    \n",
    "    # 初始化结果列\n",
    "    df['meu_11_3_subject'] = False\n",
    "    df['meu_11_3_condition'] = False\n",
    "    df['meu_11_3_constraint'] = False\n",
    "    df['meu_11_3_compliance'] = True  # 默认合规\n",
    "    \n",
    "    # 1. 验证subject: 控股股东或实际控制人\n",
    "    is_controlling_shareholder = df['股东身份'].isin(['控股股东', '实际控制人'])\n",
    "    df['meu_11_3_subject'] = is_controlling_shareholder\n",
    "    \n",
    "    # 2. 验证condition: 公司被公开谴责未满3个月\n",
    "    # 先找出公司被公开谴责的日期\n",
    "    condemned_companies = df[df['公司涉嫌证券期货违法犯罪事件'] == '被本所公开谴责']\n",
    "    \n",
    "    if not condemned_companies.empty:\n",
    "        # 对每个公司计算谴责后3个月的日期\n",
    "        for company in condemned_companies['公司简称'].unique():\n",
    "            # 获取该公司最近一次被谴责的日期\n",
    "            last_condemn_date = condemned_companies[condemned_companies['公司简称'] == company]['日期'].max()\n",
    "            # 计算3个月后的日期\n",
    "            three_months_later = last_condemn_date + pd.DateOffset(months=3)\n",
    "            \n",
    "            # 标记该公司在谴责后3个月内的日期\n",
    "            company_mask = (\n",
    "                (df['公司简称'] == company) & \n",
    "                (df['日期'] >= last_condemn_date) & \n",
    "                (df['日期'] <= three_months_later)\n",
    "            )\n",
    "            df.loc[company_mask, 'meu_11_3_condition'] = True\n",
    "    \n",
    "    # 3. 验证constraint: 不得减持股份\n",
    "    # 减持行为定义为: 当日减持比例 > 0 或 存在减持计划\n",
    "    is_reducing = (df['当日减持比例'] > 0) | df['存在减持计划']\n",
    "    df['meu_11_3_constraint'] = ~is_reducing  # 约束是不得减持，所以不减持为True\n",
    "    \n",
    "    # 4. 综合判断合规性\n",
    "    # 违规情况: 满足主体和条件但违反约束(即减持)\n",
    "    violation_mask = (\n",
    "        df['meu_11_3_subject'] & \n",
    "        df['meu_11_3_condition'] & \n",
    "        (~df['meu_11_3_constraint'])  # 即减持了\n",
    "    )\n",
    "    df.loc[violation_mask, 'meu_11_3_compliance'] = False\n",
    "    \n",
    "    return df"
   ]
  },
  {
   "cell_type": "markdown",
   "id": "9fcc445c",
   "metadata": {},
   "source": [
    "---"
   ]
  },
  {
   "cell_type": "markdown",
   "id": "aa25ea70",
   "metadata": {},
   "source": [
    "## MEU_11_4"
   ]
  },
  {
   "cell_type": "markdown",
   "id": "6e984210",
   "metadata": {},
   "source": [
    "\n",
    "| 字段 | 内容 |\n",
    "|------|------|\n",
    "| subject | 上市公司控股股东 | 实际控制人 |\n",
    "| condition | 市公司股票因可能触及重大违法强制退市情形，而被本所实施退市风险警示，在本所规定的限制减持期限内的 |\n",
    "| constraint | 不得减持其所持有的本公司股份 |\n",
    "| contextual_info | nan |\n",
    "| note | nan |\n",
    "| relation | nan |\n",
    "| target | nan |\n",
    "| type | 实际执行单元 |\n",
    "| comments | nan |\n",
    "| prompt_tokens | 1434 |\n",
    "| completion_tokens | 507 |\n"
   ]
  },
  {
   "cell_type": "markdown",
   "id": "b29caafb",
   "metadata": {},
   "source": [
    "### 推理内容"
   ]
  },
  {
   "cell_type": "markdown",
   "id": "6af8181e",
   "metadata": {},
   "source": [
    "reasoning content not found"
   ]
  },
  {
   "cell_type": "markdown",
   "id": "0b1e76c1",
   "metadata": {},
   "source": [
    "### 代码实现"
   ]
  },
  {
   "cell_type": "code",
   "execution_count": null,
   "id": "9d58d17d",
   "metadata": {},
   "outputs": [],
   "source": [
    "import pandas as pd\n",
    "\n",
    "def check_meu_11_4(df):\n",
    "    '''\n",
    "    检查上市公司控股股东或实际控制人在公司股票因可能触及重大违法强制退市情形而被实施退市风险警示期间，\n",
    "    是否违反不得减持股份的规定。\n",
    "    \n",
    "    参数:\n",
    "        df: 包含公司和股东信息的DataFrame\n",
    "        \n",
    "    返回:\n",
    "        标注合规性后的DataFrame\n",
    "    '''\n",
    "    \n",
    "    # 初始化合规性检查列\n",
    "    df['meu_11_4_subject'] = False  # 主体是否符合\n",
    "    df['meu_11_4_condition'] = False  # 条件是否符合\n",
    "    df['meu_11_4_constraint'] = True  # 约束是否满足(默认满足)\n",
    "    df['meu_11_4_compliance'] = True  # 总体合规性(默认合规)\n",
    "    \n",
    "    # 1. 检查主体: 上市公司控股股东或实际控制人\n",
    "    is_controlling_shareholder = df['股东身份'].isin(['控股股东', '实际控制人'])\n",
    "    df.loc[is_controlling_shareholder, 'meu_11_4_subject'] = True\n",
    "    \n",
    "    # 2. 检查条件: 公司股票因可能触及重大违法强制退市情形而被实施退市风险警示\n",
    "    # 假设有列'退市风险警示状态'表示是否被实施退市风险警示\n",
    "    # 如果没有该列，可能需要从其他信息推断，这里假设存在该列\n",
    "    under_warning = df['公司涉嫌证券期货违法犯罪事件'] == '被中国证监会及其派出机构立案调查'\n",
    "    df.loc[under_warning, 'meu_11_4_condition'] = True\n",
    "    \n",
    "    # 3. 检查约束: 不得减持股份\n",
    "    # 检查是否有减持行为(当日减持比例>0)\n",
    "    has_reduction = df['当日减持比例'] > 0\n",
    "    df.loc[has_reduction, 'meu_11_4_constraint'] = False\n",
    "    \n",
    "    # 总体合规性: 满足主体和条件但不满足约束即为违规\n",
    "    is_violation = (\n",
    "        is_controlling_shareholder & \n",
    "        under_warning & \n",
    "        has_reduction\n",
    "    )\n",
    "    df.loc[is_violation, 'meu_11_4_compliance'] = False\n",
    "    \n",
    "    return df"
   ]
  },
  {
   "cell_type": "markdown",
   "id": "1dc644b9",
   "metadata": {},
   "source": [
    "---"
   ]
  },
  {
   "cell_type": "markdown",
   "id": "709df04e",
   "metadata": {},
   "source": [
    "# Law Article 12"
   ]
  },
  {
   "cell_type": "markdown",
   "id": "7ce4c5df",
   "metadata": {},
   "source": [
    "## MEU_12_1"
   ]
  },
  {
   "cell_type": "markdown",
   "id": "45caf174",
   "metadata": {},
   "source": [
    "\n",
    "| 字段 | 内容 |\n",
    "|------|------|\n",
    "| subject | 公开发行股票并上市时的控股股东 | 公开发行股票并上市时的实际控制人 |\n",
    "| condition | 计划通过集中竞价交易或大宗交易减持股份且首次披露减持计划, 且不存在已经按照本指引第四条披露减持计划，或者中国证监会另有规定的情况的 |\n",
    "| constraint | 不得存在下列情形：最近20个交易日内任一交易日股票收盘价低于公开发行股票并上市的发行价格 |\n",
    "| contextual_info | 股票收盘价以公开发行股票并上市之日为基准向后复权计算 |\n",
    "| note | 不考虑中国证监会另有规定的情况 |\n",
    "| relation | nan |\n",
    "| target | nan |\n",
    "| type | 实际执行单元 |\n",
    "| comments | nan |\n",
    "| prompt_tokens | 1490 |\n",
    "| completion_tokens | 1018 |\n"
   ]
  },
  {
   "cell_type": "markdown",
   "id": "b9acde7d",
   "metadata": {},
   "source": [
    "### 推理内容"
   ]
  },
  {
   "cell_type": "markdown",
   "id": "aeb0726e",
   "metadata": {},
   "source": [
    "reasoning content not found"
   ]
  },
  {
   "cell_type": "markdown",
   "id": "23d3bcc1",
   "metadata": {},
   "source": [
    "### 代码实现"
   ]
  },
  {
   "cell_type": "code",
   "execution_count": null,
   "id": "a33cc698",
   "metadata": {},
   "outputs": [],
   "source": [
    "import pandas as pd\n",
    "\n",
    "def check_meu_12_1(df):\n",
    "    \"\"\"\n",
    "    检查MEU_12_1合规性:\n",
    "    \"subject\": \"公开发行股票并上市时的控股股东 | 公开发行股票并上市时的实际控制人\",\n",
    "    \"condition\": \"计划通过集中竞价交易或大宗交易减持股份且首次披露减持计划, 且不存在已经按照本指引第四条披露减持计划，或者中国证监会另有规定的情况的\",\n",
    "    \"constraint\": \"不得存在下列情形：最近20个交易日内任一交易日股票收盘价低于公开发行股票并上市的发行价格\",\n",
    "    \"contextual_info\": \"股票收盘价以公开发行股票并上市之日为基准向后复权计算\"\n",
    "    \n",
    "    处理步骤:\n",
    "    1. 确定发行价格和发行时的控股股东/实际控制人\n",
    "    2. 验证subject条件\n",
    "    3. 验证condition条件\n",
    "    4. 验证constraint条件\n",
    "    5. 标记合规情况\n",
    "    \"\"\"\n",
    "    \n",
    "    # 初始化结果列\n",
    "    df['meu_12_1_subject'] = False\n",
    "    df['meu_12_1_condition'] = False\n",
    "    df['meu_12_1_constraint'] = True  # 默认满足约束(没有股价低于发行价)\n",
    "    df['meu_12_1_compliance'] = True  # 默认合规\n",
    "    \n",
    "    # 按公司和股东分组处理\n",
    "    grouped = df.groupby(['公司简称', '股东'])\n",
    "    \n",
    "    for (company, shareholder), group in grouped:\n",
    "        # 步骤1: 确定发行价格和发行时的股东身份\n",
    "        # 找到第一个非空的收盘价日期作为上市日期\n",
    "        first_trade_date = group['日期'].min()\n",
    "        issue_price = group.loc[group['日期'] == first_trade_date, '收盘价'].values[0]\n",
    "        \n",
    "        # 获取发行时的股东身份\n",
    "        initial_status = group.loc[group['日期'] == first_trade_date, '股东身份'].values[0]\n",
    "        \n",
    "        # 步骤2: 验证subject条件 - 必须是发行时的控股股东或实际控制人\n",
    "        is_subject = initial_status in ['控股股东', '实际控制人']\n",
    "        \n",
    "        # 步骤3: 验证condition条件\n",
    "        # 条件1: 减持方式是集中竞价或大宗交易\n",
    "        valid_trade_method = group['减持方式'].isin(['竞价交易', '大宗交易'])\n",
    "        \n",
    "        # 条件2: 是首次披露减持计划(即之前没有减持计划)\n",
    "        # 计算每个减持计划是否是首次\n",
    "        has_plan = group['存在减持计划']\n",
    "        first_plan_date = group.loc[has_plan, '日期'].min() if has_plan.any() else None\n",
    "        \n",
    "        # 标记首次披露的减持计划\n",
    "        is_first_plan = (group['日期'] == first_plan_date) if first_plan_date else False\n",
    "        \n",
    "        valid_condition = valid_trade_method & is_first_plan\n",
    "        \n",
    "        # 步骤4: 验证constraint条件\n",
    "        # 对于每个交易日，检查前20个交易日内是否有收盘价低于发行价\n",
    "        for idx, row in group.iterrows():\n",
    "            # 获取当前日期前20个交易日的收盘价\n",
    "            prev_20_days = group[\n",
    "                (group['日期'] <= row['日期']) & \n",
    "                (group['日期'] > row['日期'] - pd.Timedelta(days=20))\n",
    "            ]\n",
    "            \n",
    "            # 检查是否有任何收盘价低于发行价(考虑复权)\n",
    "            if not prev_20_days.empty:\n",
    "                # 计算复权后的收盘价(假设复权因子已经正确计算)\n",
    "                adjusted_prices = prev_20_days['收盘价'] * prev_20_days['复权因子']\n",
    "                price_below_issue = (adjusted_prices < issue_price).any()\n",
    "                \n",
    "                # 标记constraint满足情况\n",
    "                if price_below_issue:\n",
    "                    df.loc[idx, 'meu_12_1_constraint'] = False\n",
    "        \n",
    "        # 标记subject和condition满足情况\n",
    "        df.loc[group.index, 'meu_12_1_subject'] = is_subject\n",
    "        df.loc[group.index, 'meu_12_1_condition'] = valid_condition\n",
    "        \n",
    "    # 综合判断合规情况\n",
    "    # 违规情况: 满足subject和condition但不满足constraint\n",
    "    is_violation = (\n",
    "        df['meu_12_1_subject'] & \n",
    "        df['meu_12_1_condition'] & \n",
    "        (~df['meu_12_1_constraint'])\n",
    "    )\n",
    "    \n",
    "    df.loc[is_violation, 'meu_12_1_compliance'] = False\n",
    "    \n",
    "    return df"
   ]
  },
  {
   "cell_type": "markdown",
   "id": "50447bba",
   "metadata": {},
   "source": [
    "---"
   ]
  },
  {
   "cell_type": "markdown",
   "id": "141ef450",
   "metadata": {},
   "source": [
    "## MEU_12_2"
   ]
  },
  {
   "cell_type": "markdown",
   "id": "f741fd6b",
   "metadata": {},
   "source": [
    "\n",
    "| 字段 | 内容 |\n",
    "|------|------|\n",
    "| subject | 上市公司控股股东 | 实际控制人 | 一致行动人 |\n",
    "| condition | 计划通过集中竞价交易或大宗交易减持股份且首次披露减持计划, 且不存在已经按照本指引第四条披露减持计划，或者中国证监会另有规定的情况的 |\n",
    "| constraint | 不得存在下列情形：最近20个交易日内，上市公司任一交易日股票收盘价低于最近一个会计年度或者最近一期财务会计报告期末每股归属于上市公司股东的净资产 |\n",
    "| contextual_info | 股票收盘价以最近一个会计年度或者最近一期财务会计报告资产负债表日为基准分别向后复权计算 |\n",
    "| note | 不考虑中国证监会另有规定的情况 |\n",
    "| relation | nan |\n",
    "| target | nan |\n",
    "| type | 实际执行单元 |\n",
    "| comments | nan |\n",
    "| prompt_tokens | 1499 |\n",
    "| completion_tokens | 948 |\n"
   ]
  },
  {
   "cell_type": "markdown",
   "id": "df37a890",
   "metadata": {},
   "source": [
    "### 推理内容"
   ]
  },
  {
   "cell_type": "markdown",
   "id": "f2e95141",
   "metadata": {},
   "source": [
    "reasoning content not found"
   ]
  },
  {
   "cell_type": "markdown",
   "id": "8e583fe7",
   "metadata": {},
   "source": [
    "### 代码实现"
   ]
  },
  {
   "cell_type": "code",
   "execution_count": null,
   "id": "59111964",
   "metadata": {},
   "outputs": [],
   "source": [
    "import pandas as pd\n",
    "\n",
    "def check_meu_12_2(df):\n",
    "    '''\n",
    "    检查MEU_12_2合规性:\n",
    "    \"subject\": \"上市公司控股股东 | 实际控制人 | 一致行动人\", \n",
    "    \"condition\": \"计划通过集中竞价交易或大宗交易减持股份且首次披露减持计划, 且不存在已经按照本指引第四条披露减持计划，或者中国证监会另有规定的情况的\", \n",
    "    \"constraint\": \"不得存在下列情形：最近20个交易日内，上市公司任一交易日股票收盘价低于最近一个会计年度或者最近一期财务会计报告期末每股归属于上市公司股东的净资产\", \n",
    "    \"contextual_info\": \"股票收盘价以最近一个会计年度或者最近一期财务会计报告资产负债表日为基准分别向后复权计算\"\n",
    "    \n",
    "    不考虑中国证监会另有规定的情况\n",
    "    '''\n",
    "    \n",
    "    # 初始化结果列\n",
    "    df['meu_12_2_subject'] = False\n",
    "    df['meu_12_2_condition'] = False\n",
    "    df['meu_12_2_constraint'] = True  # 默认满足约束(没有股价低于净资产)\n",
    "    df['meu_12_2_compliance'] = True  # 默认合规\n",
    "    \n",
    "    # 1. 验证subject: 控股股东/实际控制人/一致行动人\n",
    "    valid_subject = df['股东身份'].isin(['控股股东', '实际控制人', '一致行动人'])\n",
    "    df.loc[valid_subject, 'meu_12_2_subject'] = True\n",
    "    \n",
    "    # 2. 验证condition: \n",
    "    # (1)减持方式是集中竞价或大宗交易\n",
    "    valid_trade_method = df['减持方式'].isin(['竞价交易', '大宗交易'])\n",
    "    # (2)是首次披露减持计划(不存在已经按照本指引第四条披露减持计划)\n",
    "    # 假设\"存在减持计划\"为True表示首次披露\n",
    "    valid_first_disclosure = df['存在减持计划'] \n",
    "    # 合并条件\n",
    "    valid_condition = valid_trade_method & valid_first_disclosure\n",
    "    df.loc[valid_condition, 'meu_12_2_condition'] = True\n",
    "    \n",
    "    # 3. 验证constraint: 最近20个交易日没有股价低于每股净资产\n",
    "    # 需要按公司和日期分组计算\n",
    "    \n",
    "    # 先复制一份数据用于计算\n",
    "    constraint_df = df[['日期', '公司简称', '收盘价', '每股净资产', '复权因子']].copy()\n",
    "    \n",
    "    # 计算复权后的收盘价和每股净资产\n",
    "    constraint_df['复权收盘价'] = constraint_df['收盘价'] * constraint_df['复权因子']\n",
    "    constraint_df['复权每股净资产'] = constraint_df['每股净资产'] * constraint_df['复权因子']\n",
    "    \n",
    "    # 对每个公司计算最近20个交易日是否有股价低于净资产\n",
    "    def check_price_below_na(group):\n",
    "        # 按日期排序\n",
    "        group = group.sort_values('日期')\n",
    "        # 计算滚动20个交易日内的最低股价是否低于净资产\n",
    "        group['20日最低价'] = group['复权收盘价'].rolling(20, min_periods=1).min()\n",
    "        group['最近每股净资产'] = group['复权每股净资产'].shift(1).ffill()\n",
    "        group['股价低于净资产'] = group['20日最低价'] < group['最近每股净资产']\n",
    "        return group\n",
    "    \n",
    "    # 按公司分组应用检查\n",
    "    constraint_df = constraint_df.groupby('公司简称').apply(check_price_below_na)\n",
    "    \n",
    "    # 合并回原DataFrame\n",
    "    df = df.merge(constraint_df[['日期', '公司简称', '股价低于净资产']], \n",
    "                 on=['日期', '公司简称'], how='left')\n",
    "    \n",
    "    # 标记constraint违规(存在股价低于净资产)\n",
    "    df.loc[df['股价低于净资产'], 'meu_12_2_constraint'] = False\n",
    "    \n",
    "    # 综合判断合规性: 满足主体和条件但不满足约束\n",
    "    is_violation = (\n",
    "        valid_subject & \n",
    "        valid_condition & \n",
    "        df['股价低于净资产']\n",
    "    )\n",
    "    \n",
    "    # 标记违规行\n",
    "    df.loc[is_violation, 'meu_12_2_compliance'] = False\n",
    "    \n",
    "    # 清理临时列\n",
    "    df.drop(columns=['股价低于净资产'], inplace=True, errors='ignore')\n",
    "    \n",
    "    return df"
   ]
  },
  {
   "cell_type": "markdown",
   "id": "81936d28",
   "metadata": {},
   "source": [
    "---"
   ]
  },
  {
   "cell_type": "markdown",
   "id": "380a52cc",
   "metadata": {},
   "source": [
    "## MEU_12_3"
   ]
  },
  {
   "cell_type": "markdown",
   "id": "df97cf5e",
   "metadata": {},
   "source": [
    "\n",
    "| 字段 | 内容 |\n",
    "|------|------|\n",
    "| subject | 上市公司控股股东 | 实际控制人 | 一致行动人 |\n",
    "| condition | 计划通过集中竞价交易或大宗交易减持股份且首次披露减持计划, 且不存在已经按照本指引第四条披露减持计划，或者中国证监会另有规定的情况的 |\n",
    "| constraint | 不得存在下列情形：上市公司最近一期经审计的财务报告的归属于上市公司股东的净利润为负 |\n",
    "| contextual_info | nan |\n",
    "| note | 不考虑中国证监会另有规定的情况 |\n",
    "| relation | nan |\n",
    "| target | nan |\n",
    "| type | 实际执行单元 |\n",
    "| comments | nan |\n",
    "| prompt_tokens | 1464 |\n",
    "| completion_tokens | 851 |\n"
   ]
  },
  {
   "cell_type": "markdown",
   "id": "10fe7b36",
   "metadata": {},
   "source": [
    "### 推理内容"
   ]
  },
  {
   "cell_type": "markdown",
   "id": "6d2721d1",
   "metadata": {},
   "source": [
    "reasoning content not found"
   ]
  },
  {
   "cell_type": "markdown",
   "id": "4cbff2eb",
   "metadata": {},
   "source": [
    "### 代码实现"
   ]
  },
  {
   "cell_type": "code",
   "execution_count": null,
   "id": "66fe280b",
   "metadata": {},
   "outputs": [],
   "source": [
    "import pandas as pd\n",
    "\n",
    "def check_meu_12_3(df):\n",
    "    '''\n",
    "    检查MEU_12_3合规性:\n",
    "    \"subject\": \"上市公司控股股东 | 实际控制人 | 一致行动人\", \n",
    "    \"condition\": \"计划通过集中竞价交易或大宗交易减持股份且首次披露减持计划, 且不存在已经按照本指引第四条披露减持计划，或者中国证监会另有规定的情况的\", \n",
    "    \"constraint\": \"不得存在下列情形：上市公司最近一期经审计的财务报告的归属于上市公司股东的净利润为负\", \n",
    "    \"contextual_info\": NaN\n",
    "    \n",
    "    处理逻辑:\n",
    "    1. 验证主体: 控股股东/实际控制人/一致行动人\n",
    "    2. 验证条件: 有减持计划且是首次披露(无历史披露记录)\n",
    "    3. 验证约束: 公司最近一期净利润不为负\n",
    "    '''\n",
    "    \n",
    "    # 初始化结果列\n",
    "    df['meu_12_3_subject'] = False\n",
    "    df['meu_12_3_condition'] = False\n",
    "    df['meu_12_3_constraint'] = False\n",
    "    df['meu_12_3_compliance'] = True  # 默认合规\n",
    "    \n",
    "    # 1. 验证subject: 控股股东/实际控制人/一致行动人\n",
    "    valid_subject = df['股东身份'].isin(['控股股东', '实际控制人', '一致行动人'])\n",
    "    df.loc[valid_subject, 'meu_12_3_subject'] = True\n",
    "    \n",
    "    # 2. 验证condition: \n",
    "    # (1)减持方式为集中竞价或大宗交易\n",
    "    valid_trade_type = df['减持方式'].isin(['竞价交易', '大宗交易'])\n",
    "    \n",
    "    # (2)首次披露减持计划(需要按股东分组检查是否为首次披露)\n",
    "    # 先按股东分组，标记每个股东的首次披露日\n",
    "    first_disclosure = df[df['存在减持计划']].groupby(['公司简称', '股东'])['计划披露日'].min().reset_index()\n",
    "    first_disclosure['is_first'] = True\n",
    "    \n",
    "    # 合并回原df\n",
    "    df = df.merge(first_disclosure, \n",
    "                 on=['公司简称', '股东', '计划披露日'],\n",
    "                 how='left',\n",
    "                 suffixes=('', '_first'))\n",
    "    \n",
    "    # 首次披露且当前有减持计划\n",
    "    valid_first_disclosure = (df['is_first'] == True) & df['存在减持计划']\n",
    "    \n",
    "    # 综合条件\n",
    "    valid_condition = valid_trade_type & valid_first_disclosure\n",
    "    df.loc[valid_condition, 'meu_12_3_condition'] = True\n",
    "    \n",
    "    # 3. 验证constraint: 最近一期净利润不为负\n",
    "    # 获取每个公司最近一期的净利润(按日期降序取第一个)\n",
    "    latest_financials = df.sort_values(['公司简称', '日期'], ascending=[True, False])\\\n",
    "                         .groupby('公司简称').first().reset_index()\n",
    "    \n",
    "    # 创建净利润是否为正的映射\n",
    "    profit_status = latest_financials[['公司简称', '净利润']].set_index('公司简称')['净利润'] >= 0\n",
    "    \n",
    "    # 合并回原df\n",
    "    df['latest_profit_positive'] = df['公司简称'].map(profit_status)\n",
    "    valid_constraint = df['latest_profit_positive']\n",
    "    df.loc[valid_constraint, 'meu_12_3_constraint'] = True\n",
    "    \n",
    "    # 判断违规情况: 满足主体和条件但不满足约束\n",
    "    is_violation = valid_subject & valid_condition & (~valid_constraint)\n",
    "    df.loc[is_violation, 'meu_12_3_compliance'] = False\n",
    "    \n",
    "    # 清理临时列\n",
    "    df.drop(['is_first', 'latest_profit_positive'], axis=1, inplace=True, errors='ignore')\n",
    "    \n",
    "    return df"
   ]
  },
  {
   "cell_type": "markdown",
   "id": "42d3c617",
   "metadata": {},
   "source": [
    "---"
   ]
  },
  {
   "cell_type": "markdown",
   "id": "0ab66764",
   "metadata": {},
   "source": [
    "## MEU_12_4"
   ]
  },
  {
   "cell_type": "markdown",
   "id": "85d85b2d",
   "metadata": {},
   "source": [
    "\n",
    "| 字段 | 内容 |\n",
    "|------|------|\n",
    "| subject | 控股股东 | 实际控制人（上市后不再具备相关主体身份的） |\n",
    "| condition | 计划通过集中竞价交易或大宗交易减持股份且首次披露减持计划, 且不存在已经按照本指引第四条披露减持计划，或者中国证监会另有规定的情况的 |\n",
    "| constraint | 不得存在下列情形：最近20个交易日内任一交易日股票收盘价低于公开发行股票并上市的发行价格 |\n",
    "| contextual_info | 股票收盘价以公开发行股票并上市之日为基准向后复权计算 |\n",
    "| note | 不考虑中国证监会另有规定的情况 |\n",
    "| relation | nan |\n",
    "| target | nan |\n",
    "| type | 实际执行单元 |\n",
    "| comments | nan |\n",
    "| prompt_tokens | 1487 |\n",
    "| completion_tokens | 1077 |\n"
   ]
  },
  {
   "cell_type": "markdown",
   "id": "f6ed9703",
   "metadata": {},
   "source": [
    "### 推理内容"
   ]
  },
  {
   "cell_type": "markdown",
   "id": "f22fa406",
   "metadata": {},
   "source": [
    "reasoning content not found"
   ]
  },
  {
   "cell_type": "markdown",
   "id": "1a0e1b7a",
   "metadata": {},
   "source": [
    "### 代码实现"
   ]
  },
  {
   "cell_type": "code",
   "execution_count": null,
   "id": "b5bc9bea",
   "metadata": {},
   "outputs": [],
   "source": [
    "import pandas as pd\n",
    "\n",
    "def check_meu_12_4(df):\n",
    "    '''\n",
    "    检查MEU_12_4合规性:\n",
    "    \"subject\": \"控股股东 | 实际控制人（上市后不再具备相关主体身份的）\", \n",
    "    \"condition\": \"计划通过集中竞价交易或大宗交易减持股份且首次披露减持计划, 且不存在已经按照本指引第四条披露减持计划，或者中国证监会另有规定的情况的\", \n",
    "    \"constraint\": \"不得存在下列情形：最近20个交易日内任一交易日股票收盘价低于公开发行股票并上市的发行价格\", \n",
    "    \"contextual_info\": \"股票收盘价以公开发行股票并上市之日为基准向后复权计算\"\n",
    "    \n",
    "    处理逻辑:\n",
    "    1. 识别符合条件的subject(控股股东或实际控制人，包括上市后不再具备相关身份的)\n",
    "    2. 检查condition(首次披露减持计划且通过集中竞价或大宗交易减持)\n",
    "    3. 验证constraint(最近20个交易日收盘价不低于发行价)\n",
    "    '''\n",
    "    \n",
    "    # 初始化结果列\n",
    "    df['meu_12_4_subject'] = False\n",
    "    df['meu_12_4_condition'] = False\n",
    "    df['meu_12_4_constraint'] = True  # 默认满足约束\n",
    "    df['meu_12_4_compliance'] = True  # 默认合规\n",
    "    \n",
    "    # 1. 验证subject条件 - 控股股东或实际控制人(包括上市后不再具备相关身份的)\n",
    "    is_controlling = df['股东身份'].isin(['控股股东', '实际控制人'])\n",
    "    \n",
    "    # 获取每个公司最早的上市日期和发行价格\n",
    "    company_info = df.groupby('公司简称').agg({\n",
    "        '上市日期': 'first',\n",
    "        '发行价格': 'first'\n",
    "    }).reset_index()\n",
    "    \n",
    "    # 合并发行信息到主表\n",
    "    df = pd.merge(df, company_info, on='公司简称', suffixes=('', '_company'))\n",
    "    \n",
    "    # 标记上市后不再具备相关身份的股东\n",
    "    # 假设股东如果在上市日期后不再是控股股东或实际控制人，但仍保留股东身份\n",
    "    # 这里简化处理：只要曾经是控股股东或实际控制人，且当前有持股\n",
    "    df['曾经是控股股东或实际控制人'] = (\n",
    "        (df['股东身份'].isin(['控股股东', '实际控制人'])) | \n",
    "        (df['股东'].isin(df[df['股东身份'].isin(['控股股东', '实际控制人'])]['股东'].unique()))\n",
    "    )\n",
    "    \n",
    "    valid_subject = is_controlling | df['曾经是控股股东或实际控制人']\n",
    "    \n",
    "    # 2. 验证condition条件\n",
    "    # 首次披露减持计划且通过集中竞价或大宗交易减持\n",
    "    # 计算是否是首次披露减持计划\n",
    "    df['减持计划序号'] = df.groupby(['公司简称', '股东'])['存在减持计划'].cumsum()\n",
    "    is_first_plan = df['减持计划序号'] == 1\n",
    "    \n",
    "    valid_condition = (\n",
    "        is_first_plan & \n",
    "        df['存在减持计划'] & \n",
    "        df['减持方式'].isin(['竞价交易', '大宗交易'])\n",
    "    )\n",
    "    \n",
    "    # 3. 验证constraint条件\n",
    "    # 最近20个交易日内任一交易日收盘价不低于发行价格\n",
    "    \n",
    "    # 计算复权后的收盘价 (假设复权因子已经正确计算)\n",
    "    df['复权收盘价'] = df['收盘价'] * df['复权因子']\n",
    "    \n",
    "    # 对每个公司和日期，检查前20个交易日的收盘价\n",
    "    for idx, row in df[valid_subject & valid_condition].iterrows():\n",
    "        company = row['公司简称']\n",
    "        date = row['日期']\n",
    "        issue_price = row['发行价格_company']\n",
    "        \n",
    "        # 获取该日期前20个交易日的收盘价\n",
    "        prev_prices = df[\n",
    "            (df['公司简称'] == company) & \n",
    "            (df['日期'] <= date) & \n",
    "            (df['日期'] > date - pd.Timedelta(days=20))\n",
    "        ]['复权收盘价']\n",
    "        \n",
    "        # 检查是否有任何一天的收盘价低于发行价\n",
    "        if not prev_prices.empty and (prev_prices < issue_price).any():\n",
    "            df.loc[idx, 'meu_12_4_constraint'] = False\n",
    "    \n",
    "    # 标记各条件满足情况\n",
    "    df.loc[valid_subject, 'meu_12_4_subject'] = True\n",
    "    df.loc[valid_condition, 'meu_12_4_condition'] = True\n",
    "    \n",
    "    # 判断违规情况：满足主体和条件但不满足约束\n",
    "    is_violation = (\n",
    "        valid_subject & \n",
    "        valid_condition & \n",
    "        (~df['meu_12_4_constraint'])\n",
    "    )\n",
    "    \n",
    "    # 标记违规行\n",
    "    df.loc[is_violation, 'meu_12_4_compliance'] = False\n",
    "    \n",
    "    return df"
   ]
  },
  {
   "cell_type": "markdown",
   "id": "0b45d7bb",
   "metadata": {},
   "source": [
    "---"
   ]
  },
  {
   "cell_type": "markdown",
   "id": "d1383a8a",
   "metadata": {},
   "source": [
    "## MEU_12_5"
   ]
  },
  {
   "cell_type": "markdown",
   "id": "d9fcae2d",
   "metadata": {},
   "source": [
    "\n",
    "| 字段 | 内容 |\n",
    "|------|------|\n",
    "| subject | 公开发行时持股5%以上的第一大股东 | 一致行动人 |\n",
    "| condition | 上市公司在公开发行股票并上市时披露为无控股股东、实际控制人, 且计划通过集中竞价交易或大宗交易减持股份且首次披露减持计划, 且不存在已经按照本指引第四条披露减持计划，或者中国证监会另有规定的情况的 |\n",
    "| constraint | 不得存在下列情形：最近20个交易日内任一交易日股票收盘价低于公开发行股票并上市的发行价格 |\n",
    "| contextual_info | 股票收盘价以公开发行股票并上市之日为基准向后复权计算 |\n",
    "| note | 不考虑中国证监会另有规定的情况 |\n",
    "| relation | nan |\n",
    "| target | nan |\n",
    "| type | 实际执行单元 |\n",
    "| comments | nan |\n",
    "| prompt_tokens | 1505 |\n",
    "| completion_tokens | 1075 |\n"
   ]
  },
  {
   "cell_type": "markdown",
   "id": "3b4a7883",
   "metadata": {},
   "source": [
    "### 推理内容"
   ]
  },
  {
   "cell_type": "markdown",
   "id": "99c6af3a",
   "metadata": {},
   "source": [
    "reasoning content not found"
   ]
  },
  {
   "cell_type": "markdown",
   "id": "2725898b",
   "metadata": {},
   "source": [
    "### 代码实现"
   ]
  },
  {
   "cell_type": "code",
   "execution_count": null,
   "id": "f2c7181a",
   "metadata": {},
   "outputs": [],
   "source": [
    "import pandas as pd\n",
    "\n",
    "def check_meu_12_5(df):\n",
    "    '''\n",
    "    检查MEU_12_5合规性:\n",
    "    \"subject\": \"公开发行时持股5%以上的第一大股东 | 一致行动人\",\n",
    "    \"condition\": \"上市公司在公开发行股票并上市时披露为无控股股东、实际控制人, 且计划通过集中竞价交易或大宗交易减持股份且首次披露减持计划, 且不存在已经按照本指引第四条披露减持计划，或者中国证监会另有规定的情况的\",\n",
    "    \"constraint\": \"不得存在下列情形：最近20个交易日内任一交易日股票收盘价低于公开发行股票并上市的发行价格\",\n",
    "    \"contextual_info\": \"股票收盘价以公开发行股票并上市之日为基准向后复权计算\"\n",
    "    '''\n",
    "    \n",
    "    # 初始化结果列\n",
    "    df['meu_12_5_subject'] = False\n",
    "    df['meu_12_5_condition'] = False\n",
    "    df['meu_12_5_constraint'] = True  # 默认满足约束(没有股价低于发行价)\n",
    "    df['meu_12_5_compliance'] = True  # 默认合规\n",
    "    \n",
    "    # 1. 验证subject条件: 公开发行时持股5%以上的第一大股东或一致行动人\n",
    "    # 获取每个公司公开发行时的第一大股东(持股比例最高)\n",
    "    first_day = df.groupby('公司简称')['日期'].transform('min') == df['日期']\n",
    "    major_shareholders = df[first_day & (df['持股比例'] >= 0.05)]\n",
    "    top_shareholders = major_shareholders.loc[major_shareholders.groupby('公司简称')['持股比例'].idxmax()]\n",
    "    \n",
    "    # 标记所有属于公开发行时第一大股东或一致行动人的行\n",
    "    is_top_shareholder = df['股东'].isin(top_shareholders['股东'])\n",
    "    is_major_shareholder = df['持股比例'] >= 0.05\n",
    "    valid_subject = is_top_shareholder | is_major_shareholder\n",
    "    \n",
    "    # 2. 验证condition条件:\n",
    "    # a) 公司披露为无控股股东、实际控制人\n",
    "    no_controller = ~df['股东身份'].isin(['控股股东', '实际控制人'])\n",
    "    \n",
    "    # b) 计划通过集中竞价或大宗交易减持且首次披露减持计划\n",
    "    valid_trade_type = df['减持方式'].isin(['竞价交易', '大宗交易'])\n",
    "    first_disclosure = df.groupby(['公司简称', '股东'])['存在减持计划'].cumsum() == 1\n",
    "    \n",
    "    # c) 不存在已经按照第四条披露减持计划的情况(假设第四条是MEU_4_1)\n",
    "    # 这里简化处理: 只要不是首次披露就认为不符合\n",
    "    valid_condition = no_controller & valid_trade_type & first_disclosure & df['存在减持计划']\n",
    "    \n",
    "    # 3. 验证constraint条件: 最近20个交易日内股价不低于发行价\n",
    "    # 计算复权后的收盘价(假设复权因子已经正确计算)\n",
    "    df['复权收盘价'] = df['收盘价'] * df['复权因子']\n",
    "    \n",
    "    # 获取发行价(每个公司最早的非空收盘价)\n",
    "    df['发行价'] = df.groupby('公司简称')['收盘价'].transform('first')\n",
    "    \n",
    "    # 对每个公司-股东组合,检查最近20个交易日是否有股价低于发行价\n",
    "    def check_price_constraint(group):\n",
    "        # 获取当前日期前20个交易日\n",
    "        current_date = group.name[2]  # 假设多级索引是(公司,股东,日期)\n",
    "        last_20 = (df['日期'] <= current_date) & (df['日期'] > current_date - pd.Timedelta(days=20))\n",
    "        company_stock = df[last_20 & (df['公司简称'] == group.name[0])]\n",
    "        has_low_price = (company_stock['复权收盘价'] < company_stock['发行价'].iloc[0]).any()\n",
    "        return has_low_price\n",
    "    \n",
    "    # 分组应用约束检查(优化性能,避免逐行检查)\n",
    "    grouped = df.groupby(['公司简称', '股东', '日期'])\n",
    "    price_violation = grouped.apply(check_price_constraint).reset_index(level=[0,1,2], drop=True)\n",
    "    df['meu_12_5_constraint'] = ~price_violation\n",
    "    \n",
    "    # 标记各条件满足情况\n",
    "    df.loc[valid_subject, 'meu_12_5_subject'] = True\n",
    "    df.loc[valid_condition, 'meu_12_5_condition'] = True\n",
    "    \n",
    "    # 判断违规情况: 满足主体和条件但不满足约束\n",
    "    is_violation = valid_subject & valid_condition & price_violation\n",
    "    df.loc[is_violation, 'meu_12_5_compliance'] = False\n",
    "    \n",
    "    return df"
   ]
  },
  {
   "cell_type": "markdown",
   "id": "469601d5",
   "metadata": {},
   "source": [
    "---"
   ]
  },
  {
   "cell_type": "markdown",
   "id": "f7a0f5b1",
   "metadata": {},
   "source": [
    "# Law Article 13"
   ]
  },
  {
   "cell_type": "markdown",
   "id": "0444f7cd",
   "metadata": {},
   "source": [
    "## MEU_13_2"
   ]
  },
  {
   "cell_type": "markdown",
   "id": "708166bf",
   "metadata": {},
   "source": [
    "\n",
    "| 字段 | 内容 |\n",
    "|------|------|\n",
    "| subject | 大股东 |\n",
    "| condition | 通过协议转让方式减持股份导致出让方不再具有大股东身份, 且处在减持后6个月内 |\n",
    "| constraint | 继续遵守本指引第四条规定 |\n",
    "| contextual_info | nan |\n",
    "| note | nan |\n",
    "| relation | should_include |\n",
    "| target | Law_4 |\n",
    "| type | 实际执行单元 |\n",
    "| comments | nan |\n",
    "| prompt_tokens | 1421 |\n",
    "| completion_tokens | 906 |\n"
   ]
  },
  {
   "cell_type": "markdown",
   "id": "531e2978",
   "metadata": {},
   "source": [
    "### 推理内容"
   ]
  },
  {
   "cell_type": "markdown",
   "id": "d53676eb",
   "metadata": {},
   "source": [
    "reasoning content not found"
   ]
  },
  {
   "cell_type": "markdown",
   "id": "90675a9b",
   "metadata": {},
   "source": [
    "### 代码实现"
   ]
  },
  {
   "cell_type": "code",
   "execution_count": null,
   "id": "1a92320c",
   "metadata": {},
   "outputs": [],
   "source": [
    "import pandas as pd\n",
    "\n",
    "def check_meu_13_2(df):\n",
    "    '''\n",
    "    检查MEU_13_2合规性:\n",
    "    \"subject\": \"大股东\", \n",
    "    \"condition\": \"通过协议转让方式减持股份导致出让方不再具有大股东身份, 且处在减持后6个月内\", \n",
    "    \"constraint\": \"继续遵守本指引第四条规定\", \n",
    "    \"contextual_info\": NaN\n",
    "    \n",
    "    处理逻辑:\n",
    "    1. 先识别大股东(持股5%以上)\n",
    "    2. 检查是否通过协议转让减持导致不再是大股东\n",
    "    3. 检查减持后6个月内是否遵守第四条(假设第四条是关于减持比例限制等)\n",
    "    '''\n",
    "    \n",
    "    # 初始化结果列\n",
    "    df['meu_13_2_subject'] = False\n",
    "    df['meu_13_2_condition'] = False\n",
    "    df['meu_13_2_constraint'] = False\n",
    "    df['meu_13_2_compliance'] = True\n",
    "    \n",
    "    # 1. 识别大股东 (持股5%以上或身份为持股5%以上股东)\n",
    "    is_major_shareholder = (\n",
    "        (df['持股比例'] >= 0.05) | \n",
    "        df['股东身份'].isin(['持股5%以上股东', '控股股东', '实际控制人'])\n",
    "    )\n",
    "    df.loc[is_major_shareholder, 'meu_13_2_subject'] = True\n",
    "    \n",
    "    # 2. 检查协议转让导致不再是大股东的条件\n",
    "    # 需要分组处理每个股东的状态变化\n",
    "    grouped = df.groupby(['公司简称', '股东'])\n",
    "    \n",
    "    for (company, shareholder), group in grouped:\n",
    "        # 按日期排序\n",
    "        group = group.sort_values('日期')\n",
    "        \n",
    "        # 找出协议转让导致持股比例低于5%的日期\n",
    "        for i in range(1, len(group)):\n",
    "            prev_row = group.iloc[i-1]\n",
    "            curr_row = group.iloc[i]\n",
    "            \n",
    "            # 检查是否通过协议转让减持且导致不再是5%以上股东\n",
    "            condition_met = (\n",
    "                prev_row['meu_13_2_subject'] and  # 之前是大股东\n",
    "                curr_row['减持方式'] == '协议转让' and  # 通过协议转让减持\n",
    "                curr_row['持股比例'] < 0.05 and  # 减持后持股低于5%\n",
    "                (curr_row['日期'] - prev_row['日期']).days <= 1  # 确保是连续交易日\n",
    "            )\n",
    "            \n",
    "            if condition_met:\n",
    "                # 标记减持日及之后6个月内(约180天)的所有记录\n",
    "                end_date = curr_row['日期'] + pd.Timedelta(days=180)\n",
    "                mask = (\n",
    "                    (df['公司简称'] == company) & \n",
    "                    (df['股东'] == shareholder) & \n",
    "                    (df['日期'] >= curr_row['日期']) & \n",
    "                    (df['日期'] <= end_date)\n",
    "                )\n",
    "                df.loc[mask, 'meu_13_2_condition'] = True\n",
    "                \n",
    "                # 3. 检查减持后6个月内是否遵守第四条(这里假设第四条是关于减持比例限制)\n",
    "                # 示例检查: 减持后6个月内是否有违规减持行为\n",
    "                # 实际应根据第四条具体内容实现\n",
    "                violation_mask = mask & (\n",
    "                    (df['当日减持比例'] > 0.01) |  # 假设第四条限制单日减持不超过1%\n",
    "                    (df['累计减持比例'] > 0.05)   # 假设第六条限制累计减持不超过5%\n",
    "                )\n",
    "                df.loc[violation_mask, 'meu_13_2_constraint'] = False\n",
    "                df.loc[~violation_mask & mask, 'meu_13_2_constraint'] = True\n",
    "                \n",
    "                # 标记违规情况(满足主体和条件但不满足约束)\n",
    "                violation = mask & (\n",
    "                    df['meu_13_2_subject'] & \n",
    "                    df['meu_13_2_condition'] & \n",
    "                    (~df['meu_13_2_constraint'])\n",
    "                )\n",
    "                df.loc[violation, 'meu_13_2_compliance'] = False\n",
    "    \n",
    "    return df"
   ]
  },
  {
   "cell_type": "markdown",
   "id": "8a873cdb",
   "metadata": {},
   "source": [
    "---"
   ]
  },
  {
   "cell_type": "markdown",
   "id": "6299242f",
   "metadata": {},
   "source": [
    "## MEU_13_3"
   ]
  },
  {
   "cell_type": "markdown",
   "id": "6fa827c6",
   "metadata": {},
   "source": [
    "\n",
    "| 字段 | 内容 |\n",
    "|------|------|\n",
    "| subject | 控股股东 | 实际控制人 |\n",
    "| condition | 通过协议转让方式减持股份导致其不再具有控股股东、实际控制人身份, 且处于减持后的6个月内 |\n",
    "| constraint | 应当继续遵守本指引第十二条第一款第二、三项规定 |\n",
    "| contextual_info | nan |\n",
    "| note | nan |\n",
    "| relation | should_include |\n",
    "| target | MEU_12_1;MEU_12_2 |\n",
    "| type | 实际执行单元 |\n",
    "| comments | nan |\n",
    "| prompt_tokens | 1435 |\n",
    "| completion_tokens | 780 |\n"
   ]
  },
  {
   "cell_type": "markdown",
   "id": "9f2d78d8",
   "metadata": {},
   "source": [
    "### 推理内容"
   ]
  },
  {
   "cell_type": "markdown",
   "id": "5ef7578c",
   "metadata": {},
   "source": [
    "reasoning content not found"
   ]
  },
  {
   "cell_type": "markdown",
   "id": "0a2d2d69",
   "metadata": {},
   "source": [
    "### 代码实现"
   ]
  },
  {
   "cell_type": "code",
   "execution_count": null,
   "id": "d30292b3",
   "metadata": {},
   "outputs": [],
   "source": [
    "import pandas as pd\n",
    "\n",
    "def check_meu_13_3(df):\n",
    "    '''\n",
    "    检查MEU_13_3合规性:\n",
    "    \"subject\": \"控股股东 | 实际控制人\", \n",
    "    \"condition\": \"通过协议转让方式减持股份导致其不再具有控股股东、实际控制人身份, 且处于减持后的6个月内\", \n",
    "    \"constraint\": \"应当继续遵守本指引第十二条第一款第二、三项规定\", \n",
    "    \"contextual_info\": NaN\n",
    "    \n",
    "    实现逻辑:\n",
    "    1. subject: 检查是否为控股股东或实际控制人\n",
    "    2. condition: \n",
    "       a) 通过协议转让方式减持\n",
    "       b) 减持导致不再具有控股股东/实际控制人身份\n",
    "       c) 处于减持后6个月内\n",
    "    3. constraint: 需要引用其他条款(暂不实现)\n",
    "    '''\n",
    "    \n",
    "    # 初始化结果列\n",
    "    df['meu_13_3_subject'] = False\n",
    "    df['meu_13_3_condition'] = False\n",
    "    df['meu_13_3_compliance'] = True  # 默认合规\n",
    "    \n",
    "    # 1. 检查subject: 控股股东或实际控制人\n",
    "    is_controlling = df['股东身份'].isin(['控股股东', '实际控制人'])\n",
    "    df['meu_13_3_subject'] = is_controlling\n",
    "    \n",
    "    # 2. 检查condition\n",
    "    # 按公司和股东分组处理\n",
    "    grouped = df.groupby(['公司简称', '股东'])\n",
    "    \n",
    "    for (company, shareholder), group in grouped:\n",
    "        # 只处理控股股东或实际控制人\n",
    "        if not group['meu_13_3_subject'].any():\n",
    "            continue\n",
    "            \n",
    "        # 找出身份变更的日期(不再具有控股股东/实际控制人身份)\n",
    "        status_change_dates = group[group['股东身份'].isin(['控股股东', '实际控制人'])].groupby('日期').first()\n",
    "        if len(status_change_dates) == 0:\n",
    "            continue\n",
    "            \n",
    "        # 找出通过协议转让减持的日期\n",
    "        protocol_transfer = group[group['减持方式'] == '协议转让']\n",
    "        \n",
    "        # 检查每次减持是否导致身份变更\n",
    "        for date, row in protocol_transfer.iterrows():\n",
    "            # 检查减持后是否仍为控股股东/实际控制人\n",
    "            post_transfer = group[group['日期'] > date]\n",
    "            if len(post_transfer) == 0:\n",
    "                continue\n",
    "                \n",
    "            next_status = post_transfer.iloc[0]['股东身份']\n",
    "            if next_status in ['控股股东', '实际控制人']:\n",
    "                continue  # 身份未变更\n",
    "                \n",
    "            # 计算减持后6个月的日期范围\n",
    "            six_months_later = date + pd.DateOffset(months=6)\n",
    "            condition_period = (group['日期'] >= date) & (group['日期'] <= six_months_later)\n",
    "            \n",
    "            # 标记满足条件的行\n",
    "            df.loc[condition_period & (df['公司简称'] == company) & \n",
    "                  (df['股东'] == shareholder), 'meu_13_3_condition'] = True\n",
    "    \n",
    "    # 3. 检查违规情况(满足subject和condition但未遵守约束)\n",
    "    # 注意: 由于约束条款引用其他条款，此处仅标记需要进一步检查的行\n",
    "    needs_check = df['meu_13_3_subject'] & df['meu_13_3_condition']\n",
    "    df.loc[needs_check, 'meu_13_3_compliance'] = '需要检查第十二条合规性'\n",
    "    \n",
    "    return df"
   ]
  },
  {
   "cell_type": "markdown",
   "id": "451bec51",
   "metadata": {},
   "source": [
    "---"
   ]
  },
  {
   "cell_type": "markdown",
   "id": "7b992b25",
   "metadata": {},
   "source": [
    "# Law Article 14"
   ]
  },
  {
   "cell_type": "markdown",
   "id": "63057969",
   "metadata": {},
   "source": [
    "## MEU_14_1"
   ]
  },
  {
   "cell_type": "markdown",
   "id": "b2950fde",
   "metadata": {},
   "source": [
    "\n",
    "| 字段 | 内容 |\n",
    "|------|------|\n",
    "| subject | 上市公司董监高 |\n",
    "| condition | 上市公司因涉嫌证券期货违法犯罪，在被中国证监会及其派出机构立案调查或者被司法机关立案侦查期间 |\n",
    "| constraint | 不得减持其所持有的本公司股份 |\n",
    "| contextual_info | nan |\n",
    "| note | nan |\n",
    "| relation | nan |\n",
    "| target | nan |\n",
    "| type | 实际执行单元 |\n",
    "| comments | nan |\n",
    "| prompt_tokens | 1422 |\n",
    "| completion_tokens | 553 |\n"
   ]
  },
  {
   "cell_type": "markdown",
   "id": "0f744ac3",
   "metadata": {},
   "source": [
    "### 推理内容"
   ]
  },
  {
   "cell_type": "markdown",
   "id": "ef179dd5",
   "metadata": {},
   "source": [
    "reasoning content not found"
   ]
  },
  {
   "cell_type": "markdown",
   "id": "2161ab8e",
   "metadata": {},
   "source": [
    "### 代码实现"
   ]
  },
  {
   "cell_type": "code",
   "execution_count": null,
   "id": "8792789f",
   "metadata": {},
   "outputs": [],
   "source": [
    "import pandas as pd\n",
    "\n",
    "def check_meu_14_1(df):\n",
    "    '''\n",
    "    检查上市公司董监高在被立案调查或侦查期间是否违规减持股份\n",
    "    \n",
    "    \"subject\": \"上市公司董监高\", \n",
    "    \"condition\": \"上市公司因涉嫌证券期货违法犯罪，在被中国证监会及其派出机构立案调查或者被司法机关立案侦查期间\", \n",
    "    \"constraint\": \"不得减持其所持有的本公司股份\", \n",
    "    \"contextual_info\": NaN\n",
    "    \n",
    "    合规性检查逻辑:\n",
    "    1. subject: 必须是上市公司董监高(不包括离任董监高)\n",
    "    2. condition: 公司正处于被立案调查或侦查期间\n",
    "    3. constraint: 在此期间不得减持股份\n",
    "    '''\n",
    "\n",
    "    # 初始化结果列\n",
    "    df['meu_14_1_subject'] = False\n",
    "    df['meu_14_1_condition'] = False\n",
    "    df['meu_14_1_constraint'] = True  # 默认满足约束(未减持)\n",
    "    df['meu_14_1_compliance'] = True  # 默认合规\n",
    "\n",
    "    # 1. 检查subject条件: 必须是上市公司董监高(不包括离任董监高)\n",
    "    is_director = df['股东身份'] == '董监高'\n",
    "    df.loc[is_director, 'meu_14_1_subject'] = True\n",
    "\n",
    "    # 2. 检查condition条件: 公司正处于被立案调查或侦查期间\n",
    "    investigation_status = [\n",
    "        '被中国证监会及其派出机构立案调查',\n",
    "        '被司法机关立案侦查'\n",
    "    ]\n",
    "    is_under_investigation = df['公司涉嫌证券期货违法犯罪事件'].isin(investigation_status)\n",
    "    df.loc[is_under_investigation, 'meu_14_1_condition'] = True\n",
    "\n",
    "    # 3. 检查constraint条件: 在此期间不得减持股份\n",
    "    # 计算当日是否有减持行为(通过减持比例或持股数量变化判断)\n",
    "    # 这里假设如果当日减持比例>0则表示有减持行为\n",
    "    has_reduced = df['当日减持比例'] > 0\n",
    "    \n",
    "    # 标记违规情况: 满足主体和条件但有减持行为\n",
    "    is_violation = (\n",
    "        is_director & \n",
    "        is_under_investigation & \n",
    "        has_reduced\n",
    "    )\n",
    "    \n",
    "    df.loc[is_violation, 'meu_14_1_constraint'] = False\n",
    "    df.loc[is_violation, 'meu_14_1_compliance'] = False\n",
    "\n",
    "    return df"
   ]
  },
  {
   "cell_type": "markdown",
   "id": "a12743d3",
   "metadata": {},
   "source": [
    "---"
   ]
  },
  {
   "cell_type": "markdown",
   "id": "c869ba3b",
   "metadata": {},
   "source": [
    "## MEU_14_2"
   ]
  },
  {
   "cell_type": "markdown",
   "id": "1f7ce1ae",
   "metadata": {},
   "source": [
    "\n",
    "| 字段 | 内容 |\n",
    "|------|------|\n",
    "| subject | 上市公司董监高 |\n",
    "| condition | 上市公司因涉嫌证券期货违法犯罪被中国证监会及其派出机构立案调查或者被司法机关立案侦查，在行政处罚决定、刑事判决作出之后未满6个月 |\n",
    "| constraint | 不得减持其所持有的本公司股份 |\n",
    "| contextual_info | nan |\n",
    "| note | nan |\n",
    "| relation | nan |\n",
    "| target | nan |\n",
    "| type | 实际执行单元 |\n",
    "| comments | nan |\n",
    "| prompt_tokens | 1433 |\n",
    "| completion_tokens | 633 |\n"
   ]
  },
  {
   "cell_type": "markdown",
   "id": "02ae986a",
   "metadata": {},
   "source": [
    "### 推理内容"
   ]
  },
  {
   "cell_type": "markdown",
   "id": "444a435f",
   "metadata": {},
   "source": [
    "reasoning content not found"
   ]
  },
  {
   "cell_type": "markdown",
   "id": "e107e116",
   "metadata": {},
   "source": [
    "### 代码实现"
   ]
  },
  {
   "cell_type": "code",
   "execution_count": null,
   "id": "84ec852a",
   "metadata": {},
   "outputs": [],
   "source": [
    "import pandas as pd\n",
    "\n",
    "def check_meu_14_2(df):\n",
    "    '''\n",
    "    检查MEU_14_2合规性:\n",
    "    \"subject\": \"上市公司董监高\", \n",
    "    \"condition\": \"上市公司因涉嫌证券期货违法犯罪被中国证监会及其派出机构立案调查或者被司法机关立案侦查，在行政处罚决定、刑事判决作出之后未满6个月\", \n",
    "    \"constraint\": \"不得减持其所持有的本公司股份\", \n",
    "    \"contextual_info\": NaN\n",
    "    \n",
    "    实现逻辑:\n",
    "    1. subject: 检查是否为现任董监高\n",
    "    2. condition: 检查公司是否在立案调查/侦查后且行政处罚/刑事判决未满6个月\n",
    "    3. constraint: 检查是否有减持行为\n",
    "    '''\n",
    "    \n",
    "    # 初始化结果列\n",
    "    df['meu_14_2_subject'] = False\n",
    "    df['meu_14_2_condition'] = False\n",
    "    df['meu_14_2_constraint'] = True  # 默认满足约束(未减持)\n",
    "    df['meu_14_2_compliance'] = True  # 默认合规\n",
    "    \n",
    "    # 1. 检查subject条件: 必须是现任董监高\n",
    "    is_director = df['股东身份'] == '董监高'\n",
    "    df.loc[is_director, 'meu_14_2_subject'] = True\n",
    "    \n",
    "    # 2. 检查condition条件: 公司处于处罚后6个月内\n",
    "    # 先找出每个公司最近一次行政处罚/刑事判决的日期\n",
    "    penalty_dates = df[df['公司涉嫌证券期货违法犯罪事件'].isin(['行政处罚决定作出'])].groupby('公司简称')['日期'].max()\n",
    "    \n",
    "    # 为每行数据标记是否在处罚后6个月内\n",
    "    def is_within_6months(row):\n",
    "        company = row['公司简称']\n",
    "        if company in penalty_dates:\n",
    "            penalty_date = penalty_dates[company]\n",
    "            return (row['日期'] - penalty_date).days < 180  # 6个月=180天\n",
    "        return False\n",
    "    \n",
    "    within_penalty_period = df.apply(is_within_6months, axis=1)\n",
    "    df.loc[within_penalty_period, 'meu_14_2_condition'] = True\n",
    "    \n",
    "    # 3. 检查constraint条件: 是否有减持行为\n",
    "    # 检查当日是否有减持(当日减持比例>0)\n",
    "    has_sold = df['当日减持比例'] > 0\n",
    "    df.loc[has_sold, 'meu_14_2_constraint'] = False\n",
    "    \n",
    "    # 综合判断违规情况: 满足主体和条件但不满足约束\n",
    "    is_violation = (\n",
    "        is_director & \n",
    "        within_penalty_period & \n",
    "        has_sold\n",
    "    )\n",
    "    \n",
    "    df.loc[is_violation, 'meu_14_2_compliance'] = False\n",
    "    \n",
    "    return df"
   ]
  },
  {
   "cell_type": "markdown",
   "id": "f1d01dbc",
   "metadata": {},
   "source": [
    "---"
   ]
  },
  {
   "cell_type": "markdown",
   "id": "3dbb457d",
   "metadata": {},
   "source": [
    "## MEU_14_3"
   ]
  },
  {
   "cell_type": "markdown",
   "id": "26816359",
   "metadata": {},
   "source": [
    "\n",
    "| 字段 | 内容 |\n",
    "|------|------|\n",
    "| subject | 上市公司董监高 |\n",
    "| condition | 本人因涉嫌与该上市公司有关的证券期货违法犯罪，在被中国证监会及其派出机构立案调查或者被司法机关立案侦查期间 |\n",
    "| constraint | 不得减持其所持有的本公司股份 |\n",
    "| contextual_info | nan |\n",
    "| note | nan |\n",
    "| relation | nan |\n",
    "| target | nan |\n",
    "| type | 实际执行单元 |\n",
    "| comments | nan |\n",
    "| prompt_tokens | 1425 |\n",
    "| completion_tokens | 491 |\n"
   ]
  },
  {
   "cell_type": "markdown",
   "id": "cd0edd51",
   "metadata": {},
   "source": [
    "### 推理内容"
   ]
  },
  {
   "cell_type": "markdown",
   "id": "29036595",
   "metadata": {},
   "source": [
    "reasoning content not found"
   ]
  },
  {
   "cell_type": "markdown",
   "id": "5671184c",
   "metadata": {},
   "source": [
    "### 代码实现"
   ]
  },
  {
   "cell_type": "code",
   "execution_count": null,
   "id": "5a8b7868",
   "metadata": {},
   "outputs": [],
   "source": [
    "import pandas as pd\n",
    "\n",
    "def check_meu_14_3(df):\n",
    "    '''\n",
    "    检查MEU_14_3合规性:\n",
    "    \"subject\": \"上市公司董监高\", \n",
    "    \"condition\": \"本人因涉嫌与该上市公司有关的证券期货违法犯罪，在被中国证监会及其派出机构立案调查或者被司法机关立案侦查期间\", \n",
    "    \"constraint\": \"不得减持其所持有的本公司股份\"\n",
    "    \n",
    "    合规性逻辑:\n",
    "    1. 主体必须是上市公司董监高(不包括离任董监高)\n",
    "    2. 条件是被立案调查/侦查期间\n",
    "    3. 约束是不得减持股份\n",
    "    '''\n",
    "    \n",
    "    # 初始化结果列\n",
    "    df['meu_14_3_subject'] = False\n",
    "    df['meu_14_3_condition'] = False\n",
    "    df['meu_14_3_constraint'] = True  # 默认满足约束(未减持)\n",
    "    df['meu_14_3_compliance'] = True   # 默认合规\n",
    "    \n",
    "    # 1. 验证subject: 必须是现任董监高\n",
    "    valid_subject = df['股东身份'] == '董监高'\n",
    "    df.loc[valid_subject, 'meu_14_3_subject'] = True\n",
    "    \n",
    "    # 2. 验证condition: 被立案调查/侦查期间\n",
    "    investigation_status = [\n",
    "        '被中国证监会及其派出机构立案调查',\n",
    "        '被司法机关立案侦查'\n",
    "    ]\n",
    "    valid_condition = df['股东涉嫌证券期货违法犯罪事件'].isin(investigation_status)\n",
    "    df.loc[valid_condition, 'meu_14_3_condition'] = True\n",
    "    \n",
    "    # 3. 验证constraint: 不得减持股份\n",
    "    # 检查当日是否有减持行为(当日减持比例>0)\n",
    "    has_reduced = df['当日减持比例'] > 0\n",
    "    df.loc[has_reduced, 'meu_14_3_constraint'] = False\n",
    "    \n",
    "    # 判断违规情况: 同时满足主体和条件但违反约束\n",
    "    is_violation = (\n",
    "        valid_subject & \n",
    "        valid_condition & \n",
    "        has_reduced\n",
    "    )\n",
    "    df.loc[is_violation, 'meu_14_3_compliance'] = False\n",
    "    \n",
    "    return df"
   ]
  },
  {
   "cell_type": "markdown",
   "id": "6293bc5d",
   "metadata": {},
   "source": [
    "---"
   ]
  },
  {
   "cell_type": "markdown",
   "id": "b48541b4",
   "metadata": {},
   "source": [
    "## MEU_14_4"
   ]
  },
  {
   "cell_type": "markdown",
   "id": "7981b63e",
   "metadata": {},
   "source": [
    "\n",
    "| 字段 | 内容 |\n",
    "|------|------|\n",
    "| subject | 上市公司董监高 |\n",
    "| condition | 本人因涉嫌与该上市公司有关的证券期货违法犯罪被中国证监会及其派出机构立案调查或者被司法机关立案侦查，在行政处罚决定、刑事判决作出之后未满6个月 |\n",
    "| constraint | 不得减持其所持有的本公司股份 |\n",
    "| contextual_info | nan |\n",
    "| note | nan |\n",
    "| relation | nan |\n",
    "| target | nan |\n",
    "| type | 实际执行单元 |\n",
    "| comments | nan |\n",
    "| prompt_tokens | 1436 |\n",
    "| completion_tokens | 787 |\n"
   ]
  },
  {
   "cell_type": "markdown",
   "id": "0425ad19",
   "metadata": {},
   "source": [
    "### 推理内容"
   ]
  },
  {
   "cell_type": "markdown",
   "id": "44a1a527",
   "metadata": {},
   "source": [
    "reasoning content not found"
   ]
  },
  {
   "cell_type": "markdown",
   "id": "a088f5e7",
   "metadata": {},
   "source": [
    "### 代码实现"
   ]
  },
  {
   "cell_type": "code",
   "execution_count": null,
   "id": "39748ef8",
   "metadata": {},
   "outputs": [],
   "source": [
    "import pandas as pd\n",
    "\n",
    "def check_meu_14_4(df):\n",
    "    '''\n",
    "    检查MEU_14_4合规性:\n",
    "    \"subject\": \"上市公司董监高\", \n",
    "    \"condition\": \"本人因涉嫌与该上市公司有关的证券期货违法犯罪被中国证监会及其派出机构立案调查或者被司法机关立案侦查，在行政处罚决定、刑事判决作出之后未满6个月\", \n",
    "    \"constraint\": \"不得减持其所持有的本公司股份\", \n",
    "    \"contextual_info\": NaN\n",
    "    \n",
    "    实现逻辑:\n",
    "    1. subject: 检查是否为上市公司董监高\n",
    "    2. condition: 检查是否因涉嫌证券期货违法犯罪被立案调查/侦查，且在行政处罚/刑事判决后未满6个月\n",
    "    3. constraint: 检查是否有减持行为\n",
    "    '''\n",
    "    \n",
    "    # 初始化结果列\n",
    "    df['meu_14_4_subject'] = False\n",
    "    df['meu_14_4_condition'] = False\n",
    "    df['meu_14_4_constraint'] = True  # 默认满足约束(没有减持)\n",
    "    df['meu_14_4_compliance'] = True  # 默认合规\n",
    "    \n",
    "    # 1. 检查subject条件: 上市公司董监高\n",
    "    is_director = df['股东身份'] == '董监高'\n",
    "    df.loc[is_director, 'meu_14_4_subject'] = True\n",
    "    \n",
    "    # 2. 检查condition条件: 被立案调查且在处罚后未满6个月\n",
    "    # 先分组处理每个股东的时间线\n",
    "    grouped = df.groupby(['公司简称', '股东'])\n",
    "    \n",
    "    # 为每个股东计算condition条件\n",
    "    for (company, shareholder), group in grouped:\n",
    "        # 获取该股东的相关事件\n",
    "        events = group['股东涉嫌证券期货违法犯罪事件'].dropna().unique()\n",
    "        \n",
    "        # 检查是否有被立案调查/侦查的事件\n",
    "        has_investigation = any(e in ['被中国证监会及其派出机构立案调查', '被司法机关立案侦查'] for e in events)\n",
    "        \n",
    "        if has_investigation:\n",
    "            # 获取行政处罚/刑事判决的日期\n",
    "            penalty_dates = group.loc[\n",
    "                group['股东涉嫌证券期货违法犯罪事件'].isin(['行政处罚决定作出']), '日期'\n",
    "            ]\n",
    "            \n",
    "            # 如果有行政处罚/刑事判决\n",
    "            if not penalty_dates.empty:\n",
    "                latest_penalty_date = penalty_dates.max()\n",
    "                \n",
    "                # 计算每个交易日距离处罚日的天数\n",
    "                days_since_penalty = (group['日期'] - latest_penalty_date).dt.days\n",
    "                \n",
    "                # condition满足: 处罚后未满6个月(约180天)\n",
    "                condition_met = (days_since_penalty >= 0) & (days_since_penalty < 180)\n",
    "                \n",
    "                # 标记condition\n",
    "                condition_indices = group[condition_met].index\n",
    "                df.loc[condition_indices, 'meu_14_4_condition'] = True\n",
    "                \n",
    "                # 3. 检查constraint: 是否有减持行为\n",
    "                # 减持行为包括: 当日减持比例>0 或 存在减持计划\n",
    "                has_reduction = (\n",
    "                    (group['当日减持比例'] > 0) | \n",
    "                    (group['存在减持计划'])\n",
    "                )\n",
    "                \n",
    "                # 标记违反constraint的行\n",
    "                violation_indices = group[condition_met & has_reduction].index\n",
    "                df.loc[violation_indices, 'meu_14_4_constraint'] = False\n",
    "                df.loc[violation_indices, 'meu_14_4_compliance'] = False\n",
    "    \n",
    "    return df"
   ]
  },
  {
   "cell_type": "markdown",
   "id": "c77407b9",
   "metadata": {},
   "source": [
    "---"
   ]
  },
  {
   "cell_type": "markdown",
   "id": "dde703bd",
   "metadata": {},
   "source": [
    "## MEU_14_5"
   ]
  },
  {
   "cell_type": "markdown",
   "id": "fa5980a2",
   "metadata": {},
   "source": [
    "\n",
    "| 字段 | 内容 |\n",
    "|------|------|\n",
    "| subject | 上市公司董监高 |\n",
    "| condition | 本人因涉及证券期货违法，被中国证监会行政处罚，罚没款尚未足额缴纳，且不存在法律、行政法规另有规定或减持资金用于缴纳罚没款的情况 |\n",
    "| constraint | 不得减持其所持有的本公司股份 |\n",
    "| contextual_info | nan |\n",
    "| note | 不考虑法律、行政法规另有规定或减持资金用于缴纳罚没款的情况 |\n",
    "| relation | nan |\n",
    "| target | nan |\n",
    "| type | 实际执行单元 |\n",
    "| comments | nan |\n",
    "| prompt_tokens | 1452 |\n",
    "| completion_tokens | 585 |\n"
   ]
  },
  {
   "cell_type": "markdown",
   "id": "89073e7d",
   "metadata": {},
   "source": [
    "### 推理内容"
   ]
  },
  {
   "cell_type": "markdown",
   "id": "d643c08a",
   "metadata": {},
   "source": [
    "reasoning content not found"
   ]
  },
  {
   "cell_type": "markdown",
   "id": "4f8f4b54",
   "metadata": {},
   "source": [
    "### 代码实现"
   ]
  },
  {
   "cell_type": "code",
   "execution_count": null,
   "id": "472a55bc",
   "metadata": {},
   "outputs": [],
   "source": [
    "import pandas as pd\n",
    "\n",
    "def check_meu_14_5(df):\n",
    "    '''\n",
    "    检查MEU_14_5合规性:\n",
    "    \"subject\": \"上市公司董监高\", \n",
    "    \"condition\": \"本人因涉及证券期货违法，被中国证监会行政处罚，罚没款尚未足额缴纳，且不存在法律、行政法规另有规定或减持资金用于缴纳罚没款的情况\", \n",
    "    \"constraint\": \"不得减持其所持有的本公司股份\", \n",
    "    \"contextual_info\": NaN\n",
    "    \n",
    "    处理逻辑:\n",
    "    1. subject: 检查是否为董监高(不包括离任董监高)\n",
    "    2. condition: \n",
    "       - 涉及证券期货违法(行政处罚决定作出)\n",
    "       - 罚没款未足额缴纳(假设只要处于行政处罚决定作出状态即视为未足额缴纳)\n",
    "       - 不考虑法律行政法规另有规定或减持资金用于缴纳罚没款的情况(根据题目要求)\n",
    "    3. constraint: 不得减持股份(检查是否有减持行为)\n",
    "    '''\n",
    "    \n",
    "    # 初始化结果列\n",
    "    df['meu_14_5_subject'] = False\n",
    "    df['meu_14_5_condition'] = False\n",
    "    df['meu_14_5_constraint'] = True  # 默认满足约束(没有减持)\n",
    "    df['meu_14_5_compliance'] = True  # 默认合规\n",
    "    \n",
    "    # 1. 检查subject条件: 当前是董监高(不包括离任董监高)\n",
    "    is_director = df['股东身份'] == '董监高'\n",
    "    df.loc[is_director, 'meu_14_5_subject'] = True\n",
    "    \n",
    "    # 2. 检查condition条件\n",
    "    # 被行政处罚且未足额缴纳(假设\"行政处罚决定作出\"状态即表示未足额缴纳)\n",
    "    has_penalty = df['股东涉嫌证券期货违法犯罪事件'] == '行政处罚决定作出'\n",
    "    df.loc[has_penalty, 'meu_14_5_condition'] = True\n",
    "    \n",
    "    # 3. 检查constraint条件: 不得减持股份\n",
    "    # 检查是否有减持行为(当日减持比例>0)\n",
    "    has_reduction = df['当日减持比例'] > 0\n",
    "    df.loc[has_reduction, 'meu_14_5_constraint'] = False\n",
    "    \n",
    "    # 判断违规情况: 同时满足subject和condition但不满足constraint\n",
    "    is_violation = (\n",
    "        is_director & \n",
    "        has_penalty & \n",
    "        has_reduction\n",
    "    )\n",
    "    \n",
    "    # 标记违规行\n",
    "    df.loc[is_violation, 'meu_14_5_compliance'] = False\n",
    "    \n",
    "    return df"
   ]
  },
  {
   "cell_type": "markdown",
   "id": "beaf682f",
   "metadata": {},
   "source": [
    "---"
   ]
  },
  {
   "cell_type": "markdown",
   "id": "74d27d1e",
   "metadata": {},
   "source": [
    "## MEU_14_6"
   ]
  },
  {
   "cell_type": "markdown",
   "id": "80dd3e6e",
   "metadata": {},
   "source": [
    "\n",
    "| 字段 | 内容 |\n",
    "|------|------|\n",
    "| subject | 上市公司董监高 |\n",
    "| condition | 本人因涉及与本上市公司有关的违法违规，被证券交易所公开谴责未满三个月 |\n",
    "| constraint | 不得减持其所持有的本公司股份 |\n",
    "| contextual_info | nan |\n",
    "| note | nan |\n",
    "| relation | nan |\n",
    "| target | nan |\n",
    "| type | 实际执行单元 |\n",
    "| comments | nan |\n",
    "| prompt_tokens | 1416 |\n",
    "| completion_tokens | 714 |\n"
   ]
  },
  {
   "cell_type": "markdown",
   "id": "f4c1daa6",
   "metadata": {},
   "source": [
    "### 推理内容"
   ]
  },
  {
   "cell_type": "markdown",
   "id": "eb7b7dd4",
   "metadata": {},
   "source": [
    "reasoning content not found"
   ]
  },
  {
   "cell_type": "markdown",
   "id": "630c5fef",
   "metadata": {},
   "source": [
    "### 代码实现"
   ]
  },
  {
   "cell_type": "code",
   "execution_count": null,
   "id": "742940a2",
   "metadata": {},
   "outputs": [],
   "source": [
    "import pandas as pd\n",
    "\n",
    "def check_meu_14_6(df):\n",
    "    '''\n",
    "    检查上市公司董监高在被交易所公开谴责后三个月内是否违规减持股份\n",
    "    \n",
    "    法律的最小可执行单元内容:\n",
    "    \"subject\": \"上市公司董监高\", \n",
    "    \"condition\": \"本人因涉及与本上市公司有关的违法违规，被证券交易所公开谴责未满三个月\", \n",
    "    \"constraint\": \"不得减持其所持有的本公司股份\", \n",
    "    \"contextual_info\": NaN\n",
    "    \n",
    "    实现逻辑:\n",
    "    1. 验证主体: 必须是上市公司董监高\n",
    "    2. 验证条件: 该股东因涉及与本公司有关的违法违规被交易所公开谴责且未满三个月\n",
    "    3. 验证约束: 在谴责后三个月内不得减持股份\n",
    "    '''\n",
    "    \n",
    "    # 初始化结果列\n",
    "    df['meu_14_6_subject'] = False\n",
    "    df['meu_14_6_condition'] = False\n",
    "    df['meu_14_6_constraint'] = True  # 默认满足约束(未减持)\n",
    "    df['meu_14_6_compliance'] = True  # 默认合规\n",
    "    \n",
    "    # 1. 验证主体条件 - 必须是上市公司董监高\n",
    "    is_director = df['股东身份'] == '董监高'\n",
    "    df.loc[is_director, 'meu_14_6_subject'] = True\n",
    "    \n",
    "    # 2. 验证条件 - 被交易所公开谴责未满三个月\n",
    "    # 先找出所有被公开谴责的记录\n",
    "    condemned = df[df['股东涉嫌证券期货违法犯罪事件'] == '被本所公开谴责'].copy()\n",
    "    \n",
    "    # 如果存在被公开谴责的记录\n",
    "    if not condemned.empty:\n",
    "        # 计算每个被谴责股东的三个月期限\n",
    "        condemned['三个月期限'] = condemned['日期'] + pd.DateOffset(months=3)\n",
    "        \n",
    "        # 为每个被谴责股东创建时间范围\n",
    "        for _, row in condemned.iterrows():\n",
    "            company = row['公司简称']\n",
    "            shareholder = row['股东']\n",
    "            start_date = row['日期']\n",
    "            end_date = row['三个月期限']\n",
    "            \n",
    "            # 标记该股东在谴责后三个月内的所有记录\n",
    "            mask = (\n",
    "                (df['公司简称'] == company) & \n",
    "                (df['股东'] == shareholder) & \n",
    "                (df['日期'] >= start_date) & \n",
    "                (df['日期'] <= end_date)\n",
    "            )\n",
    "            df.loc[mask, 'meu_14_6_condition'] = True\n",
    "    \n",
    "    # 3. 验证约束 - 在谴责后三个月内不得减持\n",
    "    # 减持行为表现为: 当日减持比例 > 0 或 存在减持计划为True\n",
    "    is_reducing = (df['当日减持比例'] > 0) | (df['存在减持计划'])\n",
    "    \n",
    "    # 标记违规减持行为: 满足主体和条件但有减持行为\n",
    "    violation_mask = (\n",
    "        df['meu_14_6_subject'] & \n",
    "        df['meu_14_6_condition'] & \n",
    "        is_reducing\n",
    "    )\n",
    "    df.loc[violation_mask, 'meu_14_6_constraint'] = False\n",
    "    df.loc[violation_mask, 'meu_14_6_compliance'] = False\n",
    "    \n",
    "    return df"
   ]
  },
  {
   "cell_type": "markdown",
   "id": "d2f17d61",
   "metadata": {},
   "source": [
    "---"
   ]
  },
  {
   "cell_type": "markdown",
   "id": "eaf7b72f",
   "metadata": {},
   "source": [
    "## MEU_14_7"
   ]
  },
  {
   "cell_type": "markdown",
   "id": "038fa037",
   "metadata": {},
   "source": [
    "\n",
    "| 字段 | 内容 |\n",
    "|------|------|\n",
    "| subject | 上市公司董监高 |\n",
    "| condition | 上市公司股票因可能触及重大违法强制退市情形而被本所实施退市风险警示，且处于本所规定的限制转让的期限内 |\n",
    "| constraint | 不得减持其所持有的本公司股份 |\n",
    "| contextual_info | nan |\n",
    "| note | nan |\n",
    "| relation | nan |\n",
    "| target | nan |\n",
    "| type | 实际执行单元 |\n",
    "| comments | nan |\n",
    "| prompt_tokens | 1430 |\n",
    "| completion_tokens | 785 |\n"
   ]
  },
  {
   "cell_type": "markdown",
   "id": "c0805891",
   "metadata": {},
   "source": [
    "### 推理内容"
   ]
  },
  {
   "cell_type": "markdown",
   "id": "b78eedc0",
   "metadata": {},
   "source": [
    "reasoning content not found"
   ]
  },
  {
   "cell_type": "markdown",
   "id": "788201e2",
   "metadata": {},
   "source": [
    "### 代码实现"
   ]
  },
  {
   "cell_type": "code",
   "execution_count": null,
   "id": "2e18ccc0",
   "metadata": {},
   "outputs": [],
   "source": [
    "import pandas as pd\n",
    "\n",
    "def check_meu_14_7(df):\n",
    "    '''\n",
    "    检查MEU_14_7合规性:\n",
    "    \"subject\": \"上市公司董监高\", \n",
    "    \"condition\": \"上市公司股票因可能触及重大违法强制退市情形而被本所实施退市风险警示，且处于本所规定的限制转让的期限内\", \n",
    "    \"constraint\": \"不得减持其所持有的本公司股份\", \n",
    "    \"contextual_info\": NaN\n",
    "    \n",
    "    实现逻辑:\n",
    "    1. subject: 检查是否为董监高\n",
    "    2. condition: 检查公司是否被实施退市风险警示且处于限制转让期\n",
    "    3. constraint: 检查是否有减持行为\n",
    "    4. 违规情况: 满足subject和condition但不满足constraint\n",
    "    '''\n",
    "    \n",
    "    # 初始化结果列\n",
    "    df['meu_14_7_subject'] = False\n",
    "    df['meu_14_7_condition'] = False\n",
    "    df['meu_14_7_constraint'] = True  # 默认满足约束(没有减持)\n",
    "    df['meu_14_7_compliance'] = True  # 默认合规\n",
    "    \n",
    "    # 1. 检查subject: 上市公司董监高\n",
    "    is_director = df['股东身份'] == '董监高'\n",
    "    df.loc[is_director, 'meu_14_7_subject'] = True\n",
    "    \n",
    "    # 2. 检查condition: 公司被实施退市风险警示且处于限制转让期\n",
    "    # 假设退市风险警示和限制转让期信息可以从公司涉嫌证券期货违法犯罪事件中判断\n",
    "    is_risk_warning = df['公司涉嫌证券期货违法犯罪事件'] == '被中国证监会及其派出机构立案调查'\n",
    "    # 假设限制转让期为立案调查开始到调查结束或行政处罚决定作出\n",
    "    # 需要按公司分组计算限制转让期\n",
    "    def get_restriction_period(group):\n",
    "        investigation_start = group[group['公司涉嫌证券期货违法犯罪事件'] == '被中国证监会及其派出机构立案调查']['日期']\n",
    "        investigation_end = group[group['公司涉嫌证券期货违法犯罪事件'].isin([\n",
    "            '中国证监会及其派出机构立案调查结束', \n",
    "            '行政处罚决定作出'\n",
    "        ])]['日期']\n",
    "        \n",
    "        if not investigation_start.empty:\n",
    "            start_date = investigation_start.min()\n",
    "            end_date = investigation_end.min() if not investigation_end.empty else pd.Timestamp.max\n",
    "            group['in_restriction'] = group['日期'].between(start_date, end_date)\n",
    "            return group\n",
    "        else:\n",
    "            group['in_restriction'] = False\n",
    "            return group\n",
    "    \n",
    "    df = df.groupby('公司简称', group_keys=False).apply(get_restriction_period)\n",
    "    valid_condition = is_risk_warning & df['in_restriction']\n",
    "    df.loc[valid_condition, 'meu_14_7_condition'] = True\n",
    "    \n",
    "    # 3. 检查constraint: 不得减持\n",
    "    # 检查是否有减持行为(当日减持比例>0)\n",
    "    has_reduction = df['当日减持比例'] > 0\n",
    "    df.loc[has_reduction, 'meu_14_7_constraint'] = False\n",
    "    \n",
    "    # 4. 判断违规情况: 满足subject和condition但不满足constraint\n",
    "    is_violation = is_director & valid_condition & has_reduction\n",
    "    df.loc[is_violation, 'meu_14_7_compliance'] = False\n",
    "    \n",
    "    # 清理临时列\n",
    "    df.drop('in_restriction', axis=1, inplace=True, errors='ignore')\n",
    "    \n",
    "    return df"
   ]
  },
  {
   "cell_type": "markdown",
   "id": "69b93c9f",
   "metadata": {},
   "source": [
    "---"
   ]
  },
  {
   "cell_type": "markdown",
   "id": "50248b00",
   "metadata": {},
   "source": [
    "# Law Article 16"
   ]
  },
  {
   "cell_type": "markdown",
   "id": "70484a09",
   "metadata": {},
   "source": [
    "## MEU_16_1"
   ]
  },
  {
   "cell_type": "markdown",
   "id": "bdd1ee5d",
   "metadata": {},
   "source": [
    "\n",
    "| 字段 | 内容 |\n",
    "|------|------|\n",
    "| subject | 上市公司董监高 |\n",
    "| condition | 上市公司年度报告、半年度报告公告前15日内 |\n",
    "| constraint | 不得买卖本公司股份 |\n",
    "| contextual_info | nan |\n",
    "| note | nan |\n",
    "| relation | nan |\n",
    "| target | nan |\n",
    "| type | 实际执行单元 |\n",
    "| comments | nan |\n",
    "| prompt_tokens | 1410 |\n",
    "| completion_tokens | 764 |\n"
   ]
  },
  {
   "cell_type": "markdown",
   "id": "08181d8d",
   "metadata": {},
   "source": [
    "### 推理内容"
   ]
  },
  {
   "cell_type": "markdown",
   "id": "d3e12413",
   "metadata": {},
   "source": [
    "reasoning content not found"
   ]
  },
  {
   "cell_type": "markdown",
   "id": "4f4252de",
   "metadata": {},
   "source": [
    "### 代码实现"
   ]
  },
  {
   "cell_type": "code",
   "execution_count": null,
   "id": "fda09104",
   "metadata": {},
   "outputs": [],
   "source": [
    "import pandas as pd\n",
    "\n",
    "def check_meu_16_1(df):\n",
    "    '''\n",
    "    检查上市公司董监高在定期报告公告前15日内是否买卖本公司股份\n",
    "    \n",
    "    法律的最小可执行单元内容:\n",
    "    {\"subject\": \"上市公司董监高\", \n",
    "     \"condition\": \"上市公司年度报告、半年度报告公告前15日内\", \n",
    "     \"constraint\": \"不得买卖本公司股份\", \n",
    "     \"contextual_info\": NaN}\n",
    "    \n",
    "    检查逻辑:\n",
    "    1. subject: 股东身份为董监高\n",
    "    2. condition: 当前日期在年度/半年度报告公告前15日内\n",
    "    3. constraint: 不得买卖本公司股份(通过日收益率判断是否有交易)\n",
    "    '''\n",
    "    \n",
    "    # 初始化结果列\n",
    "    df['meu_16_1_subject'] = False\n",
    "    df['meu_16_1_condition'] = False\n",
    "    df['meu_16_1_constraint'] = True  # 默认满足约束(没有交易)\n",
    "    df['meu_16_1_compliance'] = True  # 默认合规\n",
    "    \n",
    "    # 1. 检查subject条件: 股东身份为董监高\n",
    "    is_director = df['股东身份'] == '董监高'\n",
    "    df.loc[is_director, 'meu_16_1_subject'] = True\n",
    "    \n",
    "    # 2. 检查condition条件: 在定期报告公告前15日内\n",
    "    # 获取年度/半年度报告公告日期\n",
    "    report_announcements = df[df['公告类型'].isin(['年度报告', '半年度报告'])]\n",
    "    \n",
    "    # 为每个公司创建公告日期范围(公告日前15日内)\n",
    "    announcement_ranges = []\n",
    "    for _, group in report_announcements.groupby(['公司简称', '公告类型']):\n",
    "        # 取最早的公告日期(防止多次公告)\n",
    "        min_date = group['公告日期'].min()\n",
    "        start_date = min_date - pd.Timedelta(days=15)\n",
    "        announcement_ranges.append({\n",
    "            '公司简称': group['公司简称'].iloc[0],\n",
    "            '公告类型': group['公告类型'].iloc[0],\n",
    "            'start_date': start_date,\n",
    "            'end_date': min_date\n",
    "        })\n",
    "    \n",
    "    # 转换为DataFrame\n",
    "    announcement_ranges_df = pd.DataFrame(announcement_ranges)\n",
    "    \n",
    "    # 标记处于公告前15日内的记录\n",
    "    for _, row in announcement_ranges_df.iterrows():\n",
    "        mask = (\n",
    "            (df['公司简称'] == row['公司简称']) &\n",
    "            (df['日期'] >= row['start_date']) & \n",
    "            (df['日期'] < row['end_date'])\n",
    "        )\n",
    "        df.loc[mask, 'meu_16_1_condition'] = True\n",
    "    \n",
    "    # 3. 检查constraint条件: 不得买卖本公司股份\n",
    "    # 假设日收益率不为0表示有交易(简化处理)\n",
    "    has_trade = df['日收益率'] != 0\n",
    "    df.loc[has_trade, 'meu_16_1_constraint'] = False\n",
    "    \n",
    "    # 综合判断违规情况: 满足主体和条件但不满足约束\n",
    "    is_violation = (\n",
    "        (df['meu_16_1_subject']) & \n",
    "        (df['meu_16_1_condition']) & \n",
    "        (~df['meu_16_1_constraint'])\n",
    "    )\n",
    "    \n",
    "    df.loc[is_violation, 'meu_16_1_compliance'] = False\n",
    "    \n",
    "    return df"
   ]
  },
  {
   "cell_type": "markdown",
   "id": "3498e33b",
   "metadata": {},
   "source": [
    "---"
   ]
  },
  {
   "cell_type": "markdown",
   "id": "217ed0a3",
   "metadata": {},
   "source": [
    "## MEU_16_2"
   ]
  },
  {
   "cell_type": "markdown",
   "id": "36b9b464",
   "metadata": {},
   "source": [
    "\n",
    "| 字段 | 内容 |\n",
    "|------|------|\n",
    "| subject | 上市公司董监高 |\n",
    "| condition | 上市公司季度报告、业绩预告、业绩快报公告前5日内 |\n",
    "| constraint | 不得买卖本公司股份 |\n",
    "| contextual_info | nan |\n",
    "| note | nan |\n",
    "| relation | nan |\n",
    "| target | nan |\n",
    "| type | 实际执行单元 |\n",
    "| comments | nan |\n",
    "| prompt_tokens | 1413 |\n",
    "| completion_tokens | 669 |\n"
   ]
  },
  {
   "cell_type": "markdown",
   "id": "d514d248",
   "metadata": {},
   "source": [
    "### 推理内容"
   ]
  },
  {
   "cell_type": "markdown",
   "id": "8d904c66",
   "metadata": {},
   "source": [
    "reasoning content not found"
   ]
  },
  {
   "cell_type": "markdown",
   "id": "f78eac28",
   "metadata": {},
   "source": [
    "### 代码实现"
   ]
  },
  {
   "cell_type": "code",
   "execution_count": null,
   "id": "b4005b34",
   "metadata": {},
   "outputs": [],
   "source": [
    "import pandas as pd\n",
    "\n",
    "def check_meu_16_2(df):\n",
    "    '''\n",
    "    检查上市公司董监高在季度报告、业绩预告、业绩快报公告前5日内是否买卖本公司股份\n",
    "    \n",
    "    \"subject\": \"上市公司董监高\", \n",
    "    \"condition\": \"上市公司季度报告、业绩预告、业绩快报公告前5日内\", \n",
    "    \"constraint\": \"不得买卖本公司股份\", \n",
    "    \"contextual_info\": NaN\n",
    "    \n",
    "    实现逻辑:\n",
    "    1. 检查主体: 股东身份为\"董监高\"\n",
    "    2. 检查条件: 日期在公告前5日内(自然日)\n",
    "    3. 检查约束: 不得有交易行为(通过日收益率判断)\n",
    "    '''\n",
    "    \n",
    "    # 初始化结果列\n",
    "    df['meu_16_2_subject'] = False\n",
    "    df['meu_16_2_condition'] = False\n",
    "    df['meu_16_2_constraint'] = True  # 默认满足约束(没有交易)\n",
    "    df['meu_16_2_compliance'] = True  # 默认合规\n",
    "    \n",
    "    # 1. 检查主体条件: 股东身份为\"董监高\"\n",
    "    is_director = df['股东身份'] == '董监高'\n",
    "    df.loc[is_director, 'meu_16_2_subject'] = True\n",
    "    \n",
    "    # 2. 检查时间条件: 在公告前5日内\n",
    "    # 获取所有相关公告的日期\n",
    "    relevant_announcements = df[df['公告类型'].isin(['季度报告', '业绩预告', '业绩快报'])]\n",
    "    \n",
    "    # 为每个公司创建公告日期列表\n",
    "    announcement_dates = relevant_announcements.groupby('公司简称')['公告日期'].unique()\n",
    "    \n",
    "    # 检查每个日期是否在任意公告前5日内\n",
    "    def is_in_restricted_period(row):\n",
    "        company = row['公司简称']\n",
    "        if company in announcement_dates:\n",
    "            for ann_date in announcement_dates[company]:\n",
    "                if (ann_date - row['日期']).days <= 5 and (ann_date - row['日期']).days >= 0:\n",
    "                    return True\n",
    "        return False\n",
    "    \n",
    "    df['meu_16_2_condition'] = df.apply(is_in_restricted_period, axis=1)\n",
    "    \n",
    "    # 3. 检查约束条件: 不得有交易行为\n",
    "    # 通过日收益率判断是否有交易(非零表示有交易)\n",
    "    has_trade = df['日收益率'] != 0\n",
    "    df.loc[has_trade, 'meu_16_2_constraint'] = False\n",
    "    \n",
    "    # 判断违规情况: 同时满足主体和条件但不满足约束\n",
    "    is_violation = (\n",
    "        df['meu_16_2_subject'] & \n",
    "        df['meu_16_2_condition'] & \n",
    "        (~df['meu_16_2_constraint'])\n",
    "    )\n",
    "    \n",
    "    df.loc[is_violation, 'meu_16_2_compliance'] = False\n",
    "    \n",
    "    return df"
   ]
  },
  {
   "cell_type": "markdown",
   "id": "5dd5ab30",
   "metadata": {},
   "source": [
    "---"
   ]
  },
  {
   "cell_type": "markdown",
   "id": "63e61f2b",
   "metadata": {},
   "source": [
    "# Law Article 17"
   ]
  },
  {
   "cell_type": "markdown",
   "id": "c0028210",
   "metadata": {},
   "source": [
    "## MEU_17_1"
   ]
  },
  {
   "cell_type": "markdown",
   "id": "94e26d79",
   "metadata": {},
   "source": [
    "\n",
    "| 字段 | 内容 |\n",
    "|------|------|\n",
    "| subject | 上市公司董监高 |\n",
    "| condition | 在其就任时确定的任期内和任期届满后6个月内，每年通过集中竞价、大宗交易、协议转让等方式转让股份且不属于因司法强制执行、继承、遗赠、依法分割财产等导致股份变动 |\n",
    "| constraint | 每年转让的股份不得超过其所持本公司股份总数的25% |\n",
    "| contextual_info | nan |\n",
    "| note | nan |\n",
    "| relation | depend |\n",
    "| target | MEU_18_1 |\n",
    "| type | 实际执行单元 |\n",
    "| comments | 不考虑因司法强制执行、继承、遗赠、依法分割财产等导致股份变动的情况 |\n",
    "| prompt_tokens | 1452 |\n",
    "| completion_tokens | 941 |\n"
   ]
  },
  {
   "cell_type": "markdown",
   "id": "22dac2d3",
   "metadata": {},
   "source": [
    "### 推理内容"
   ]
  },
  {
   "cell_type": "markdown",
   "id": "8094b33b",
   "metadata": {},
   "source": [
    "reasoning content not found"
   ]
  },
  {
   "cell_type": "markdown",
   "id": "22f9572b",
   "metadata": {},
   "source": [
    "### 代码实现"
   ]
  },
  {
   "cell_type": "code",
   "execution_count": null,
   "id": "c4947eb1",
   "metadata": {},
   "outputs": [],
   "source": [
    "import pandas as pd\n",
    "\n",
    "def check_meu_17_1(df):\n",
    "    '''\n",
    "    检查MEU_17_1合规性:\n",
    "    \"subject\": \"上市公司董监高\", \n",
    "    \"condition\": \"在其就任时确定的任期内和任期届满后6个月内，每年通过集中竞价、大宗交易、协议转让等方式转让股份且不属于因司法强制执行、继承、遗赠、依法分割财产等导致股份变动\", \n",
    "    \"constraint\": \"每年转让的股份不得超过其所持本公司股份总数的25%\", \n",
    "    \"contextual_info\": NaN\n",
    "    \n",
    "    实现逻辑:\n",
    "    1. subject: 检查是否为董监高或离任董监高(在离任后6个月内)\n",
    "    2. condition: \n",
    "       - 检查减持方式是否为集中竞价、大宗交易、协议转让\n",
    "       - 排除司法强制执行、继承等特殊原因导致的股份变动\n",
    "    3. constraint: 计算每年减持比例是否超过25%\n",
    "    '''\n",
    "    \n",
    "    # 初始化结果列\n",
    "    df['meu_17_1_subject'] = False\n",
    "    df['meu_17_1_condition'] = False\n",
    "    df['meu_17_1_constraint'] = False\n",
    "    df['meu_17_1_compliance'] = True  # 默认合规\n",
    "    \n",
    "    # 1. 检查subject条件: 董监高或离任6个月内的董监高\n",
    "    is_director = df['股东身份'] == '董监高'\n",
    "    \n",
    "    # 计算离任后6个月内的情况\n",
    "    is_former_director = df['股东身份'] == '离任董监高'\n",
    "    within_6months = (df['日期'] - df['离任日期']).dt.days <= 180\n",
    "    valid_former_director = is_former_director & within_6months\n",
    "    \n",
    "    valid_subject = is_director | valid_former_director\n",
    "    df.loc[valid_subject, 'meu_17_1_subject'] = True\n",
    "    \n",
    "    # 2. 检查condition条件\n",
    "    # 有效的减持方式\n",
    "    valid_methods = ['竞价交易', '大宗交易', '协议转让']\n",
    "    valid_method = df['减持方式'].isin(valid_methods)\n",
    "    \n",
    "    # 排除特殊原因的股份变动(假设这些情况会有特殊标记)\n",
    "    # 这里假设如果减持方式为空且持股数量减少，则可能是特殊原因\n",
    "    # 实际情况可能需要更精确的字段判断\n",
    "    not_special_case = ~df['减持方式'].isna()\n",
    "    \n",
    "    valid_condition = valid_method & not_special_case\n",
    "    df.loc[valid_condition, 'meu_17_1_condition'] = True\n",
    "    \n",
    "    # 3. 检查constraint条件: 每年减持不超过25%\n",
    "    # 需要按公司和股东分组，计算每年的减持比例\n",
    "    \n",
    "    # 先筛选出满足subject和condition的记录\n",
    "    target_records = df[valid_subject & valid_condition].copy()\n",
    "    \n",
    "    if not target_records.empty:\n",
    "        # 按公司和股东分组，计算每年减持比例\n",
    "        grouped = target_records.groupby(['公司简称', '股东', target_records['日期'].dt.year])\n",
    "        \n",
    "        # 计算每组的累计减持比例\n",
    "        cum_annual_reduction = grouped['当日减持比例'].cumsum()\n",
    "        \n",
    "        # 检查是否超过25%\n",
    "        valid_constraint = cum_annual_reduction <= 0.25\n",
    "        \n",
    "        # 将结果映射回原DataFrame\n",
    "        # 由于groupby操作改变了索引，我们需要先重置索引\n",
    "        target_records.reset_index(inplace=True)\n",
    "        target_records['meu_17_1_constraint'] = valid_constraint.values\n",
    "        \n",
    "        # 更新原DataFrame\n",
    "        for idx, row in target_records.iterrows():\n",
    "            orig_idx = row['index']  # 保存的原索引\n",
    "            df.loc[orig_idx, 'meu_17_1_constraint'] = row['meu_17_1_constraint']\n",
    "    \n",
    "    # 标记违规情况: 满足subject和condition但不满足constraint\n",
    "    is_violation = (\n",
    "        valid_subject & \n",
    "        valid_condition & \n",
    "        (~df['meu_17_1_constraint'])\n",
    "    )\n",
    "    df.loc[is_violation, 'meu_17_1_compliance'] = False\n",
    "    \n",
    "    return df"
   ]
  },
  {
   "cell_type": "markdown",
   "id": "6cfd9428",
   "metadata": {},
   "source": [
    "---"
   ]
  },
  {
   "cell_type": "markdown",
   "id": "9a5ca4a0",
   "metadata": {},
   "source": [
    "## MEU_17_2"
   ]
  },
  {
   "cell_type": "markdown",
   "id": "f945916f",
   "metadata": {},
   "source": [
    "\n",
    "| 字段 | 内容 |\n",
    "|------|------|\n",
    "| subject | 上市公司董监高 |\n",
    "| condition | 所持股份不超过1000股 |\n",
    "| constraint | 可一次全部转让且不受前款转让比例限制 |\n",
    "| contextual_info | nan |\n",
    "| note | nan |\n",
    "| relation | exclude |\n",
    "| target | MEU_17_1 |\n",
    "| type | 实际执行单元 |\n",
    "| comments | nan |\n",
    "| prompt_tokens | 1413 |\n",
    "| completion_tokens | 469 |\n"
   ]
  },
  {
   "cell_type": "markdown",
   "id": "9dc17a63",
   "metadata": {},
   "source": [
    "### 推理内容"
   ]
  },
  {
   "cell_type": "markdown",
   "id": "2a012b2a",
   "metadata": {},
   "source": [
    "reasoning content not found"
   ]
  },
  {
   "cell_type": "markdown",
   "id": "085f5a28",
   "metadata": {},
   "source": [
    "### 代码实现"
   ]
  },
  {
   "cell_type": "code",
   "execution_count": null,
   "id": "b65e6162",
   "metadata": {},
   "outputs": [],
   "source": [
    "import pandas as pd\n",
    "\n",
    "def check_meu_17_2(df):\n",
    "    '''\n",
    "    检查MEU_17_2合规性:\n",
    "    \"subject\": \"上市公司董监高\", \n",
    "    \"condition\": \"所持股份不超过1000股\", \n",
    "    \"constraint\": \"可一次全部转让且不受前款转让比例限制\", \n",
    "    \"contextual_info\": NaN\n",
    "    \n",
    "    合规条件:\n",
    "    1. 主体必须是上市公司董监高(不包括离任董监高)\n",
    "    2. 持股数量不超过1000股\n",
    "    3. 可以一次性全部转让(不受其他减持比例限制)\n",
    "    '''\n",
    "    \n",
    "    # 初始化结果列\n",
    "    df['meu_17_2_subject'] = False\n",
    "    df['meu_17_2_condition'] = False\n",
    "    df['meu_17_2_constraint'] = False\n",
    "    df['meu_17_2_compliance'] = True  # 默认合规\n",
    "    \n",
    "    # 1. 验证subject: 必须是上市公司董监高(不包括离任的)\n",
    "    is_director = df['股东身份'] == '董监高'\n",
    "    \n",
    "    # 2. 验证condition: 持股数量不超过1000股\n",
    "    share_limit = df['持股数量'] <= 1000\n",
    "    \n",
    "    # 3. 验证constraint: 可以一次性全部转让(不受其他限制)\n",
    "    # 对于该MEU来说，只要满足主体和条件，就自动满足约束条件\n",
    "    # 因为约束就是允许一次性转让\n",
    "    \n",
    "    # 标记各条件满足情况\n",
    "    df.loc[is_director, 'meu_17_2_subject'] = True\n",
    "    df.loc[share_limit, 'meu_17_2_condition'] = True\n",
    "    df.loc[is_director & share_limit, 'meu_17_2_constraint'] = True\n",
    "    \n",
    "    # 判断违规情况: 当主体是董监高且持股>1000股时，需要受其他减持限制\n",
    "    # 但该MEU本身不涉及违规判断，只是标识哪些情况适用该豁免条款\n",
    "    # 因此不需要标记违规\n",
    "    \n",
    "    return df"
   ]
  },
  {
   "cell_type": "markdown",
   "id": "46b05484",
   "metadata": {},
   "source": [
    "---"
   ]
  },
  {
   "cell_type": "markdown",
   "id": "ae58aead",
   "metadata": {},
   "source": [
    "# Law Article 18"
   ]
  },
  {
   "cell_type": "markdown",
   "id": "7bb5ccbb",
   "metadata": {},
   "source": [
    "## MEU_18_1"
   ]
  },
  {
   "cell_type": "markdown",
   "id": "9d7625ba",
   "metadata": {},
   "source": [
    "\n",
    "| 字段 | 内容 |\n",
    "|------|------|\n",
    "| subject | 上市公司董监高 |\n",
    "| condition | nan |\n",
    "| constraint | nan |\n",
    "| contextual_info | 以上年末其所持股总数作为基数计算可转让股份数量 |\n",
    "| note | nan |\n",
    "| relation | combine |\n",
    "| target | MEU_18_2;MEU_18_3;MEU_18_4;MEU_18_5;MEU_18_6 |\n",
    "| type | 实际执行单元 |\n",
    "| comments | nan |\n",
    "| prompt_tokens | 1407 |\n",
    "| completion_tokens | 637 |\n"
   ]
  },
  {
   "cell_type": "markdown",
   "id": "d2c6918d",
   "metadata": {},
   "source": [
    "### 推理内容"
   ]
  },
  {
   "cell_type": "markdown",
   "id": "e1ea169d",
   "metadata": {},
   "source": [
    "reasoning content not found"
   ]
  },
  {
   "cell_type": "markdown",
   "id": "1df872c6",
   "metadata": {},
   "source": [
    "### 代码实现"
   ]
  },
  {
   "cell_type": "code",
   "execution_count": null,
   "id": "0c2ae2ee",
   "metadata": {},
   "outputs": [],
   "source": [
    "import pandas as pd\n",
    "\n",
    "def check_meu_18_1(df):\n",
    "    '''\n",
    "    检查MEU_18_1合规性:\n",
    "    \"subject\": \"上市公司董监高\", \n",
    "    \"contextual_info\": \"以上年末其所持股总数作为基数计算可转让股份数量\"\n",
    "    \n",
    "    该条款要求对上市公司董监高的可转让股份数量进行限制，计算基数为上年末持股总数。\n",
    "    需要验证:\n",
    "    1. 主体是否为上市公司董监高\n",
    "    2. 计算可转让股份数量是否基于上年末持股总数\n",
    "    '''\n",
    "    \n",
    "    # 初始化结果列\n",
    "    df['meu_18_1_subject'] = False\n",
    "    df['meu_18_1_compliance'] = True  # 默认合规\n",
    "    \n",
    "    # 1. 验证subject是否为上市公司董监高\n",
    "    is_director = df['股东身份'] == '董监高'\n",
    "    df.loc[is_director, 'meu_18_1_subject'] = True\n",
    "    \n",
    "    # 对每个董监高股东，按公司和股东分组处理\n",
    "    grouped = df[is_director].groupby(['公司简称', '股东'])\n",
    "    \n",
    "    for (company, shareholder), group in grouped:\n",
    "        # 获取该股东上年末持股数量\n",
    "        # 首先找到每个年份\n",
    "        years = group['日期'].dt.year.unique()\n",
    "        \n",
    "        for year in sorted(years[1:]):  # 从第二年开始检查(需要上年数据)\n",
    "            prev_year = year - 1\n",
    "            # 获取上年末(12月31日)的持股数量\n",
    "            prev_year_end = group[group['日期'].dt.year == prev_year]\n",
    "            if len(prev_year_end) == 0:\n",
    "                continue  # 无上年数据，无法验证\n",
    "                \n",
    "            # 取上年最后一天的持股数量\n",
    "            prev_year_end_last = prev_year_end.sort_values('日期').iloc[-1]\n",
    "            base_quantity = prev_year_end_last['持股数量']\n",
    "            \n",
    "            # 获取本年该股东的所有交易\n",
    "            current_year = group[group['日期'].dt.year == year]\n",
    "            \n",
    "            # 计算本年累计减持数量\n",
    "            current_year['累计减持数量'] = current_year['当日减持比例'] * current_year['总股本']\n",
    "            total_reduced = current_year['累计减持数量'].sum()\n",
    "            \n",
    "            # 检查是否超过可转让数量(假设可转让数量为上年末持股的25%)\n",
    "            max_allowed = base_quantity * 0.25\n",
    "            if total_reduced > max_allowed:\n",
    "                # 标记违规\n",
    "                violation_dates = current_year[current_year['累计减持数量'].cumsum() > max_allowed]['日期']\n",
    "                df.loc[(df['公司简称'] == company) & \n",
    "                       (df['股东'] == shareholder) & \n",
    "                       (df['日期'].isin(violation_dates)), \n",
    "                       'meu_18_1_compliance'] = False\n",
    "    \n",
    "    return df"
   ]
  },
  {
   "cell_type": "markdown",
   "id": "1bb63351",
   "metadata": {},
   "source": [
    "---"
   ]
  },
  {
   "cell_type": "markdown",
   "id": "bcad30b0",
   "metadata": {},
   "source": [
    "## MEU_18_2"
   ]
  },
  {
   "cell_type": "markdown",
   "id": "e777d6ec",
   "metadata": {},
   "source": [
    "\n",
    "| 字段 | 内容 |\n",
    "|------|------|\n",
    "| subject | 上市公司董监高 |\n",
    "| condition | nan |\n",
    "| constraint | nan |\n",
    "| contextual_info | 当年可转让但未转让的本公司股份，应当计入当年末其所持有本公司股份的总数，以该总数作为次年可转让股份的计算基数 |\n",
    "| note | nan |\n",
    "| relation | nan |\n",
    "| target | nan |\n",
    "| type | 实际执行单元 |\n",
    "| comments | nan |\n",
    "| prompt_tokens | 1426 |\n",
    "| completion_tokens | 647 |\n"
   ]
  },
  {
   "cell_type": "markdown",
   "id": "d96ab8bf",
   "metadata": {},
   "source": [
    "### 推理内容"
   ]
  },
  {
   "cell_type": "markdown",
   "id": "06a14173",
   "metadata": {},
   "source": [
    "reasoning content not found"
   ]
  },
  {
   "cell_type": "markdown",
   "id": "d4647de5",
   "metadata": {},
   "source": [
    "### 代码实现"
   ]
  },
  {
   "cell_type": "code",
   "execution_count": null,
   "id": "2ae629b1",
   "metadata": {},
   "outputs": [],
   "source": [
    "import pandas as pd\n",
    "\n",
    "def check_meu_18_2(df):\n",
    "    '''\n",
    "    检查MEU_18_2合规性：\n",
    "    \"subject\": \"上市公司董监高\", \n",
    "    \"contextual_info\": \"当年可转让但未转让的本公司股份，应当计入当年末其所持有本公司股份的总数，以该总数作为次年可转让股份的计算基数\"\n",
    "    \n",
    "    实现逻辑：\n",
    "    1. 筛选出董监高股东\n",
    "    2. 按年份分组计算每年末持股数量\n",
    "    3. 检查次年可转让股份计算基数是否正确\n",
    "    '''\n",
    "    \n",
    "    # 初始化结果列\n",
    "    df['meu_18_2_compliance'] = True\n",
    "    df['meu_18_2_violation_reason'] = ''\n",
    "    \n",
    "    # 1. 筛选董监高股东 (subject条件)\n",
    "    is_director = df['股东身份'].isin(['董监高', '离任董监高'])\n",
    "    directors_df = df[is_director].copy()\n",
    "    \n",
    "    if directors_df.empty:\n",
    "        return df\n",
    "    \n",
    "    # 2. 按公司和股东分组处理\n",
    "    grouped = directors_df.groupby(['公司简称', '股东'])\n",
    "    \n",
    "    for (company, shareholder), group in grouped:\n",
    "        # 获取该股东每年的年末持股情况\n",
    "        group['year'] = group['日期'].dt.year\n",
    "        \n",
    "        # 找出每年最后交易日的记录\n",
    "        year_end_records = group.sort_values('日期').groupby('year').last()\n",
    "        \n",
    "        # 计算次年可转让股份基数\n",
    "        for i in range(len(year_end_records)-1):\n",
    "            current_year = year_end_records.index[i]\n",
    "            next_year = current_year + 1\n",
    "            \n",
    "            # 获取当前年末持股数量\n",
    "            current_year_end_holdings = year_end_records.loc[current_year, '持股数量']\n",
    "            \n",
    "            # 检查次年记录中的持股基数是否正确\n",
    "            next_year_records = group[group['year'] == next_year]\n",
    "            \n",
    "            if not next_year_records.empty:\n",
    "                # 获取次年首次记录中的持股基数\n",
    "                first_next_year_record = next_year_records.sort_values('日期').iloc[0]\n",
    "                \n",
    "                # 检查是否使用了正确的计算基数\n",
    "                if first_next_year_record['持股数量'] != current_year_end_holdings:\n",
    "                    # 标记违规记录\n",
    "                    violation_dates = next_year_records['日期']\n",
    "                    df.loc[(df['公司简称'] == company) & \n",
    "                          (df['股东'] == shareholder) & \n",
    "                          (df['日期'].isin(violation_dates)),\n",
    "                          'meu_18_2_compliance'] = False\n",
    "                    \n",
    "                    df.loc[(df['公司简称'] == company) & \n",
    "                          (df['股东'] == shareholder) & \n",
    "                          (df['日期'].isin(violation_dates)),\n",
    "                          'meu_18_2_violation_reason'] = f'次年可转让股份计算基数错误: 应为{current_year_end_holdings}'\n",
    "    \n",
    "    return df"
   ]
  },
  {
   "cell_type": "markdown",
   "id": "c0b05468",
   "metadata": {},
   "source": [
    "---"
   ]
  },
  {
   "cell_type": "markdown",
   "id": "d0d65993",
   "metadata": {},
   "source": [
    "## MEU_18_3"
   ]
  },
  {
   "cell_type": "markdown",
   "id": "d70a2dd5",
   "metadata": {},
   "source": [
    "\n",
    "| 字段 | 内容 |\n",
    "|------|------|\n",
    "| subject | 上市公司董监高 |\n",
    "| condition | nan |\n",
    "| constraint | nan |\n",
    "| contextual_info | 所持本公司股份在年内增加的，新增无限售条件股份当年可转让25%，新增有限售条件股份计入次年可转让股份的计算基数。 |\n",
    "| note | nan |\n",
    "| relation | nan |\n",
    "| target | nan |\n",
    "| type | 实际执行单元 |\n",
    "| comments | nan |\n",
    "| prompt_tokens | 1426 |\n",
    "| completion_tokens | 594 |\n"
   ]
  },
  {
   "cell_type": "markdown",
   "id": "c9b25682",
   "metadata": {},
   "source": [
    "### 推理内容"
   ]
  },
  {
   "cell_type": "markdown",
   "id": "6cd44da2",
   "metadata": {},
   "source": [
    "reasoning content not found"
   ]
  },
  {
   "cell_type": "markdown",
   "id": "6d167172",
   "metadata": {},
   "source": [
    "### 代码实现"
   ]
  },
  {
   "cell_type": "code",
   "execution_count": null,
   "id": "71586246",
   "metadata": {},
   "outputs": [],
   "source": [
    "import pandas as pd\n",
    "\n",
    "def check_meu_18_3(df):\n",
    "    '''\n",
    "    检查MEU_18_3合规性:\n",
    "    \"subject\": \"上市公司董监高\", \n",
    "    \"contextual_info\": \"所持本公司股份在年内增加的，新增无限售条件股份当年可转让25%，新增有限售条件股份计入次年可转让股份的计算基数。\"\n",
    "    \n",
    "    实现逻辑:\n",
    "    1. 首先筛选出董监高股东\n",
    "    2. 计算每个股东年内股份增加情况\n",
    "    3. 区分无限售条件和有限售条件股份\n",
    "    4. 检查转让比例是否符合规定\n",
    "    '''\n",
    "    \n",
    "    # 初始化结果列\n",
    "    df['meu_18_3_subject'] = False\n",
    "    df['meu_18_3_compliance'] = True  # 默认合规\n",
    "    \n",
    "    # 1. 筛选符合条件的subject: 上市公司董监高\n",
    "    is_director = df['股东身份'] == '董监高'\n",
    "    df.loc[is_director, 'meu_18_3_subject'] = True\n",
    "    \n",
    "    # 对每个公司的每个董监高股东单独处理\n",
    "    for (company, shareholder), group in df[is_director].groupby(['公司简称', '股东']):\n",
    "        # 按日期排序\n",
    "        group = group.sort_values('日期')\n",
    "        \n",
    "        # 计算持股数量变化\n",
    "        group['持股变化'] = group['持股数量'].diff().fillna(0)\n",
    "        \n",
    "        # 标记年内数据 (同一年份)\n",
    "        group['年份'] = group['日期'].dt.year\n",
    "        for year, year_group in group.groupby('年份'):\n",
    "            # 计算年内总增加量\n",
    "            year_increase = year_group[year_group['持股变化'] > 0]['持股变化'].sum()\n",
    "            \n",
    "            if year_increase > 0:\n",
    "                # 这里简化处理: 假设所有新增股份都是无限售条件股份\n",
    "                # 实际应用中需要根据股份性质区分有限售和无限售条件股份\n",
    "                max_allowed_sell = year_increase * 0.25\n",
    "                \n",
    "                # 计算年内实际减持量\n",
    "                year_sell = year_group[year_group['持股变化'] < 0]['持股变化'].sum() * -1\n",
    "                \n",
    "                # 检查是否超额减持\n",
    "                if year_sell > max_allowed_sell:\n",
    "                    # 标记违规日期\n",
    "                    violation_dates = year_group[year_group['持股变化'] < 0]['日期']\n",
    "                    df.loc[(df['公司简称'] == company) & \n",
    "                          (df['股东'] == shareholder) & \n",
    "                          (df['日期'].isin(violation_dates)),\n",
    "                          'meu_18_3_compliance'] = False\n",
    "    \n",
    "    return df"
   ]
  },
  {
   "cell_type": "markdown",
   "id": "45f00408",
   "metadata": {},
   "source": [
    "---"
   ]
  },
  {
   "cell_type": "markdown",
   "id": "3138ab67",
   "metadata": {},
   "source": [
    "## MEU_18_4"
   ]
  },
  {
   "cell_type": "markdown",
   "id": "25e1e960",
   "metadata": {},
   "source": [
    "\n",
    "| 字段 | 内容 |\n",
    "|------|------|\n",
    "| subject | 上市公司董监高 |\n",
    "| condition | nan |\n",
    "| constraint | nan |\n",
    "| contextual_info | 因上市公司实施权益分派导致所持本公司股份增加的，可同比例增加当年可转让数量 |\n",
    "| note | nan |\n",
    "| relation | nan |\n",
    "| target | nan |\n",
    "| type | 实际执行单元 |\n",
    "| comments | nan |\n",
    "| prompt_tokens | 1416 |\n",
    "| completion_tokens | 534 |\n"
   ]
  },
  {
   "cell_type": "markdown",
   "id": "6c268f84",
   "metadata": {},
   "source": [
    "### 推理内容"
   ]
  },
  {
   "cell_type": "markdown",
   "id": "94f4ed6d",
   "metadata": {},
   "source": [
    "reasoning content not found"
   ]
  },
  {
   "cell_type": "markdown",
   "id": "5b788bef",
   "metadata": {},
   "source": [
    "### 代码实现"
   ]
  },
  {
   "cell_type": "code",
   "execution_count": null,
   "id": "9cca6af6",
   "metadata": {},
   "outputs": [],
   "source": [
    "import pandas as pd\n",
    "\n",
    "def check_meu_18_4(df):\n",
    "    '''\n",
    "    检查上市公司董监高因权益分派导致持股增加时，是否可同比例增加当年可转让数量\n",
    "    \n",
    "    法律的最小可执行单元内容: \n",
    "    {\n",
    "        \"subject\": \"上市公司董监高\", \n",
    "        \"condition\": NaN, \n",
    "        \"constraint\": NaN, \n",
    "        \"contextual_info\": \"因上市公司实施权益分派导致所持本公司股份增加的，可同比例增加当年可转让数量\"\n",
    "    }\n",
    "    \n",
    "    处理逻辑:\n",
    "    1. 首先筛选出主体为上市公司董监高的记录\n",
    "    2. 检查这些记录是否因权益分派导致持股数量增加\n",
    "    3. 如果满足条件，则标记为合规\n",
    "    '''\n",
    "    \n",
    "    # 初始化结果列\n",
    "    df['meu_18_4_subject'] = False\n",
    "    df['meu_18_4_compliance'] = True  # 默认合规\n",
    "    \n",
    "    # 1. 验证subject条件：上市公司董监高\n",
    "    is_director = df['股东身份'] == '董监高'\n",
    "    df.loc[is_director, 'meu_18_4_subject'] = True\n",
    "    \n",
    "    # 2. 检查权益分派导致的持股增加情况\n",
    "    # 按公司和股东分组，计算持股数量的变化\n",
    "    grouped = df[is_director].groupby(['公司简称', '股东'])\n",
    "    \n",
    "    # 初始化权益分派标记列\n",
    "    df['is_equity_distribution'] = False\n",
    "    \n",
    "    for (company, shareholder), group in grouped:\n",
    "        # 按日期排序\n",
    "        group = group.sort_values('日期')\n",
    "        \n",
    "        # 计算持股数量的变化\n",
    "        group['持股变化'] = group['持股数量'].diff()\n",
    "        \n",
    "        # 检查是否有权益分派公告\n",
    "        has_equity_announcement = group['公告类型'].str.contains('权益分派', na=False)\n",
    "        \n",
    "        # 标记因权益分派导致持股增加的记录\n",
    "        equity_increase = (group['持股变化'] > 0) & has_equity_announcement\n",
    "        indices = group[equity_increase].index\n",
    "        df.loc[indices, 'is_equity_distribution'] = True\n",
    "        \n",
    "        # 对于这些记录，标记为合规（可以同比例增加当年可转让数量）\n",
    "        df.loc[indices, 'meu_18_4_compliance'] = True\n",
    "    \n",
    "    return df"
   ]
  },
  {
   "cell_type": "markdown",
   "id": "f0fb8b71",
   "metadata": {},
   "source": [
    "---"
   ]
  },
  {
   "cell_type": "markdown",
   "id": "6c87bc25",
   "metadata": {},
   "source": [
    "# Law Article 23"
   ]
  },
  {
   "cell_type": "markdown",
   "id": "c60e154b",
   "metadata": {},
   "source": [
    "## MEU_23_1"
   ]
  },
  {
   "cell_type": "markdown",
   "id": "8b154f3c",
   "metadata": {},
   "source": [
    "\n",
    "| 字段 | 内容 |\n",
    "|------|------|\n",
    "| subject | 上市公司大股东 | 董监高 |\n",
    "| condition | nan |\n",
    "| constraint | 不得融券卖出本公司股份 |\n",
    "| contextual_info | nan |\n",
    "| note | nan |\n",
    "| relation | nan |\n",
    "| target | nan |\n",
    "| type | 实际执行单元 |\n",
    "| comments | nan |\n",
    "| prompt_tokens | 1405 |\n",
    "| completion_tokens | 510 |\n"
   ]
  },
  {
   "cell_type": "markdown",
   "id": "924078a4",
   "metadata": {},
   "source": [
    "### 推理内容"
   ]
  },
  {
   "cell_type": "markdown",
   "id": "a36110bb",
   "metadata": {},
   "source": [
    "reasoning content not found"
   ]
  },
  {
   "cell_type": "markdown",
   "id": "11535110",
   "metadata": {},
   "source": [
    "### 代码实现"
   ]
  },
  {
   "cell_type": "code",
   "execution_count": null,
   "id": "ef065f4b",
   "metadata": {},
   "outputs": [],
   "source": [
    "import pandas as pd\n",
    "\n",
    "def check_meu_23_1(df):\n",
    "    '''\n",
    "    检查上市公司大股东或董监高是否违规融券卖出本公司股份\n",
    "    \n",
    "    法律的最小可执行单元内容:\n",
    "    {\"subject\": \"上市公司大股东 | 董监高\", \n",
    "     \"condition\": NaN, \n",
    "     \"constraint\": \"不得融券卖出本公司股份\", \n",
    "     \"contextual_info\": NaN}\n",
    "     \n",
    "    合规性检查逻辑:\n",
    "    1. 主体(subject): 必须是上市公司大股东或董监高\n",
    "    2. 约束(constraint): 不得进行融券卖出操作\n",
    "    '''\n",
    "    \n",
    "    # 初始化结果列\n",
    "    df['meu_23_1_subject'] = False  # 主体是否符合\n",
    "    df['meu_23_1_violation'] = False  # 是否违规\n",
    "    \n",
    "    # 1. 检查主体条件: 上市公司大股东或董监高\n",
    "    # 大股东定义: 控股股东、实际控制人或持股5%以上股东\n",
    "    is_major_shareholder = (\n",
    "        df['股东身份'].isin(['控股股东', '实际控制人']) |\n",
    "        (df['持股比例'] >= 0.05)  # 包括未明确标注但持股5%以上的股东\n",
    "    )\n",
    "    \n",
    "    # 董监高定义: 包括现任和离任董监高\n",
    "    is_director = df['股东身份'].isin(['董监高', '离任董监高'])\n",
    "    \n",
    "    # 合并主体条件\n",
    "    valid_subject = is_major_shareholder | is_director\n",
    "    \n",
    "    # 2. 检查约束条件: 是否进行了融券卖出\n",
    "    # 融券卖出定义: 减持方式为'融券卖出'\n",
    "    is_short_selling = df['减持方式'] == '融券卖出'\n",
    "    \n",
    "    # 标记主体符合情况\n",
    "    df.loc[valid_subject, 'meu_23_1_subject'] = True\n",
    "    \n",
    "    # 标记违规情况: 主体符合且进行了融券卖出\n",
    "    violation = valid_subject & is_short_selling\n",
    "    df.loc[violation, 'meu_23_1_violation'] = True\n",
    "    \n",
    "    # 添加合规性总评列\n",
    "    df['meu_23_1_compliance'] = ~violation\n",
    "    \n",
    "    return df"
   ]
  },
  {
   "cell_type": "markdown",
   "id": "4eca1962",
   "metadata": {},
   "source": [
    "---"
   ]
  }
 ],
 "metadata": {
  "kernelspec": {
   "display_name": "GE311",
   "language": "python",
   "name": "python3"
  },
  "language_info": {
   "name": "python",
   "version": "3.11.8"
  }
 },
 "nbformat": 4,
 "nbformat_minor": 5
}

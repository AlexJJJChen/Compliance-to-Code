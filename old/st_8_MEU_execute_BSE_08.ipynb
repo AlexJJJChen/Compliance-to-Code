{
 "cells": [
  {
   "cell_type": "markdown",
   "id": "3d214a2c",
   "metadata": {},
   "source": [
    "# 项目说明\n",
    "\n",
    "从 `MEU_to_code/MEU_selected_with_relation_GT` 找到 `北京证券交易所上市公司持续监管指引第8号——股份减持和持股管理.xlsx`, 这是我们需要处理的 MEU Coding 任务.\n",
    "\n",
    "将每一个 MEU 发送给 LLM 完成 coding 任务, 保存到 `MEU_to_code/MEU_code/raw_response/北京证券交易所上市公司持续监管指引第8号——股份减持和持股管理.xlsx`\n",
    "\n",
    "之后再解析该回复, 保存到`MEU_to_code/MEU_code/北京证券交易所上市公司持续监管指引第8号——股份减持和持股管理.xlsx`"
   ]
  },
  {
   "cell_type": "markdown",
   "id": "a8065bc9",
   "metadata": {},
   "source": [
    "# MEU情况"
   ]
  },
  {
   "cell_type": "code",
   "execution_count": 1,
   "id": "1c34d1e3",
   "metadata": {},
   "outputs": [
    {
     "name": "stdout",
     "output_type": "stream",
     "text": [
      "各类别统计结果:\n",
      "type\n",
      "实际执行单元                    36\n",
      "无法简单执行的兜底条款，倡议条款和模糊的条款    30\n",
      "为简化模型暂不考虑的单元              26\n",
      "在标准的数据格式下不需额外考虑           11\n",
      "立法宗旨等法律基本信息                4\n",
      "Name: count, dtype: int64\n",
      "\n",
      "各类别比例(%):\n",
      "type\n",
      "实际执行单元                    33.644860\n",
      "无法简单执行的兜底条款，倡议条款和模糊的条款    28.037383\n",
      "为简化模型暂不考虑的单元              24.299065\n",
      "在标准的数据格式下不需额外考虑           10.280374\n",
      "立法宗旨等法律基本信息                3.738318\n",
      "Name: count, dtype: float64\n"
     ]
    }
   ],
   "source": [
    "import pandas as pd\n",
    "\n",
    "# 读取Excel文件\n",
    "file_path = \"MEU_to_code/MEU_selected_with_relation_GT/北京证券交易所上市公司持续监管指引第8号——股份减持和持股管理.xlsx\"\n",
    "df = pd.read_excel(file_path)\n",
    "\n",
    "# 统计各类别出现次数\n",
    "type_counts = df['type'].value_counts()\n",
    "\n",
    "# 计算比例\n",
    "type_proportions = type_counts / len(df) * 100\n",
    "\n",
    "# 打印结果\n",
    "print(\"各类别统计结果:\")\n",
    "print(type_counts)\n",
    "print(\"\\n各类别比例(%):\")\n",
    "print(type_proportions)"
   ]
  },
  {
   "cell_type": "code",
   "execution_count": 2,
   "id": "0d1faa47",
   "metadata": {},
   "outputs": [
    {
     "data": {
      "text/plain": [
       "Index(['MEU_id', 'subject', 'condition', 'constraint', 'contextual_info',\n",
       "       'relation', 'target', 'type', 'comments', 'note'],\n",
       "      dtype='object')"
      ]
     },
     "execution_count": 2,
     "metadata": {},
     "output_type": "execute_result"
    }
   ],
   "source": [
    "MEU_to_code_df = df[df['type']==\"实际执行单元\"]\n",
    "MEU_to_code_df.columns"
   ]
  }
 ],
 "metadata": {
  "kernelspec": {
   "display_name": "GE311",
   "language": "python",
   "name": "python3"
  },
  "language_info": {
   "codemirror_mode": {
    "name": "ipython",
    "version": 3
   },
   "file_extension": ".py",
   "mimetype": "text/x-python",
   "name": "python",
   "nbconvert_exporter": "python",
   "pygments_lexer": "ipython3",
   "version": "3.11.8"
  }
 },
 "nbformat": 4,
 "nbformat_minor": 5
}

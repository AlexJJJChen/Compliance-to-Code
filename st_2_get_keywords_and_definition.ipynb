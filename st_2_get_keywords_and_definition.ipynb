{
 "cells": [
  {
   "cell_type": "code",
   "execution_count": null,
   "metadata": {},
   "outputs": [],
   "source": [
    "import os\n",
    "import re\n",
    "import json\n",
    "from tqdm import tqdm\n",
    "from utils.call_gpt import call_gpt, call_gpt_async, read_table_file"
   ]
  },
  {
   "cell_type": "markdown",
   "metadata": {},
   "source": [
    "# 1. 提取关键词"
   ]
  },
  {
   "cell_type": "markdown",
   "metadata": {},
   "source": [
    "## 1.1 prompt模板"
   ]
  },
  {
   "cell_type": "code",
   "execution_count": 2,
   "metadata": {},
   "outputs": [],
   "source": [
    "prompt_get_keywords = \"\"\"\n",
    "您作为法律语义解析专家，请严格遵循以下规则从法律文本中提取规范关键字：\n",
    "\n",
    "【术语定义】\n",
    "1. 最小原子性 - 指不可拆分的完整法律概念（如\"持股5%以上股东\"不可拆为\"股东\"）\n",
    "2. 形式唯一性 - 必须完全匹配法律条文中的原始表述形式\n",
    "3. 复合结构(不强求复合结构, 但如果有结构则需要保留) - 包含以下特征：\n",
    "   - 含数字量化（如\"5%以上\"）\n",
    "   - 含主体关系链（如\"一致行动人\"的三级归属结构）\n",
    "   - 含交易方式限定（如\"竞价交易\"）\n",
    "   - 含特定机构称谓（如\"本所\"）\n",
    "\n",
    "【提取规范】\n",
    "✅ 应提取：\n",
    "- 具有法律效力的主体身份表述\n",
    "- 在本法律下特定的行为的专业表述\n",
    "- 如果没有关键字就不需要返回关键字\n",
    "\n",
    "❌ 不应提取：\n",
    "- 动词短语/形容词短语\n",
    "- 非固定搭配的普通词汇\n",
    "- 语义相同但表述不同的同义词\n",
    "- 超过20字的长句. 一般来说关键字不会这么长\n",
    "- 特定法律的名称. 这种属于外部引用, 而非本法规内部的关键字\n",
    "- 单独的时间限制, 例如\"最近三十六个月内\"\n",
    "- 出现少于二次的词语. 我们希望找到的是频繁出现的关键术语, 如果这个术语出现很少, 没有提取的必要. \n",
    "- “（如有）”这种标签\n",
    "- 过于常见的词汇, 例如\"上市公司\", \"律师事务所\"\n",
    "- 缺乏实际意义的词汇, 例如\"持续发展\"\n",
    "\n",
    "【参考范例】\n",
    "优秀案例：\n",
    "[\"控股股东\", \"持股5%以上股东\", \"本所\"]\n",
    "需避免案例：\n",
    "[\"股东\", \"所持股份比例在5%以上的股东\", \"证券交易所\"]\n",
    "\n",
    "【输出要求】\n",
    "1. 严格保持法条原始字词组合\n",
    "2. 按出现顺序排列\n",
    "3. Python列表格式，元素用双引号包裹\n",
    "4. 用<KEYWORDS></KEYWORDS>标签封装\n",
    "\n",
    "下面是需要你处理的法律条文：\n",
    "{Law_articles}\n",
    "\"\"\"\n"
   ]
  },
  {
   "cell_type": "code",
   "execution_count": 3,
   "metadata": {},
   "outputs": [],
   "source": [
    "\n",
    "# content, reasoning_content, api_usage = call_gpt(\n",
    "#     prompt=prompt_get_keywords.format(Law_articles=batches[1]),\n",
    "#     api_key = \"35684824-1776-48b6-94fd-96c2e99d0724\",\n",
    "#     base_url = \"https://ark.cn-beijing.volces.com/api/v3\",\n",
    "#     model = \"ep-20250217153824-9xcbx\",  # DeepSeek-R1\n",
    "# )\n",
    "# reasoning_content"
   ]
  },
  {
   "cell_type": "code",
   "execution_count": 4,
   "metadata": {},
   "outputs": [],
   "source": [
    "# print(content)"
   ]
  },
  {
   "cell_type": "markdown",
   "metadata": {},
   "source": [
    "## 1.2 异步获取keywords结果"
   ]
  },
  {
   "cell_type": "code",
   "execution_count": null,
   "metadata": {},
   "outputs": [],
   "source": [
    "import pandas as pd\n",
    "import asyncio\n",
    "import os\n",
    "\n",
    "\n",
    "async def get_keywords_response_async(\n",
    "    file_name: str,\n",
    "    batch_size: int = 20,\n",
    "    max_concurrency: int = 5  # 最大并发数\n",
    "):\n",
    "    if file_name.endswith(\".csv\"):\n",
    "        pass\n",
    "    else:\n",
    "        file_name += \".csv\"\n",
    "\n",
    "    input_dir = r\"law_to_MEU/law_articles_csv\"\n",
    "    output_dir = r\"law_to_MEU/law_articles_keywords/raw_response\"\n",
    "    os.makedirs(output_dir, exist_ok=True)\n",
    "\n",
    "    input_path = os.path.join(input_dir, file_name)\n",
    "    output_path = os.path.join(output_dir, file_name)\n",
    "\n",
    "    df = pd.read_csv(input_path, encoding='utf-8-sig')\n",
    "    law_articles = df['law_article'].tolist()\n",
    "\n",
    "    batches = [law_articles[i:i+batch_size] \n",
    "              for i in range(0, len(law_articles), batch_size)]\n",
    "    \n",
    "    tasks = []\n",
    "    for batch in batches:\n",
    "        law_text = \"\\n\".join(batch)\n",
    "        prompt = prompt_get_keywords.format(Law_articles=law_text)\n",
    "        task = call_gpt_async(\n",
    "            prompt=prompt,\n",
    "            api_key=\"35684824-1776-48b6-94fd-96c2e99d0724\",\n",
    "            base_url=\"https://ark.cn-beijing.volces.com/api/v3\",\n",
    "            model=\"ep-20250217153824-9xcbx\",\n",
    "            temperature=0.6,\n",
    "        )\n",
    "        tasks.append(task)\n",
    "\n",
    "    # 分组执行控制并发\n",
    "    all_results = []\n",
    "    for i in range(0, len(tasks), max_concurrency):\n",
    "        batch_tasks = tasks[i:i + max_concurrency]\n",
    "        batch_results = await asyncio.gather(*batch_tasks)\n",
    "        all_results.extend(batch_results)\n",
    "\n",
    "    contents = []\n",
    "    reasonings = []\n",
    "    usages = []\n",
    "    \n",
    "    for content, reasoning, usage in all_results:\n",
    "        contents.append(content)\n",
    "        reasonings.append(reasoning)\n",
    "        usages.append(usage)\n",
    "\n",
    "    combined_df = pd.DataFrame({\n",
    "        'Content': contents,\n",
    "        'Reasoning': reasonings,\n",
    "        'Usage': usages\n",
    "    })\n",
    "    \n",
    "    combined_df.to_csv(output_path, index=False, encoding='utf-8-sig')\n",
    "    \n",
    "    return contents, reasonings, usages"
   ]
  },
  {
   "cell_type": "code",
   "execution_count": 6,
   "metadata": {},
   "outputs": [],
   "source": [
    "# file_name = \"北京证券交易所上市公司持续监管指引第3号——股权激励和员工持股计划.csv\"\n",
    "# await get_keywords_response_async(file_name)"
   ]
  },
  {
   "cell_type": "markdown",
   "metadata": {},
   "source": [
    "## 1.3 解析并保存keywords"
   ]
  },
  {
   "cell_type": "code",
   "execution_count": 7,
   "metadata": {},
   "outputs": [],
   "source": [
    "import pandas as pd\n",
    "import re\n",
    "import ast\n",
    "import os\n",
    "\n",
    "def get_keywords(input_file):\n",
    "\n",
    "    if input_file.endswith(\".csv\"):\n",
    "        pass\n",
    "    else:\n",
    "        input_file += \".csv\"\n",
    "\n",
    "    # 构建路径\n",
    "    input_path = os.path.join(\"law_to_MEU\", \"law_articles_keywords\", \"raw_response\", input_file)\n",
    "    output_dir = os.path.join(\"law_to_MEU\", \"law_articles_keywords\")\n",
    "    output_path = os.path.join(output_dir, input_file)\n",
    "    \n",
    "    # 读取原始文件\n",
    "    df = pd.read_csv(input_path, encoding='utf-8-sig')\n",
    "    \n",
    "    all_keywords = []\n",
    "    \n",
    "    for content in df['Content']:\n",
    "        # 替换错误的闭合标签\n",
    "        content = content.replace(\"<\\KEYWORDS>\", \"</KEYWORDS>\")\n",
    "        \n",
    "        # 提取关键词内容\n",
    "        match = re.search(r'<KEYWORDS>(.*?)</KEYWORDS>', content, re.DOTALL)\n",
    "        if match:\n",
    "            keywords_str = match.group(1).strip()\n",
    "            try:\n",
    "                # 转换字符串为列表\n",
    "                keywords_list = ast.literal_eval(keywords_str)\n",
    "                if isinstance(keywords_list, list):\n",
    "                    all_keywords.extend(keywords_list)\n",
    "            except (SyntaxError, ValueError):\n",
    "                print(f\"解析失败的内容：{keywords_str}\")\n",
    "                continue\n",
    "    \n",
    "    # 去重并创建DataFrame\n",
    "    unique_keywords = pd.DataFrame({'keywords': list(set(all_keywords))})\n",
    "    \n",
    "    # 确保输出目录存在\n",
    "    os.makedirs(output_dir, exist_ok=True)\n",
    "    \n",
    "    # 保存结果\n",
    "    unique_keywords.to_csv(output_path, index=False, encoding='utf-8-sig')\n",
    "    return unique_keywords"
   ]
  },
  {
   "cell_type": "code",
   "execution_count": 8,
   "metadata": {},
   "outputs": [],
   "source": [
    "\n",
    "# file_name = \"北京证券交易所上市公司持续监管指引第3号——股权激励和员工持股计划.csv\"\n",
    "# result_df = get_keywords(file_name)\n",
    "# result_df"
   ]
  },
  {
   "cell_type": "markdown",
   "metadata": {},
   "source": [
    "# 2. 提取全局定义"
   ]
  },
  {
   "cell_type": "code",
   "execution_count": 9,
   "metadata": {},
   "outputs": [],
   "source": [
    "prompt_extract_definitions = \"\"\"\n",
    "法律条文全局定义提取器\n",
    "识别法律文本中通过统称、列举、解释等方式建立的全局性定义，\n",
    "构建术语与完整定义的映射关系。\n",
    "\n",
    "【定义特征识别】\n",
    "典型模式：\n",
    "1. 统称：\"...（以下统称XX）\" \n",
    "2. 简称：\"...（以下简称XX）\"\n",
    "3. 解释：\"XX指...\" \n",
    "4. 复合：\"XX包括...，且需满足...条件\"\n",
    "5. 所称: \"本指引所称的xxx是xxx\"\n",
    "\n",
    "【任务要求】\n",
    "1. 捕获定义的完整语义边界\n",
    "2. 保留原文的限定词与逻辑关系\n",
    "3. 处理包含条件句、例外条款的复杂定义\n",
    "4. 如果没有全局定义就不需要返回全局定义, 不要杜撰全局定义\n",
    "\n",
    "EXAMPLES\n",
    ">>> input：\n",
    "\"上市公司控股股东、实际控制人和持有5%以上股份的股东（以下统称大股东）...\"\n",
    "<<< output：\n",
    "{{\"大股东\": \"上市公司控股股东、实际控制人、持有5%以上股份的股东的统称\"}}\n",
    "\n",
    ">>> input：\n",
    "\"本细则所称异常交易，指连续30个交易日成交量超过市场均值200%且被本所警示的交易行为\"\n",
    "<<< output：\n",
    "{{\"异常交易\": \"连续30个交易日成交量超过市场均值200%且被本所警示的交易行为\"}}\n",
    "\n",
    ">>> input：\n",
    "\"重点排污单位(含年排放量超5000吨的工业企业、市级以上污水处理厂)\"\n",
    "<<< output：\n",
    "{{\"重点排污单位\": \"包含年排放量超5000吨的工业企业和市级以上污水处理厂的主体\"}}\n",
    "\n",
    ">>> input：\n",
    "\"战略投资者指符合下列条件之一的机构：①管理资产超百亿 ②有产业整合经验 ③持股锁定期不少于36个月\"\n",
    "<<< output：\n",
    "{{\"战略投资者\": \"符合管理资产超百亿/有产业整合经验/持股锁定期不少于36个月条件之一的机构\"}}\n",
    "\n",
    "【输出规范】\n",
    "使用Python列表包裹你找到的所有全局定义，每个定义为一个字典：\n",
    "<DEFINITIONS>\n",
    "[\n",
    "    {{\"定义术语1\": \"包含原文关键限定词的定义描述1\"}},\n",
    "    ...\n",
    "]\n",
    "</DEFINITIONS>\n",
    "\n",
    "下面是需要你处理的法律条文：\n",
    "{Law_articles}\n",
    "\"\"\""
   ]
  },
  {
   "cell_type": "code",
   "execution_count": 10,
   "metadata": {},
   "outputs": [],
   "source": [
    "# content, reasoning_content, api_usage = call_gpt(\n",
    "#     prompt=prompt_extract_definitions.format(Law_articles=law_articles),\n",
    "#     api_key = \"35684824-1776-48b6-94fd-96c2e99d0724\",\n",
    "#     base_url = \"https://ark.cn-beijing.volces.com/api/v3\",\n",
    "#     model = \"ep-20250217153824-9xcbx\",  # DeepSeek-R1\n",
    "# )\n",
    "# print(reasoning_content)"
   ]
  },
  {
   "cell_type": "code",
   "execution_count": 11,
   "metadata": {},
   "outputs": [],
   "source": [
    "# print(content)"
   ]
  },
  {
   "cell_type": "markdown",
   "metadata": {},
   "source": [
    "## 2.1 异步获取全局定义"
   ]
  },
  {
   "cell_type": "code",
   "execution_count": null,
   "metadata": {},
   "outputs": [],
   "source": [
    "import pandas as pd\n",
    "import asyncio\n",
    "import os\n",
    "\n",
    "\n",
    "async def get_global_definition_response_async(\n",
    "    file_name: str,\n",
    "    batch_size: int = 20,\n",
    "    max_concurrency: int = 5  # 最大并发数\n",
    "):\n",
    "    if file_name.endswith(\".csv\"):\n",
    "        pass\n",
    "    else:\n",
    "        file_name += \".csv\"\n",
    "\n",
    "    input_dir = r\"law_to_MEU/st_1_law_csv\"\n",
    "    output_dir = r\"law_to_MEU/st_2_law_keywords_definitions/raw_response\"\n",
    "    os.makedirs(output_dir, exist_ok=True)\n",
    "\n",
    "    input_path = os.path.join(input_dir, file_name)\n",
    "    output_path = os.path.join(output_dir, file_name)\n",
    "\n",
    "    df = pd.read_csv(input_path, encoding='utf-8-sig')\n",
    "    law_articles = df['law_article'].tolist()\n",
    "\n",
    "    batches = [law_articles[i:i+batch_size] \n",
    "              for i in range(0, len(law_articles), batch_size)]\n",
    "    \n",
    "    tasks = []\n",
    "    for batch in batches:\n",
    "        law_text = \"\\n\".join(batch)\n",
    "        prompt = prompt_extract_definitions.format(Law_articles=law_text)\n",
    "        task = call_gpt_async(\n",
    "            prompt=prompt,\n",
    "            api_key=\"35684824-1776-48b6-94fd-96c2e99d0724\",\n",
    "            base_url=\"https://ark.cn-beijing.volces.com/api/v3\",\n",
    "            model=\"ep-20250217153824-9xcbx\",\n",
    "            temperature=0.6\n",
    "        )\n",
    "        tasks.append(task)\n",
    "\n",
    "    # 分组执行控制并发\n",
    "    all_results = []\n",
    "    for i in range(0, len(tasks), max_concurrency):\n",
    "        batch_tasks = tasks[i:i + max_concurrency]\n",
    "        batch_results = await asyncio.gather(*batch_tasks)\n",
    "        all_results.extend(batch_results)\n",
    "\n",
    "    contents = []\n",
    "    reasonings = []\n",
    "    usages = []\n",
    "    \n",
    "    for content, reasoning, usage in all_results:\n",
    "        contents.append(content)\n",
    "        reasonings.append(reasoning)\n",
    "        usages.append(usage)\n",
    "\n",
    "    combined_df = pd.DataFrame({\n",
    "        'Content': contents,\n",
    "        'Reasoning': reasonings,\n",
    "        'Usage': usages\n",
    "    })\n",
    "    \n",
    "    combined_df.to_csv(output_path, index=False, encoding='utf-8-sig')\n",
    "    \n",
    "    return contents, reasonings, usages"
   ]
  },
  {
   "cell_type": "code",
   "execution_count": 13,
   "metadata": {},
   "outputs": [],
   "source": [
    "\n",
    "# file_name = \"北京证券交易所上市公司持续监管指引第3号——股权激励和员工持股计划.csv\"\n",
    "# await get_global_definition_response_async(file_name)\n"
   ]
  },
  {
   "cell_type": "markdown",
   "metadata": {},
   "source": [
    "## 2.2 解析并保存全局定义"
   ]
  },
  {
   "cell_type": "code",
   "execution_count": 14,
   "metadata": {},
   "outputs": [],
   "source": [
    "import pandas as pd\n",
    "import re\n",
    "import ast\n",
    "import os\n",
    "\n",
    "def get_global_definition(input_file):\n",
    "\n",
    "    if input_file.endswith(\".csv\"):\n",
    "        pass\n",
    "    else:\n",
    "        input_file += \".csv\"\n",
    "        \n",
    "    # 构建路径\n",
    "    input_dir = \"law_to_MEU/st_2_law_keywords_definitions/raw_response\"\n",
    "    input_path = os.path.join(input_dir,  input_file)\n",
    "    output_dir = \"law_to_MEU/st_2_law_keywords_definitions\"\n",
    "    output_path = os.path.join(output_dir, input_file)\n",
    "    \n",
    "    # 读取原始文件\n",
    "    df = pd.read_csv(input_path, encoding='utf-8-sig')\n",
    "    \n",
    "    all_key_value_pairs = []\n",
    "    \n",
    "    for content in df['Content']:\n",
    "        # 修复闭合标签格式\n",
    "        content = content.replace(\"<\\DEFINITIONS>\", \"</DEFINITIONS>\")\n",
    "        \n",
    "        # 提取DEFINITIONS块\n",
    "        match = re.search(r'<DEFINITIONS>(.*?)</DEFINITIONS>', content, re.DOTALL)\n",
    "        if match:\n",
    "            definitions_str = match.group(1).strip()\n",
    "            try:\n",
    "                # 将字符串解析为列表\n",
    "                definitions_list = ast.literal_eval(definitions_str)\n",
    "                if isinstance(definitions_list, list):\n",
    "                    for item in definitions_list:\n",
    "                        if isinstance(item, dict) and len(item) == 1:\n",
    "                            # 提取唯一键值对\n",
    "                            key, value = next(iter(item.items()))\n",
    "                            all_key_value_pairs.append({\"key\": key, \"value\": value})\n",
    "            except (SyntaxError, ValueError) as e:\n",
    "                print(f\"解析失败：{e}\\n内容：{definitions_str}\")\n",
    "                continue\n",
    "    \n",
    "    # 去重逻辑（以key为唯一标识，保留首次出现的值）\n",
    "    unique_pairs = {}\n",
    "    for pair in all_key_value_pairs:\n",
    "        key = pair[\"key\"]\n",
    "        if key not in unique_pairs:\n",
    "            unique_pairs[key] = pair\n",
    "    \n",
    "    # 构建DataFrame\n",
    "    unique_df = pd.DataFrame(list(unique_pairs.values()))\n",
    "    \n",
    "    # 确保输出目录存在\n",
    "    os.makedirs(output_dir, exist_ok=True)\n",
    "    \n",
    "    # 保存结果\n",
    "    unique_df.to_csv(output_path, index=False, encoding='utf-8-sig')\n",
    "    return unique_df"
   ]
  },
  {
   "cell_type": "code",
   "execution_count": 15,
   "metadata": {},
   "outputs": [],
   "source": [
    "# file_name = \"北京证券交易所上市公司持续监管指引第3号——股权激励和员工持股计划.csv\"\n",
    "# result_df = get_global_definition(file_name)\n",
    "# result_df"
   ]
  },
  {
   "cell_type": "code",
   "execution_count": 16,
   "metadata": {},
   "outputs": [],
   "source": [
    "# len(result_df)"
   ]
  },
  {
   "cell_type": "markdown",
   "metadata": {},
   "source": [
    "# 3. 提取身份信息转换"
   ]
  },
  {
   "cell_type": "markdown",
   "metadata": {},
   "source": [
    "## 3.1 prompt模板"
   ]
  },
  {
   "cell_type": "code",
   "execution_count": null,
   "metadata": {},
   "outputs": [],
   "source": [
    "\n"
   ]
  },
  {
   "cell_type": "markdown",
   "metadata": {},
   "source": [
    "## 3.2 异步获取身份转换信息"
   ]
  },
  {
   "cell_type": "code",
   "execution_count": null,
   "metadata": {},
   "outputs": [],
   "source": [
    "\n"
   ]
  },
  {
   "cell_type": "markdown",
   "metadata": {},
   "source": [
    "## 3.3 解析并保存身份转换信息"
   ]
  },
  {
   "cell_type": "code",
   "execution_count": null,
   "metadata": {},
   "outputs": [],
   "source": [
    "\n"
   ]
  },
  {
   "cell_type": "markdown",
   "metadata": {},
   "source": [
    "# n. 整体处理"
   ]
  },
  {
   "cell_type": "code",
   "execution_count": 17,
   "metadata": {},
   "outputs": [],
   "source": [
    "file_name = \"北京证券交易所上市公司持续监管指引第3号——股权激励和员工持股计划.csv\""
   ]
  },
  {
   "cell_type": "code",
   "execution_count": 18,
   "metadata": {},
   "outputs": [],
   "source": [
    "# await get_keywords_response_async(file_name)\n",
    "# result_df_keywords = get_keywords(file_name)\n",
    "# result_df_keywords"
   ]
  },
  {
   "cell_type": "code",
   "execution_count": 19,
   "metadata": {},
   "outputs": [
    {
     "name": "stdout",
     "output_type": "stream",
     "text": [
      "当前工作路径: /Users/svenli/Nutstore Files/0ProjectsOnNut/ForProfYuan/合规的形式化/meu_graph_v2\n"
     ]
    }
   ],
   "source": [
    "import os\n",
    "\n",
    "# 获取当前工作路径\n",
    "current_path = os.getcwd()\n",
    "\n",
    "# 打印结果\n",
    "print(\"当前工作路径:\", current_path)"
   ]
  },
  {
   "cell_type": "code",
   "execution_count": 20,
   "metadata": {},
   "outputs": [
    {
     "data": {
      "text/plain": [
       "['北京证券交易所上市公司持续监管指引第8号——股份减持和持股管理.csv',\n",
       " '北京证券交易所上市公司持续监管指引第3号——股权激励和员工持股计划.csv',\n",
       " '北京证券交易所上市公司持续监管指引第5号——要约收购.csv',\n",
       " '北京证券交易所上市公司持续监管指引第2号——季度报告.csv',\n",
       " '北京证券交易所上市公司持续监管指引第1号——独立董事.csv',\n",
       " '北京证券交易所上市公司持续监管指引第9号——募集资金管理.csv',\n",
       " '北京证券交易所上市公司持续监管指引第4号——股份回购.csv',\n",
       " '北京证券交易所上市公司持续监管指引第10号——权益分派.csv',\n",
       " '北京证券交易所上市公司持续监管指引第6号——内幕信息知情人管理及报送.csv',\n",
       " '北京证券交易所上市公司持续监管指引第7号——转板.csv']"
      ]
     },
     "execution_count": 20,
     "metadata": {},
     "output_type": "execute_result"
    }
   ],
   "source": [
    "directory_path = \"law_to_MEU/st_1_law_csv\"\n",
    "\n",
    "# 提取所有.csv文件的文件名，不包含路径\n",
    "law_filenames = [\n",
    "    f for f in os.listdir(directory_path) if f.endswith('.csv')\n",
    "]\n",
    "\n",
    "law_filenames"
   ]
  },
  {
   "cell_type": "code",
   "execution_count": 21,
   "metadata": {},
   "outputs": [
    {
     "name": "stderr",
     "output_type": "stream",
     "text": [
      "100%|██████████| 10/10 [06:09<00:00, 36.96s/it]\n"
     ]
    }
   ],
   "source": [
    "from tqdm import tqdm\n",
    "\n",
    "for file_name in tqdm(law_filenames):\n",
    "    await get_global_definition_response_async(file_name)\n",
    "    result_df_global_definition = get_global_definition(file_name)\n",
    "    # result_df_global_definition"
   ]
  }
 ],
 "metadata": {
  "kernelspec": {
   "display_name": "GE311",
   "language": "python",
   "name": "python3"
  },
  "language_info": {
   "codemirror_mode": {
    "name": "ipython",
    "version": 3
   },
   "file_extension": ".py",
   "mimetype": "text/x-python",
   "name": "python",
   "nbconvert_exporter": "python",
   "pygments_lexer": "ipython3",
   "version": "3.11.11"
  }
 },
 "nbformat": 4,
 "nbformat_minor": 2
}

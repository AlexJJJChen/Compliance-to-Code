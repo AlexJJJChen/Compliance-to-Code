{
 "cells": [
  {
   "cell_type": "markdown",
   "id": "47263345",
   "metadata": {},
   "source": [
    "# 大概有多少Law和MEU"
   ]
  },
  {
   "cell_type": "code",
   "execution_count": 3,
   "id": "6c771bab",
   "metadata": {},
   "outputs": [
    {
     "name": "stdout",
     "output_type": "stream",
     "text": [
      "文件名                            法条数        MEU数      \n",
      "--------------------------------------------------\n",
      "北京证券交易所上市公司持续监管指引第5号——要约收购.xlsx 36         103       \n",
      "北京证券交易所上市公司持续监管指引第6号——内幕信息知情人管理及报送.xlsx 25         75        \n",
      "北京证券交易所上市公司持续监管指引第9号——募集资金管理.xlsx 27         106       \n",
      "北京证券交易所上市公司持续监管指引第8号——股份减持和持股管理.xlsx 29         95        \n",
      "北京证券交易所上市公司持续监管指引第10号——权益分派.xlsx 33         88        \n",
      "北京证券交易所上市公司持续监管指引第4号——股份回购.xlsx 78         248       \n",
      "北京证券交易所上市公司持续监管指引第3号——股权激励和员工持股计划.xlsx 66         155       \n",
      "北京证券交易所上市公司持续监管指引第7号——转板.xlsx  21         72        \n",
      "北京证券交易所上市公司持续监管指引第2号——季度报告.xlsx 16         36        \n",
      "北京证券交易所上市公司持续监管指引第1号——独立董事.xlsx 30         105       \n",
      "\n",
      "汇总统计:\n",
      "总文件数: 10\n",
      "总法条数: 361\n",
      "总MEU数: 1083\n",
      "平均每个文件的法条数: 36.10\n",
      "平均每个文件的MEU数: 108.30\n",
      "平均每个法条的MEU数: 3.00\n"
     ]
    }
   ],
   "source": [
    "import pandas as pd\n",
    "import os\n",
    "\n",
    "def analyze_law_files(directory):\n",
    "    total_files = 0\n",
    "    total_articles = 0\n",
    "    total_meus = 0\n",
    "    \n",
    "    print(f\"{'文件名':<30} {'法条数':<10} {'MEU数':<10}\")\n",
    "    print(\"-\" * 50)\n",
    "    \n",
    "    # 遍历目录下的所有xlsx文件\n",
    "    for filename in os.listdir(directory):\n",
    "        if filename.endswith('.xlsx'):\n",
    "            filepath = os.path.join(directory, filename)\n",
    "            df = pd.read_excel(filepath)\n",
    "            \n",
    "            # 统计法条数和MEU数\n",
    "            if 'MEU_id' in df.columns:\n",
    "                # 提取法条编号n\n",
    "                df['article_num'] = df['MEU_id'].str.extract(r'MEU_(\\d+)_\\d+')\n",
    "                article_count = df['article_num'].nunique()\n",
    "                meu_count = len(df)\n",
    "                \n",
    "                print(f\"{filename:<30} {article_count:<10} {meu_count:<10}\")\n",
    "                \n",
    "                total_files += 1\n",
    "                total_articles += article_count\n",
    "                total_meus += meu_count\n",
    "    \n",
    "    print(\"\\n汇总统计:\")\n",
    "    print(f\"总文件数: {total_files}\")\n",
    "    print(f\"总法条数: {total_articles}\")\n",
    "    print(f\"总MEU数: {total_meus}\")\n",
    "    \n",
    "    if total_files > 0:\n",
    "        print(f\"平均每个文件的法条数: {total_articles/total_files:.2f}\")\n",
    "        print(f\"平均每个文件的MEU数: {total_meus/total_files:.2f}\")\n",
    "        print(f\"平均每个法条的MEU数: {total_meus/total_articles:.2f}\")\n",
    "\n",
    "# 使用示例\n",
    "analyze_law_files('law_to_MEU/st_3_0_MEU')"
   ]
  },
  {
   "cell_type": "code",
   "execution_count": 7,
   "id": "7d337d0d",
   "metadata": {},
   "outputs": [
    {
     "data": {
      "text/plain": [
       "540"
      ]
     },
     "execution_count": 7,
     "metadata": {},
     "output_type": "execute_result"
    }
   ],
   "source": [
    "30 * 18"
   ]
  },
  {
   "cell_type": "code",
   "execution_count": 6,
   "id": "f34a0694",
   "metadata": {},
   "outputs": [
    {
     "data": {
      "text/plain": [
       "138.624"
      ]
     },
     "execution_count": 6,
     "metadata": {},
     "output_type": "execute_result"
    }
   ],
   "source": [
    "361 * 2 * 12000 / 1000000 * 16"
   ]
  },
  {
   "cell_type": "code",
   "execution_count": 1,
   "id": "4e15cd95",
   "metadata": {},
   "outputs": [],
   "source": [
    "import numpy as np\n",
    "from sklearn.metrics import r2_score\n",
    "\n",
    "def generate_data_and_calculate_r2(n_samples=100, random_seed=None):\n",
    "    \"\"\"\n",
    "    生成预测值和真实值，并计算R²分数\n",
    "    \n",
    "    参数:\n",
    "    n_samples (int): 样本数量\n",
    "    random_seed (int): 随机种子，用于可重复性\n",
    "    \n",
    "    返回:\n",
    "    tuple: (y_true, y_pred, r2)\n",
    "    \"\"\"\n",
    "    if random_seed is not None:\n",
    "        np.random.seed(random_seed)\n",
    "    \n",
    "    # 生成真实值 (y_true)\n",
    "    x = np.linspace(0, 10, n_samples)\n",
    "    y_true = 2 * x + 1 + np.random.normal(0, 2, n_samples)  # 线性关系加噪声\n",
    "    \n",
    "    # 生成预测值 (y_pred) - 这里我们模拟一个不错的预测\n",
    "    y_pred = 1.9 * x + 1.2 + np.random.normal(0, 1.5, n_samples)\n",
    "    \n",
    "    # 计算R²分数\n",
    "    r2 = r2_score(y_true, y_pred)\n",
    "    \n",
    "    return y_true, y_pred, r2\n",
    "\n",
    "# 测试用例\n",
    "def test_r2_calculation():\n",
    "    # 测试1: 使用固定随机种子确保可重复性\n",
    "    y_true, y_pred, r2 = generate_data_and_calculate_r2(random_seed=42)\n",
    "    print(f\"测试1 - R²分数: {r2:.4f}\")\n",
    "    assert isinstance(r2, float), \"R²应该是浮点数\"\n",
    "    assert -1 <= r2 <= 1, \"R²应该在-1到1之间\"\n",
    "    \n",
    "    # 测试2: 完美预测的情况\n",
    "    y_true_perfect = np.array([1, 2, 3, 4, 5])\n",
    "    y_pred_perfect = y_true_perfect.copy()\n",
    "    perfect_r2 = r2_score(y_true_perfect, y_pred_perfect)\n",
    "    print(f\"测试2 - 完美预测R²: {perfect_r2:.4f}\")\n",
    "    assert perfect_r2 == 1.0, \"完美预测时R²应为1\"\n",
    "    \n",
    "    # 测试3: 比基准模型还差的情况\n",
    "    y_true_bad = np.array([2, 4, 6, 8, 10])\n",
    "    y_pred_bad = np.array([10, 8, 6, 4, 2])  # 完全相反的预测\n",
    "    bad_r2 = r2_score(y_true_bad, y_pred_bad)\n",
    "    print(f\"测试3 - 比基准还差的R²: {bad_r2:.4f}\")\n",
    "    assert bad_r2 < 0, \"比基准模型还差时R²应为负\"\n",
    "    \n",
    "    print(\"所有测试通过!\")"
   ]
  },
  {
   "cell_type": "code",
   "execution_count": 2,
   "id": "2668b084",
   "metadata": {},
   "outputs": [
    {
     "name": "stdout",
     "output_type": "stream",
     "text": [
      "生成的样本数: 50\n",
      "前5个真实值: [-1.17126121  3.40285416  2.38228353 -0.78809963  1.47545256]\n",
      "前5个预测值: [-0.74112798  0.02957279  4.59107854  1.1661712   2.79554525]\n",
      "计算得到的R²分数: 0.7848\n",
      "\n",
      "运行测试用例...\n",
      "测试1 - R²分数: 0.8397\n",
      "测试2 - 完美预测R²: 1.0000\n",
      "测试3 - 比基准还差的R²: -3.0000\n",
      "所有测试通过!\n"
     ]
    }
   ],
   "source": [
    "# 示例使用\n",
    "y_true, y_pred, r2 = generate_data_and_calculate_r2(n_samples=50, random_seed=123)\n",
    "print(f\"生成的样本数: {len(y_true)}\")\n",
    "print(f\"前5个真实值: {y_true[:5]}\")\n",
    "print(f\"前5个预测值: {y_pred[:5]}\")\n",
    "print(f\"计算得到的R²分数: {r2:.4f}\")\n",
    "\n",
    "# 运行测试\n",
    "print(\"\\n运行测试用例...\")\n",
    "test_r2_calculation()"
   ]
  }
 ],
 "metadata": {
  "kernelspec": {
   "display_name": "GE311",
   "language": "python",
   "name": "python3"
  },
  "language_info": {
   "codemirror_mode": {
    "name": "ipython",
    "version": 3
   },
   "file_extension": ".py",
   "mimetype": "text/x-python",
   "name": "python",
   "nbconvert_exporter": "python",
   "pygments_lexer": "ipython3",
   "version": "3.11.11"
  }
 },
 "nbformat": 4,
 "nbformat_minor": 5
}

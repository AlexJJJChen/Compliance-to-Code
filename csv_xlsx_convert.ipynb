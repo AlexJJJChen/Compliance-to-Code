{
 "cells": [
  {
   "cell_type": "markdown",
   "metadata": {},
   "source": [
    "# csv和xlsx转化: converter文件夹下"
   ]
  },
  {
   "cell_type": "code",
   "execution_count": 4,
   "metadata": {},
   "outputs": [],
   "source": [
    "import os\n",
    "import pandas as pd\n",
    "from pathlib import Path\n",
    "\n",
    "def csv_to_xlsx():\n",
    "    \"\"\"\n",
    "    将 converter 目录下的所有 CSV 文件转换为 XLSX 文件\n",
    "    使用 utf-8-sig 编码读取 CSV，原始文件保留\n",
    "    \"\"\"\n",
    "    converter_dir = Path('converter')\n",
    "    \n",
    "    if not converter_dir.exists():\n",
    "        print(f\"目录 {converter_dir} 不存在\")\n",
    "        return\n",
    "    \n",
    "    for csv_file in converter_dir.glob('*.csv'):\n",
    "        xlsx_file = csv_file.with_suffix('.xlsx')\n",
    "        \n",
    "        try:\n",
    "            # 明确指定 utf-8-sig 编码读取 CSV\n",
    "            df = pd.read_csv(csv_file, encoding='utf-8-sig')\n",
    "            df.to_excel(xlsx_file, index=False)\n",
    "            print(f\"转换成功: {csv_file} -> {xlsx_file}\")\n",
    "        except Exception as e:\n",
    "            print(f\"转换失败 {csv_file}: {str(e)}\")\n",
    "\n",
    "def xlsx_to_csv():\n",
    "    \"\"\"\n",
    "    将 converter 目录下的所有 XLSX 文件转换为 CSV 文件\n",
    "    使用 utf-8-sig 编码写入 CSV，原始文件保留\n",
    "    \"\"\"\n",
    "    converter_dir = Path('converter')\n",
    "    \n",
    "    if not converter_dir.exists():\n",
    "        print(f\"目录 {converter_dir} 不存在\")\n",
    "        return\n",
    "    \n",
    "    for xlsx_file in converter_dir.glob('*.xlsx'):\n",
    "        csv_file = xlsx_file.with_suffix('.csv')\n",
    "        \n",
    "        try:\n",
    "            df = pd.read_excel(xlsx_file)\n",
    "            # 明确指定 utf-8-sig 编码写入 CSV\n",
    "            df.to_csv(csv_file, index=False, encoding='utf-8-sig')\n",
    "            print(f\"转换成功: {xlsx_file} -> {csv_file}\")\n",
    "        except Exception as e:\n",
    "            print(f\"转换失败 {xlsx_file}: {str(e)}\")\n"
   ]
  },
  {
   "cell_type": "code",
   "execution_count": 5,
   "metadata": {},
   "outputs": [
    {
     "name": "stdout",
     "output_type": "stream",
     "text": [
      "开始 CSV 转 XLSX...\n"
     ]
    }
   ],
   "source": [
    "print(\"开始 CSV 转 XLSX...\")\n",
    "csv_to_xlsx()\n"
   ]
  },
  {
   "cell_type": "code",
   "execution_count": 6,
   "metadata": {},
   "outputs": [
    {
     "name": "stdout",
     "output_type": "stream",
     "text": [
      "\n",
      "开始 XLSX 转 CSV...\n"
     ]
    }
   ],
   "source": [
    "print(\"\\n开始 XLSX 转 CSV...\")\n",
    "xlsx_to_csv()\n"
   ]
  },
  {
   "cell_type": "markdown",
   "metadata": {},
   "source": [
    "# relation合并到MEU转xlsx"
   ]
  },
  {
   "cell_type": "code",
   "execution_count": 3,
   "metadata": {},
   "outputs": [],
   "source": [
    "import os\n",
    "import pandas as pd\n",
    "from collections import defaultdict\n",
    "\n",
    "def process_files(\n",
    "        relation_dir=r'law_to_MEU/st_4_MEU_relations', \n",
    "        meu_dir=r'law_to_MEU/st_3_0_MEU/GT', \n",
    "        output_dir=r'law_to_MEU/st_4_MEU_relations/MEU_with_relation'\n",
    "        ):\n",
    "    # 确保输出目录存在\n",
    "    os.makedirs(output_dir, exist_ok=True)\n",
    "\n",
    "    # 遍历relation目录中的所有csv文件\n",
    "    for filename in os.listdir(meu_dir):\n",
    "        if not filename.endswith(\".csv\"):\n",
    "            continue\n",
    "\n",
    "        # 构造完整文件路径\n",
    "        relation_path = os.path.join(relation_dir, filename)\n",
    "        meu_path = os.path.join(meu_dir, filename)\n",
    "        output_path = os.path.join(output_dir, filename)\n",
    "\n",
    "        # 检查MEU文件是否存在\n",
    "        if not os.path.exists(meu_path):\n",
    "            print(f\"警告：未找到对应的MEU文件 {meu_path}\")\n",
    "            continue\n",
    "\n",
    "        # 读取relation数据\n",
    "        relation_df = pd.read_csv(relation_path, encoding=\"utf-8-sig\")\n",
    "        \n",
    "        # 读取MEU数据\n",
    "        meu_df = pd.read_csv(meu_path, encoding=\"utf-8-sig\")\n",
    "\n",
    "        # 创建关系字典 {source: {relation: [targets]}}\n",
    "        relation_dict = defaultdict(lambda: defaultdict(list))\n",
    "        for _, row in relation_df.iterrows():\n",
    "            source = row[\"source\"]\n",
    "            relation = row[\"relation\"]\n",
    "            target = row[\"target\"]\n",
    "            relation_dict[source][relation].append(target)\n",
    "\n",
    "        # 合并数据\n",
    "        merged_rows = []\n",
    "        for _, meu_row in meu_df.iterrows():\n",
    "            meu_id = meu_row[\"MEU_id\"]\n",
    "            base_info = meu_row.to_dict()\n",
    "\n",
    "            if meu_id in relation_dict:\n",
    "                # 处理每个关系\n",
    "                for relation, targets in relation_dict[meu_id].items():\n",
    "                    new_row = base_info.copy()\n",
    "                    new_row[\"relation\"] = relation\n",
    "                    new_row[\"target\"] = \";\".join(targets)\n",
    "                    merged_rows.append(new_row)\n",
    "            else:\n",
    "                # 没有关系的条目\n",
    "                new_row = base_info.copy()\n",
    "                new_row[\"relation\"] = \"\"\n",
    "                new_row[\"target\"] = \"\"\n",
    "                merged_rows.append(new_row)\n",
    "\n",
    "        # 创建最终DataFrame\n",
    "        result_df = pd.DataFrame(merged_rows)\n",
    "\n",
    "        result_df['confirmed'] = 0\n",
    "        result_df['comments_relation'] = ''\n",
    "        \n",
    "        # 定义列顺序\n",
    "        columns = [\"MEU_id\", \"subject\", \"condition\", \"constraint\", \"contextual_info\", \"relation\", \"target\", 'confirmed', 'comments_relation']\n",
    "        \n",
    "        # 基于MEU_id进行排序\n",
    "        def sort_key(meu_id):\n",
    "            parts = meu_id.split('_')\n",
    "            n = int(parts[1])\n",
    "            k = int(parts[2])\n",
    "            return (n, k)\n",
    "        \n",
    "        result_df = result_df.sort_values(by=\"MEU_id\", key=lambda x: x.map(sort_key))\n",
    "\n",
    "        # 保存为XLSX文件\n",
    "        output_path_excel = output_path.replace('.csv', '.xlsx')\n",
    "        result_df[columns].to_excel(\n",
    "            output_path_excel, \n",
    "            index=False, \n",
    "            engine='openpyxl'  # 指定引擎，确保支持xlsx格式\n",
    "        )\n",
    "        print(f\"已处理文件：{output_path_excel}\")\n"
   ]
  },
  {
   "cell_type": "code",
   "execution_count": 4,
   "metadata": {},
   "outputs": [
    {
     "name": "stdout",
     "output_type": "stream",
     "text": [
      "已处理文件：law_to_MEU/st_4_MEU_relations/MEU_with_relation/北京证券交易所上市公司持续监管指引第8号——股份减持和持股管理.xlsx\n",
      "已处理文件：law_to_MEU/st_4_MEU_relations/MEU_with_relation/北京证券交易所上市公司持续监管指引第5号——要约收购.xlsx\n",
      "已处理文件：law_to_MEU/st_4_MEU_relations/MEU_with_relation/北京证券交易所上市公司持续监管指引第1号——独立董事.xlsx\n",
      "已处理文件：law_to_MEU/st_4_MEU_relations/MEU_with_relation/北京证券交易所上市公司持续监管指引第4号——股份回购.xlsx\n",
      "已处理文件：law_to_MEU/st_4_MEU_relations/MEU_with_relation/北京证券交易所上市公司持续监管指引第10号——权益分派.xlsx\n"
     ]
    }
   ],
   "source": [
    "# 执行处理\n",
    "process_files()"
   ]
  },
  {
   "cell_type": "markdown",
   "metadata": {},
   "source": [
    "# 地址结构"
   ]
  },
  {
   "cell_type": "code",
   "execution_count": 12,
   "metadata": {},
   "outputs": [
    {
     "name": "stdout",
     "output_type": "stream",
     "text": [
      "meu_graph_v2/\n",
      "    MEU_to_code/\n",
      "        MEU_code/\n",
      "            GT/\n",
      "            raw_response/\n",
      "        MEU_selected_with_relation_GT/\n",
      "    __pycache__/\n",
      "    converter/\n",
      "    data_simulation/\n",
      "        data_generated/\n",
      "        data_labeled/\n",
      "    law_to_MEU/\n",
      "        st_0_law_docx/\n",
      "            with_appendix/\n",
      "        st_1_law_csv/\n",
      "        st_2_law_keywords_definitions/\n",
      "            GT/\n",
      "            raw_response/\n",
      "        st_3_0_MEU/\n",
      "            GT/\n",
      "            raw_response/\n",
      "        st_3_1_inner_relations/\n",
      "            GT/\n",
      "            raw_response/\n",
      "        st_4_MEU_relations/\n",
      "            MEU_with_relation/\n",
      "                GT/\n",
      "            raw_response/\n",
      "        st_5_MEU_Graph_HTML/\n",
      "            GT/\n",
      "        st_6_MEU_evaluate/\n",
      "            GT/\n",
      "            raw_response/\n"
     ]
    }
   ],
   "source": [
    "import os\n",
    "\n",
    "def print_directory_tree(\n",
    "    start_path=None, \n",
    "    indent=\"\", \n",
    "    show_files=True, \n",
    "    prefix=\"\"\n",
    "):\n",
    "    \"\"\"\n",
    "    打印目录结构树，可选择是否包含文件\n",
    "    \n",
    "    Args:\n",
    "        start_path (str): 起始路径，默认为当前工作目录\n",
    "        indent (str): 缩进字符（内部递归使用）\n",
    "        show_files (bool): 是否显示文件，默认 True\n",
    "        prefix (str): 每行前缀（内部递归使用）\n",
    "    \"\"\"\n",
    "    if start_path is None:\n",
    "        start_path = os.getcwd()\n",
    "    \n",
    "    # 打印当前目录名\n",
    "    dir_name = os.path.basename(start_path)\n",
    "    print(prefix + indent + dir_name + \"/\")\n",
    "    \n",
    "    new_indent = indent + \"    \"\n",
    "    try:\n",
    "        items = sorted(os.listdir(start_path))\n",
    "    except PermissionError:\n",
    "        print(prefix + new_indent + \"[Permission Denied]\")\n",
    "        return\n",
    "    \n",
    "    for item in items:\n",
    "        item_path = os.path.join(start_path, item)\n",
    "        if os.path.isdir(item_path):\n",
    "            # 递归处理子目录\n",
    "            print_directory_tree(\n",
    "                item_path, \n",
    "                new_indent, \n",
    "                show_files, \n",
    "                prefix\n",
    "            )\n",
    "        elif show_files:\n",
    "            # 如果是文件，并且 show_files=True，则打印\n",
    "            print(prefix + new_indent + item)\n",
    "\n",
    "\n",
    "print_directory_tree(\n",
    "    start_path=None, \n",
    "    indent=\"\", \n",
    "    show_files=False, \n",
    "    # show_files=True, \n",
    "    prefix=\"\"\n",
    ")"
   ]
  }
 ],
 "metadata": {
  "kernelspec": {
   "display_name": "GE311",
   "language": "python",
   "name": "python3"
  },
  "language_info": {
   "codemirror_mode": {
    "name": "ipython",
    "version": 3
   },
   "file_extension": ".py",
   "mimetype": "text/x-python",
   "name": "python",
   "nbconvert_exporter": "python",
   "pygments_lexer": "ipython3",
   "version": "3.11.11"
  }
 },
 "nbformat": 4,
 "nbformat_minor": 2
}

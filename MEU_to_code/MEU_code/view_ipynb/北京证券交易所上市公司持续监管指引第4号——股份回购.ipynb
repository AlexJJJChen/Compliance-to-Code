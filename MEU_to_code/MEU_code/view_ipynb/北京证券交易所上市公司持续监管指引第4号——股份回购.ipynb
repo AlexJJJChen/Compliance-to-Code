{
 "cells": [
  {
   "cell_type": "code",
   "execution_count": 1,
   "id": "3d23eba5",
   "metadata": {},
   "outputs": [
    {
     "ename": "FileNotFoundError",
     "evalue": "[Errno 2] No such file or directory: 'data_simulation/data_generated/data_simulate_04.csv'",
     "output_type": "error",
     "traceback": [
      "\u001b[31m---------------------------------------------------------------------------\u001b[39m",
      "\u001b[31mFileNotFoundError\u001b[39m                         Traceback (most recent call last)",
      "\u001b[36mCell\u001b[39m\u001b[36m \u001b[39m\u001b[32mIn[1]\u001b[39m\u001b[32m, line 4\u001b[39m\n\u001b[32m      1\u001b[39m \u001b[38;5;66;03m# 读取模拟数据\u001b[39;00m\n\u001b[32m      2\u001b[39m \u001b[38;5;66;03m# 读取模拟数据\u001b[39;00m\n\u001b[32m      3\u001b[39m \u001b[38;5;28;01mimport\u001b[39;00m\u001b[38;5;250m \u001b[39m\u001b[34;01mpandas\u001b[39;00m\u001b[38;5;250m \u001b[39m\u001b[38;5;28;01mas\u001b[39;00m\u001b[38;5;250m \u001b[39m\u001b[34;01mpd\u001b[39;00m\n\u001b[32m----> \u001b[39m\u001b[32m4\u001b[39m df = \u001b[43mpd\u001b[49m\u001b[43m.\u001b[49m\u001b[43mread_csv\u001b[49m\u001b[43m(\u001b[49m\u001b[33;43m'\u001b[39;49m\u001b[33;43mdata_simulation/data_generated/data_simulate_04.csv\u001b[39;49m\u001b[33;43m'\u001b[39;49m\u001b[43m)\u001b[49m\n\u001b[32m      5\u001b[39m date_columns = [\u001b[33m\"\u001b[39m\u001b[33m财务数据日期\u001b[39m\u001b[33m\"\u001b[39m, \u001b[33m\"\u001b[39m\u001b[33m公告日期\u001b[39m\u001b[33m\"\u001b[39m, \u001b[33m\"\u001b[39m\u001b[33m日期\u001b[39m\u001b[33m\"\u001b[39m]\n\u001b[32m      6\u001b[39m \u001b[38;5;28;01mfor\u001b[39;00m col \u001b[38;5;129;01min\u001b[39;00m date_columns:\n",
      "\u001b[36mFile \u001b[39m\u001b[32m/opt/anaconda3/envs/GE311/lib/python3.11/site-packages/pandas/io/parsers/readers.py:1026\u001b[39m, in \u001b[36mread_csv\u001b[39m\u001b[34m(filepath_or_buffer, sep, delimiter, header, names, index_col, usecols, dtype, engine, converters, true_values, false_values, skipinitialspace, skiprows, skipfooter, nrows, na_values, keep_default_na, na_filter, verbose, skip_blank_lines, parse_dates, infer_datetime_format, keep_date_col, date_parser, date_format, dayfirst, cache_dates, iterator, chunksize, compression, thousands, decimal, lineterminator, quotechar, quoting, doublequote, escapechar, comment, encoding, encoding_errors, dialect, on_bad_lines, delim_whitespace, low_memory, memory_map, float_precision, storage_options, dtype_backend)\u001b[39m\n\u001b[32m   1013\u001b[39m kwds_defaults = _refine_defaults_read(\n\u001b[32m   1014\u001b[39m     dialect,\n\u001b[32m   1015\u001b[39m     delimiter,\n\u001b[32m   (...)\u001b[39m\u001b[32m   1022\u001b[39m     dtype_backend=dtype_backend,\n\u001b[32m   1023\u001b[39m )\n\u001b[32m   1024\u001b[39m kwds.update(kwds_defaults)\n\u001b[32m-> \u001b[39m\u001b[32m1026\u001b[39m \u001b[38;5;28;01mreturn\u001b[39;00m \u001b[43m_read\u001b[49m\u001b[43m(\u001b[49m\u001b[43mfilepath_or_buffer\u001b[49m\u001b[43m,\u001b[49m\u001b[43m \u001b[49m\u001b[43mkwds\u001b[49m\u001b[43m)\u001b[49m\n",
      "\u001b[36mFile \u001b[39m\u001b[32m/opt/anaconda3/envs/GE311/lib/python3.11/site-packages/pandas/io/parsers/readers.py:620\u001b[39m, in \u001b[36m_read\u001b[39m\u001b[34m(filepath_or_buffer, kwds)\u001b[39m\n\u001b[32m    617\u001b[39m _validate_names(kwds.get(\u001b[33m\"\u001b[39m\u001b[33mnames\u001b[39m\u001b[33m\"\u001b[39m, \u001b[38;5;28;01mNone\u001b[39;00m))\n\u001b[32m    619\u001b[39m \u001b[38;5;66;03m# Create the parser.\u001b[39;00m\n\u001b[32m--> \u001b[39m\u001b[32m620\u001b[39m parser = \u001b[43mTextFileReader\u001b[49m\u001b[43m(\u001b[49m\u001b[43mfilepath_or_buffer\u001b[49m\u001b[43m,\u001b[49m\u001b[43m \u001b[49m\u001b[43m*\u001b[49m\u001b[43m*\u001b[49m\u001b[43mkwds\u001b[49m\u001b[43m)\u001b[49m\n\u001b[32m    622\u001b[39m \u001b[38;5;28;01mif\u001b[39;00m chunksize \u001b[38;5;129;01mor\u001b[39;00m iterator:\n\u001b[32m    623\u001b[39m     \u001b[38;5;28;01mreturn\u001b[39;00m parser\n",
      "\u001b[36mFile \u001b[39m\u001b[32m/opt/anaconda3/envs/GE311/lib/python3.11/site-packages/pandas/io/parsers/readers.py:1620\u001b[39m, in \u001b[36mTextFileReader.__init__\u001b[39m\u001b[34m(self, f, engine, **kwds)\u001b[39m\n\u001b[32m   1617\u001b[39m     \u001b[38;5;28mself\u001b[39m.options[\u001b[33m\"\u001b[39m\u001b[33mhas_index_names\u001b[39m\u001b[33m\"\u001b[39m] = kwds[\u001b[33m\"\u001b[39m\u001b[33mhas_index_names\u001b[39m\u001b[33m\"\u001b[39m]\n\u001b[32m   1619\u001b[39m \u001b[38;5;28mself\u001b[39m.handles: IOHandles | \u001b[38;5;28;01mNone\u001b[39;00m = \u001b[38;5;28;01mNone\u001b[39;00m\n\u001b[32m-> \u001b[39m\u001b[32m1620\u001b[39m \u001b[38;5;28mself\u001b[39m._engine = \u001b[38;5;28;43mself\u001b[39;49m\u001b[43m.\u001b[49m\u001b[43m_make_engine\u001b[49m\u001b[43m(\u001b[49m\u001b[43mf\u001b[49m\u001b[43m,\u001b[49m\u001b[43m \u001b[49m\u001b[38;5;28;43mself\u001b[39;49m\u001b[43m.\u001b[49m\u001b[43mengine\u001b[49m\u001b[43m)\u001b[49m\n",
      "\u001b[36mFile \u001b[39m\u001b[32m/opt/anaconda3/envs/GE311/lib/python3.11/site-packages/pandas/io/parsers/readers.py:1880\u001b[39m, in \u001b[36mTextFileReader._make_engine\u001b[39m\u001b[34m(self, f, engine)\u001b[39m\n\u001b[32m   1878\u001b[39m     \u001b[38;5;28;01mif\u001b[39;00m \u001b[33m\"\u001b[39m\u001b[33mb\u001b[39m\u001b[33m\"\u001b[39m \u001b[38;5;129;01mnot\u001b[39;00m \u001b[38;5;129;01min\u001b[39;00m mode:\n\u001b[32m   1879\u001b[39m         mode += \u001b[33m\"\u001b[39m\u001b[33mb\u001b[39m\u001b[33m\"\u001b[39m\n\u001b[32m-> \u001b[39m\u001b[32m1880\u001b[39m \u001b[38;5;28mself\u001b[39m.handles = \u001b[43mget_handle\u001b[49m\u001b[43m(\u001b[49m\n\u001b[32m   1881\u001b[39m \u001b[43m    \u001b[49m\u001b[43mf\u001b[49m\u001b[43m,\u001b[49m\n\u001b[32m   1882\u001b[39m \u001b[43m    \u001b[49m\u001b[43mmode\u001b[49m\u001b[43m,\u001b[49m\n\u001b[32m   1883\u001b[39m \u001b[43m    \u001b[49m\u001b[43mencoding\u001b[49m\u001b[43m=\u001b[49m\u001b[38;5;28;43mself\u001b[39;49m\u001b[43m.\u001b[49m\u001b[43moptions\u001b[49m\u001b[43m.\u001b[49m\u001b[43mget\u001b[49m\u001b[43m(\u001b[49m\u001b[33;43m\"\u001b[39;49m\u001b[33;43mencoding\u001b[39;49m\u001b[33;43m\"\u001b[39;49m\u001b[43m,\u001b[49m\u001b[43m \u001b[49m\u001b[38;5;28;43;01mNone\u001b[39;49;00m\u001b[43m)\u001b[49m\u001b[43m,\u001b[49m\n\u001b[32m   1884\u001b[39m \u001b[43m    \u001b[49m\u001b[43mcompression\u001b[49m\u001b[43m=\u001b[49m\u001b[38;5;28;43mself\u001b[39;49m\u001b[43m.\u001b[49m\u001b[43moptions\u001b[49m\u001b[43m.\u001b[49m\u001b[43mget\u001b[49m\u001b[43m(\u001b[49m\u001b[33;43m\"\u001b[39;49m\u001b[33;43mcompression\u001b[39;49m\u001b[33;43m\"\u001b[39;49m\u001b[43m,\u001b[49m\u001b[43m \u001b[49m\u001b[38;5;28;43;01mNone\u001b[39;49;00m\u001b[43m)\u001b[49m\u001b[43m,\u001b[49m\n\u001b[32m   1885\u001b[39m \u001b[43m    \u001b[49m\u001b[43mmemory_map\u001b[49m\u001b[43m=\u001b[49m\u001b[38;5;28;43mself\u001b[39;49m\u001b[43m.\u001b[49m\u001b[43moptions\u001b[49m\u001b[43m.\u001b[49m\u001b[43mget\u001b[49m\u001b[43m(\u001b[49m\u001b[33;43m\"\u001b[39;49m\u001b[33;43mmemory_map\u001b[39;49m\u001b[33;43m\"\u001b[39;49m\u001b[43m,\u001b[49m\u001b[43m \u001b[49m\u001b[38;5;28;43;01mFalse\u001b[39;49;00m\u001b[43m)\u001b[49m\u001b[43m,\u001b[49m\n\u001b[32m   1886\u001b[39m \u001b[43m    \u001b[49m\u001b[43mis_text\u001b[49m\u001b[43m=\u001b[49m\u001b[43mis_text\u001b[49m\u001b[43m,\u001b[49m\n\u001b[32m   1887\u001b[39m \u001b[43m    \u001b[49m\u001b[43merrors\u001b[49m\u001b[43m=\u001b[49m\u001b[38;5;28;43mself\u001b[39;49m\u001b[43m.\u001b[49m\u001b[43moptions\u001b[49m\u001b[43m.\u001b[49m\u001b[43mget\u001b[49m\u001b[43m(\u001b[49m\u001b[33;43m\"\u001b[39;49m\u001b[33;43mencoding_errors\u001b[39;49m\u001b[33;43m\"\u001b[39;49m\u001b[43m,\u001b[49m\u001b[43m \u001b[49m\u001b[33;43m\"\u001b[39;49m\u001b[33;43mstrict\u001b[39;49m\u001b[33;43m\"\u001b[39;49m\u001b[43m)\u001b[49m\u001b[43m,\u001b[49m\n\u001b[32m   1888\u001b[39m \u001b[43m    \u001b[49m\u001b[43mstorage_options\u001b[49m\u001b[43m=\u001b[49m\u001b[38;5;28;43mself\u001b[39;49m\u001b[43m.\u001b[49m\u001b[43moptions\u001b[49m\u001b[43m.\u001b[49m\u001b[43mget\u001b[49m\u001b[43m(\u001b[49m\u001b[33;43m\"\u001b[39;49m\u001b[33;43mstorage_options\u001b[39;49m\u001b[33;43m\"\u001b[39;49m\u001b[43m,\u001b[49m\u001b[43m \u001b[49m\u001b[38;5;28;43;01mNone\u001b[39;49;00m\u001b[43m)\u001b[49m\u001b[43m,\u001b[49m\n\u001b[32m   1889\u001b[39m \u001b[43m\u001b[49m\u001b[43m)\u001b[49m\n\u001b[32m   1890\u001b[39m \u001b[38;5;28;01massert\u001b[39;00m \u001b[38;5;28mself\u001b[39m.handles \u001b[38;5;129;01mis\u001b[39;00m \u001b[38;5;129;01mnot\u001b[39;00m \u001b[38;5;28;01mNone\u001b[39;00m\n\u001b[32m   1891\u001b[39m f = \u001b[38;5;28mself\u001b[39m.handles.handle\n",
      "\u001b[36mFile \u001b[39m\u001b[32m/opt/anaconda3/envs/GE311/lib/python3.11/site-packages/pandas/io/common.py:873\u001b[39m, in \u001b[36mget_handle\u001b[39m\u001b[34m(path_or_buf, mode, encoding, compression, memory_map, is_text, errors, storage_options)\u001b[39m\n\u001b[32m    868\u001b[39m \u001b[38;5;28;01melif\u001b[39;00m \u001b[38;5;28misinstance\u001b[39m(handle, \u001b[38;5;28mstr\u001b[39m):\n\u001b[32m    869\u001b[39m     \u001b[38;5;66;03m# Check whether the filename is to be opened in binary mode.\u001b[39;00m\n\u001b[32m    870\u001b[39m     \u001b[38;5;66;03m# Binary mode does not support 'encoding' and 'newline'.\u001b[39;00m\n\u001b[32m    871\u001b[39m     \u001b[38;5;28;01mif\u001b[39;00m ioargs.encoding \u001b[38;5;129;01mand\u001b[39;00m \u001b[33m\"\u001b[39m\u001b[33mb\u001b[39m\u001b[33m\"\u001b[39m \u001b[38;5;129;01mnot\u001b[39;00m \u001b[38;5;129;01min\u001b[39;00m ioargs.mode:\n\u001b[32m    872\u001b[39m         \u001b[38;5;66;03m# Encoding\u001b[39;00m\n\u001b[32m--> \u001b[39m\u001b[32m873\u001b[39m         handle = \u001b[38;5;28;43mopen\u001b[39;49m\u001b[43m(\u001b[49m\n\u001b[32m    874\u001b[39m \u001b[43m            \u001b[49m\u001b[43mhandle\u001b[49m\u001b[43m,\u001b[49m\n\u001b[32m    875\u001b[39m \u001b[43m            \u001b[49m\u001b[43mioargs\u001b[49m\u001b[43m.\u001b[49m\u001b[43mmode\u001b[49m\u001b[43m,\u001b[49m\n\u001b[32m    876\u001b[39m \u001b[43m            \u001b[49m\u001b[43mencoding\u001b[49m\u001b[43m=\u001b[49m\u001b[43mioargs\u001b[49m\u001b[43m.\u001b[49m\u001b[43mencoding\u001b[49m\u001b[43m,\u001b[49m\n\u001b[32m    877\u001b[39m \u001b[43m            \u001b[49m\u001b[43merrors\u001b[49m\u001b[43m=\u001b[49m\u001b[43merrors\u001b[49m\u001b[43m,\u001b[49m\n\u001b[32m    878\u001b[39m \u001b[43m            \u001b[49m\u001b[43mnewline\u001b[49m\u001b[43m=\u001b[49m\u001b[33;43m\"\u001b[39;49m\u001b[33;43m\"\u001b[39;49m\u001b[43m,\u001b[49m\n\u001b[32m    879\u001b[39m \u001b[43m        \u001b[49m\u001b[43m)\u001b[49m\n\u001b[32m    880\u001b[39m     \u001b[38;5;28;01melse\u001b[39;00m:\n\u001b[32m    881\u001b[39m         \u001b[38;5;66;03m# Binary mode\u001b[39;00m\n\u001b[32m    882\u001b[39m         handle = \u001b[38;5;28mopen\u001b[39m(handle, ioargs.mode)\n",
      "\u001b[31mFileNotFoundError\u001b[39m: [Errno 2] No such file or directory: 'data_simulation/data_generated/data_simulate_04.csv'"
     ]
    }
   ],
   "source": [
    "# 读取模拟数据\n",
    "# 读取模拟数据\n",
    "import pandas as pd\n",
    "df = pd.read_csv('data_simulation/data_generated/data_simulate_04.csv')\n",
    "date_columns = [\"财务数据日期\", \"公告日期\", \"日期\"]\n",
    "for col in date_columns:\n",
    "    df[col] = pd.to_datetime(df[col])\n",
    "df"
   ]
  },
  {
   "cell_type": "markdown",
   "id": "6bc36781",
   "metadata": {},
   "source": [
    "# Law Article 4"
   ]
  },
  {
   "cell_type": "markdown",
   "id": "c7084ab3",
   "metadata": {},
   "source": [
    "## MEU_4_1"
   ]
  },
  {
   "cell_type": "markdown",
   "id": "fe079649",
   "metadata": {},
   "source": [
    "\n",
    "| 字段 | 内容 |\n",
    "|------|------|\n",
    "| subject | 上市公司 |\n",
    "| condition | 因维护公司价值及股东权益所必需回购股份的 |\n",
    "| constraint | 应当符合以下条件之一：（一）公司股票收盘价格低于最近一期每股净资产；（二）连续20个交易日内公司股票收盘价格跌幅累计达到20%；（三）公司股票收盘价格低于最近一年股票最高收盘价格的50%；（四）中国证券监督管理委员会（以下简称中国证监会）规定的其他条件。 |\n",
    "| contextual_info | nan |\n",
    "| note | nan |\n",
    "| relation | nan |\n",
    "| target | nan |\n",
    "| type | 实际执行单元 |\n",
    "| comments | nan |\n",
    "| prompt_tokens | 1855 |\n",
    "| completion_tokens | 4160 |\n"
   ]
  },
  {
   "cell_type": "markdown",
   "id": "3af02a61",
   "metadata": {},
   "source": [
    "### 代码实现"
   ]
  },
  {
   "cell_type": "code",
   "execution_count": null,
   "id": "33fbfba6",
   "metadata": {},
   "outputs": [],
   "source": [
    "import pandas as pd\n",
    "\n",
    "def check_meu_4_1(df):\n",
    "    '''\n",
    "    检查MEU_4_1合规性：\n",
    "    - subject: 上市公司（所有记录自动满足）\n",
    "    - condition: 存在维护公司价值的回购方案\n",
    "    - constraint: 需满足四个价格条件之一（仅验证前三项）\n",
    "    '''\n",
    "    df = df.copy()\n",
    "\n",
    "    # 初始化合规标记列\n",
    "    df['meu_4_1_subject'] = True  # 所有记录均为上市公司\n",
    "    df['meu_4_1_condition'] = False\n",
    "    df['meu_4_1_constraint'] = None\n",
    "\n",
    "    # 标记condition条件（存在特定目的的回购方案）\n",
    "    valid_condition = df['存在回购方案'] & (df['回购用途'] == '维护公司价值及股东权益所必需')\n",
    "    df['meu_4_1_condition'] = valid_condition\n",
    "\n",
    "    # 计算constraint的三个可验证条件\n",
    "    # 条件1：收盘价低于每股净资产\n",
    "    condition1 = df['收盘价'] < df['每股净资产']\n",
    "\n",
    "    # 条件2：20交易日累计跌幅20%（按公司分组计算）\n",
    "    df['20d_prior_close'] = df.groupby('公司简称')['收盘价'].shift(20)\n",
    "    price_drop = (df['收盘价'] - df['20d_prior_close']) / df['20d_prior_close']\n",
    "    condition2 = price_drop <= -0.2\n",
    "\n",
    "    # 条件3：低于一年最高价50%（滚动250交易日窗口）\n",
    "    df['1y_high'] = df.groupby('公司简称')['收盘价'].transform(\n",
    "        lambda x: x.rolling(250, min_periods=1).max()\n",
    "    )\n",
    "    condition3 = df['收盘价'] < (df['1y_high'] * 0.5)\n",
    "\n",
    "    # 合并有效约束条件（前三项）\n",
    "    valid_constraint = condition1 | condition2 | condition3\n",
    "    \n",
    "    # 标记constraint列\n",
    "    df['meu_4_1_constraint'] = valid_constraint.astype(bool)\n",
    "    \n",
    "    # 清理中间计算列\n",
    "    df.drop(['20d_prior_close', '1y_high'], axis=1, inplace=True, errors='ignore')\n",
    "\n",
    "    return df"
   ]
  },
  {
   "cell_type": "code",
   "execution_count": null,
   "id": "eef43017",
   "metadata": {},
   "outputs": [],
   "source": [
    "df = check_meu_4_1(df)\n",
    "df"
   ]
  },
  {
   "cell_type": "markdown",
   "id": "b2f08776",
   "metadata": {},
   "source": [
    "---"
   ]
  },
  {
   "cell_type": "markdown",
   "id": "e258ddba",
   "metadata": {},
   "source": [
    "# Law Article 13"
   ]
  },
  {
   "cell_type": "markdown",
   "id": "dfce3a37",
   "metadata": {},
   "source": [
    "## MEU_13_1"
   ]
  },
  {
   "cell_type": "markdown",
   "id": "94586473",
   "metadata": {},
   "source": [
    "\n",
    "| 字段 | 内容 |\n",
    "|------|------|\n",
    "| subject | 上市公司 |\n",
    "| condition | 实施竞价回购 |\n",
    "| constraint | 应当符合公司股票上市已满6个月 |\n",
    "| contextual_info | nan |\n",
    "| note | 假设公司股票上市日为最早的收盘价非空的日期 |\n",
    "| relation | nan |\n",
    "| target | nan |\n",
    "| type | 实际执行单元 |\n",
    "| comments | nan |\n",
    "| prompt_tokens | 1800 |\n",
    "| completion_tokens | 1896 |\n"
   ]
  },
  {
   "cell_type": "markdown",
   "id": "71e222b1",
   "metadata": {},
   "source": [
    "### 代码实现"
   ]
  },
  {
   "cell_type": "code",
   "execution_count": null,
   "id": "d65c6a91",
   "metadata": {},
   "outputs": [],
   "source": [
    "import pandas as pd\n",
    "\n",
    "def check_meu_13_1(df):\n",
    "    '''\n",
    "    验证MEU_13_1合规性:\n",
    "    - subject: 上市公司\n",
    "    - condition: 实施竞价回购\n",
    "    - constraint: 上市已满6个月\n",
    "    \n",
    "    参数说明:\n",
    "    df: 包含公司每日状态的面板数据，必须包含['上市日期','日期','回购方式']列\n",
    "    \n",
    "    验证逻辑:\n",
    "    1. 所有公司默认满足subject条件（均为上市公司）\n",
    "    2. 当回购方式为竞价交易时满足condition\n",
    "    3. 当当前日期距离上市日期满6个月时满足constraint\n",
    "    '''\n",
    "    \n",
    "    df = df.copy()\n",
    "    \n",
    "    # 初始化标记列\n",
    "    df['meu_13_1_subject'] = True  # 所有公司均为上市公司\n",
    "    df['meu_13_1_condition'] = False\n",
    "    df['meu_13_1_constraint'] = False\n",
    "    \n",
    "    # 标记condition条件（实施竞价回购）\n",
    "    is_auction_repurchase = df['回购方式'] == '竞价回购'\n",
    "    df.loc[is_auction_repurchase, 'meu_13_1_condition'] = True\n",
    "    \n",
    "    # 标记constraint条件（上市满6个月）\n",
    "    # 计算上市日期+6个月后的日期\n",
    "    six_months_after = df['上市日期'] + pd.DateOffset(months=6)\n",
    "    # 比较当前日期是否满足时间要求（包含等于）\n",
    "    valid_constraint = df['日期'] >= six_months_after\n",
    "    df.loc[valid_constraint, 'meu_13_1_constraint'] = True\n",
    "    \n",
    "    return df"
   ]
  },
  {
   "cell_type": "code",
   "execution_count": null,
   "id": "786d09cb",
   "metadata": {},
   "outputs": [],
   "source": [
    "df = check_meu_13_1(df)\n",
    "df"
   ]
  },
  {
   "cell_type": "markdown",
   "id": "155596ca",
   "metadata": {},
   "source": [
    "---"
   ]
  },
  {
   "cell_type": "markdown",
   "id": "520c02b5",
   "metadata": {},
   "source": [
    "## MEU_13_2"
   ]
  },
  {
   "cell_type": "markdown",
   "id": "f7331a1e",
   "metadata": {},
   "source": [
    "\n",
    "| 字段 | 内容 |\n",
    "|------|------|\n",
    "| subject | 上市公司 |\n",
    "| condition | 实施竞价回购 |\n",
    "| constraint | 应当符合公司最近1年无重大违法行为 |\n",
    "| contextual_info | nan |\n",
    "| note | nan |\n",
    "| relation | nan |\n",
    "| target | nan |\n",
    "| type | 实际执行单元 |\n",
    "| comments | nan |\n",
    "| prompt_tokens | 1789 |\n",
    "| completion_tokens | 4860 |\n"
   ]
  },
  {
   "cell_type": "markdown",
   "id": "86950cb2",
   "metadata": {},
   "source": [
    "### 代码实现"
   ]
  },
  {
   "cell_type": "code",
   "execution_count": null,
   "id": "8dcc577b",
   "metadata": {},
   "outputs": [],
   "source": [
    "import pandas as pd\n",
    "\n",
    "def check_meu_13_2(df):\n",
    "    '''\n",
    "    合规性检查函数，针对MEU_13_2条款：\n",
    "    - subject: 上市公司\n",
    "    - condition: 实施竞价回购\n",
    "    - constraint: 最近1年无重大违法行为\n",
    "    \n",
    "    参数说明：\n",
    "    df : 包含上市公司每日状态数据的DataFrame\n",
    "    \n",
    "    返回：\n",
    "    添加合规性标记后的DataFrame\n",
    "    '''\n",
    "    df = df.copy()\n",
    "\n",
    "    # 初始化标记列\n",
    "    df['meu_13_2_subject'] = True  # 所有公司均为上市公司\n",
    "    df['meu_13_2_condition'] = False\n",
    "    df['meu_13_2_constraint'] = None\n",
    "\n",
    "    # 条件1: 实施竞价回购\n",
    "    valid_condition = df['存在回购方案'] & (df['回购方式'] == '竞价回购')\n",
    "    df.loc[valid_condition, 'meu_13_2_condition'] = True\n",
    "\n",
    "    # 条件2: 最近1年无重大违法行为\n",
    "    # 创建临时违法标记\n",
    "    df['重大违法'] = df['公司法律情况'] == '重大违法行为'\n",
    "    \n",
    "    # 按公司分组进行时间序列计算\n",
    "    df_sorted = df.sort_values(['公司简称', '日期'])\n",
    "    df_sorted['重大违法_过去一年'] = df_sorted.groupby('公司简称')['重大违法'].apply(\n",
    "        lambda x: x.rolling('365D', closed='left').max().fillna(False)\n",
    "    )\n",
    "    \n",
    "    # 合并计算结果\n",
    "    df = df.merge(df_sorted[['重大违法_过去一年']], left_index=True, right_index=True, how='left')\n",
    "    \n",
    "    # 设置约束条件标记\n",
    "    df['meu_13_2_constraint'] = ~df['重大违法_过去一年']\n",
    "    \n",
    "    # 清理临时列\n",
    "    df.drop(columns=['重大违法', '重大违法_过去一年'], inplace=True)\n",
    "\n",
    "    return df"
   ]
  },
  {
   "cell_type": "code",
   "execution_count": null,
   "id": "7b795568",
   "metadata": {},
   "outputs": [],
   "source": [
    "df = check_meu_13_2(df)\n",
    "df"
   ]
  },
  {
   "cell_type": "markdown",
   "id": "4bf68569",
   "metadata": {},
   "source": [
    "---"
   ]
  },
  {
   "cell_type": "markdown",
   "id": "4ad8a65d",
   "metadata": {},
   "source": [
    "## MEU_13_7"
   ]
  },
  {
   "cell_type": "markdown",
   "id": "cc9d0f60",
   "metadata": {},
   "source": [
    "\n",
    "| 字段 | 内容 |\n",
    "|------|------|\n",
    "| subject | 上市公司 |\n",
    "| condition | 因触及本指引第四条规定条件而启动回购并减少注册资本 |\n",
    "| constraint | 不适用股票上市已满6个月的要求 |\n",
    "| contextual_info | nan |\n",
    "| note | nan |\n",
    "| relation | exclude |\n",
    "| target | MEU_13_1 |\n",
    "| type | 实际执行单元 |\n",
    "| comments | nan |\n",
    "| prompt_tokens | 1799 |\n",
    "| completion_tokens | 6697 |\n"
   ]
  },
  {
   "cell_type": "markdown",
   "id": "ece0f10d",
   "metadata": {},
   "source": [
    "### 代码实现"
   ]
  },
  {
   "cell_type": "code",
   "execution_count": null,
   "id": "9a4b2672",
   "metadata": {},
   "outputs": [],
   "source": [
    "import pandas as pd\n",
    "\n",
    "def check_meu_13_7(df):\n",
    "    '''\n",
    "    合规性检查函数，用于验证MEU_13_7条款的遵守情况\n",
    "    subject: 上市公司\n",
    "    condition: 因触及本指引第四条规定条件而启动回购并减少注册资本\n",
    "    constraint: 不适用股票上市已满6个月的要求\n",
    "    '''\n",
    "    df = df.copy()\n",
    "\n",
    "    # 初始化标记列\n",
    "    df['meu_13_7_subject'] = True  # 所有公司均为上市公司\n",
    "    df['meu_13_7_condition'] = False\n",
    "    df['meu_13_7_constraint'] = False\n",
    "\n",
    "    # 条件验证：触发第四条回购情形（假设第四条对应维护公司价值的回购）\n",
    "    # 1.存在有效回购方案 2.回购用途为维护公司价值 3.假设该情形对应减少注册资本\n",
    "    valid_condition = (\n",
    "        df['存在回购方案'] & \n",
    "        (df['回购用途'] == '维护公司价值及股东权益所必需')\n",
    "    )\n",
    "    df.loc[valid_condition, 'meu_13_7_condition'] = True\n",
    "\n",
    "    # 约束验证：上市未满6个月（精确到自然月计算）\n",
    "    # 计算上市日期6个月后的日期\n",
    "    six_months_later = df['上市日期'] + pd.DateOffset(months=6)\n",
    "    # 判断当前日期是否在6个月期限内\n",
    "    df['meu_13_7_constraint'] = df['日期'] < six_months_later\n",
    "\n",
    "    return df"
   ]
  },
  {
   "cell_type": "code",
   "execution_count": null,
   "id": "965d0115",
   "metadata": {},
   "outputs": [],
   "source": [
    "df = check_meu_13_7(df)\n",
    "df"
   ]
  },
  {
   "cell_type": "markdown",
   "id": "4c921753",
   "metadata": {},
   "source": [
    "---"
   ]
  },
  {
   "cell_type": "markdown",
   "id": "e1f7d8f5",
   "metadata": {},
   "source": [
    "## MEU_13_7"
   ]
  },
  {
   "cell_type": "markdown",
   "id": "0b3d08f2",
   "metadata": {},
   "source": [
    "\n",
    "| 字段 | 内容 |\n",
    "|------|------|\n",
    "| subject | 上市公司 |\n",
    "| condition | 因触及本指引第四条规定条件而启动回购并减少注册资本 |\n",
    "| constraint | 不适用股票上市已满6个月的要求 |\n",
    "| contextual_info | nan |\n",
    "| note | nan |\n",
    "| relation | refer_to |\n",
    "| target | MEU_13_1 |\n",
    "| type | nan |\n",
    "| comments | nan |\n",
    "| prompt_tokens | 1799 |\n",
    "| completion_tokens | 6697 |\n"
   ]
  },
  {
   "cell_type": "markdown",
   "id": "faac465d",
   "metadata": {},
   "source": [
    "### 代码实现"
   ]
  },
  {
   "cell_type": "code",
   "execution_count": null,
   "id": "1db5d4be",
   "metadata": {},
   "outputs": [],
   "source": [
    "import pandas as pd\n",
    "\n",
    "def check_meu_13_7(df):\n",
    "    '''\n",
    "    合规性检查函数，用于验证MEU_13_7条款的遵守情况\n",
    "    subject: 上市公司\n",
    "    condition: 因触及本指引第四条规定条件而启动回购并减少注册资本\n",
    "    constraint: 不适用股票上市已满6个月的要求\n",
    "    '''\n",
    "    df = df.copy()\n",
    "\n",
    "    # 初始化标记列\n",
    "    df['meu_13_7_subject'] = True  # 所有公司均为上市公司\n",
    "    df['meu_13_7_condition'] = False\n",
    "    df['meu_13_7_constraint'] = False\n",
    "\n",
    "    # 条件验证：触发第四条回购情形（假设第四条对应维护公司价值的回购）\n",
    "    # 1.存在有效回购方案 2.回购用途为维护公司价值 3.假设该情形对应减少注册资本\n",
    "    valid_condition = (\n",
    "        df['存在回购方案'] & \n",
    "        (df['回购用途'] == '维护公司价值及股东权益所必需')\n",
    "    )\n",
    "    df.loc[valid_condition, 'meu_13_7_condition'] = True\n",
    "\n",
    "    # 约束验证：上市未满6个月（精确到自然月计算）\n",
    "    # 计算上市日期6个月后的日期\n",
    "    six_months_later = df['上市日期'] + pd.DateOffset(months=6)\n",
    "    # 判断当前日期是否在6个月期限内\n",
    "    df['meu_13_7_constraint'] = df['日期'] < six_months_later\n",
    "\n",
    "    return df"
   ]
  },
  {
   "cell_type": "code",
   "execution_count": null,
   "id": "fa68d637",
   "metadata": {},
   "outputs": [],
   "source": [
    "df = check_meu_13_7(df)\n",
    "df"
   ]
  },
  {
   "cell_type": "markdown",
   "id": "229b8926",
   "metadata": {},
   "source": [
    "---"
   ]
  },
  {
   "cell_type": "markdown",
   "id": "7169e5aa",
   "metadata": {},
   "source": [
    "# Law Article 15"
   ]
  },
  {
   "cell_type": "markdown",
   "id": "97f2e5d2",
   "metadata": {},
   "source": [
    "## MEU_15_2"
   ]
  },
  {
   "cell_type": "markdown",
   "id": "96d0adea",
   "metadata": {},
   "source": [
    "\n",
    "| 字段 | 内容 |\n",
    "|------|------|\n",
    "| subject | 上市公司 |\n",
    "| condition | nan |\n",
    "| constraint | 在回购股份方案中明确拟回购股份数量或者资金总额的上下限，且下限不得低于上限的50% |\n",
    "| contextual_info | nan |\n",
    "| note | nan |\n",
    "| relation | nan |\n",
    "| target | nan |\n",
    "| type | 实际执行单元 |\n",
    "| comments | nan |\n",
    "| prompt_tokens | 1802 |\n",
    "| completion_tokens | 6138 |\n"
   ]
  },
  {
   "cell_type": "markdown",
   "id": "443d477e",
   "metadata": {},
   "source": [
    "### 代码实现"
   ]
  },
  {
   "cell_type": "code",
   "execution_count": null,
   "id": "7bc3fe37",
   "metadata": {},
   "outputs": [],
   "source": [
    "import pandas as pd\n",
    "\n",
    "def check_meu_15_2(df):\n",
    "    '''\n",
    "    检查MEU_15_2合规性:\n",
    "    subject: 上市公司\n",
    "    condition: NaN(无条件触发)\n",
    "    constraint: 回购方案需明确数量/资金上下限且下限≥50%上限\n",
    "    '''\n",
    "    df = df.copy()\n",
    "\n",
    "    # 初始化合规标记列\n",
    "    df['meu_15_2_subject'] = True  # 所有公司均为上市公司\n",
    "    df['meu_15_2_condition'] = True  # 无条件要求，全部视为满足\n",
    "    df['meu_15_2_constraint'] = False  # 初始化为False\n",
    "\n",
    "    # 标记constraint合规性\n",
    "    # 不存在回购方案的行自动合规\n",
    "    df.loc[~df['存在回购方案'], 'meu_15_2_constraint'] = True\n",
    "\n",
    "    # 处理存在回购方案的行\n",
    "    mask = df['存在回购方案']\n",
    "    \n",
    "    # 计算数量合规性 (下限≥50%上限)\n",
    "    quantity_valid = (\n",
    "        df['回购数量下限'] >= df['回购数量上限'] * 0.5\n",
    "    ) & (\n",
    "        df['回购数量上限'].notna()  # 确保已明确设置数量上限\n",
    "    )\n",
    "    \n",
    "    # 计算资金合规性 (下限≥50%上限)\n",
    "    funds_valid = (\n",
    "        df['资金总额下限'] >= df['资金总额上限'] * 0.5\n",
    "    ) & (\n",
    "        df['资金总额上限'].notna()  # 确保已明确设置资金上限\n",
    "    )\n",
    "    \n",
    "    # 合并合规条件\n",
    "    combined_valid = quantity_valid | funds_valid\n",
    "    \n",
    "    # 更新存在回购方案行的标记\n",
    "    df.loc[mask, 'meu_15_2_constraint'] = combined_valid[mask]\n",
    "\n",
    "    return df"
   ]
  },
  {
   "cell_type": "code",
   "execution_count": null,
   "id": "2d82001c",
   "metadata": {},
   "outputs": [],
   "source": [
    "df = check_meu_15_2(df)\n",
    "df"
   ]
  },
  {
   "cell_type": "markdown",
   "id": "9cc808f8",
   "metadata": {},
   "source": [
    "---"
   ]
  },
  {
   "cell_type": "markdown",
   "id": "dc26e4a2",
   "metadata": {},
   "source": [
    "# Law Article 16"
   ]
  },
  {
   "cell_type": "markdown",
   "id": "37ac74fb",
   "metadata": {},
   "source": [
    "## MEU_16_1"
   ]
  },
  {
   "cell_type": "markdown",
   "id": "46886995",
   "metadata": {},
   "source": [
    "\n",
    "| 字段 | 内容 |\n",
    "|------|------|\n",
    "| subject | 上市公司 |\n",
    "| condition | 进行竞价回购 |\n",
    "| constraint | 价格上限原则上不应高于董事会审议通过回购股份决议前30个交易日（不含停牌日）交易均价的200% |\n",
    "| contextual_info | nan |\n",
    "| note | 不考虑\"原则上\"的松弛条件 |\n",
    "| relation | refer_to |\n",
    "| target | MEU_75_1 |\n",
    "| type | 实际执行单元 |\n",
    "| comments | nan |\n",
    "| prompt_tokens | 1877 |\n",
    "| completion_tokens | 7910 |\n"
   ]
  },
  {
   "cell_type": "markdown",
   "id": "946bf716",
   "metadata": {},
   "source": [
    "### 代码实现"
   ]
  },
  {
   "cell_type": "code",
   "execution_count": null,
   "id": "ad781a6c",
   "metadata": {},
   "outputs": [],
   "source": [
    "import pandas as pd\n",
    "\n",
    "def check_meu_16_1(df):\n",
    "    '''\n",
    "    检查MEU_16_1合规性：\n",
    "    - subject: 上市公司（所有行自动满足）\n",
    "    - condition: 存在竞价回购行为\n",
    "    - constraint: 申报价格不超过决议前30日交易均价200%\n",
    "    注：因缺少成交明细数据，使用收盘价均值替代交易均价计算\n",
    "    '''\n",
    "    df = df.copy()\n",
    "    \n",
    "    # 1. 标记subject（所有公司均为上市公司）\n",
    "    df['meu_16_1_subject'] = True\n",
    "    \n",
    "    # 2. 标记condition（存在回购方案且为竞价方式）\n",
    "    df['meu_16_1_condition'] = df['存在回购方案'] & (df['回购方式'] == '竞价回购')\n",
    "    \n",
    "    # 3. 标记constraint（独立检查所有行）\n",
    "    df['meu_16_1_constraint'] = False\n",
    "    \n",
    "    # 仅处理有决议日期和申报价格的行\n",
    "    valid_mask = df['决议通过日'].notna() & df['申报价格'].notna()\n",
    "    \n",
    "    for idx in df[valid_mask].index:\n",
    "        row = df.loc[idx]\n",
    "        company_data = df[df['公司简称'] == row['公司简称']]\n",
    "        \n",
    "        # 获取决议日前30个交易日\n",
    "        pre_dates = company_data[company_data['日期'] < row['决议通过日']]\n",
    "        if len(pre_dates) >= 30:\n",
    "            # 使用收盘价计算均价（实际应使用成交额/成交量）\n",
    "            avg_price = pre_dates.nlargest(30, '日期')['收盘价'].mean()\n",
    "            price_limit = avg_price * 2\n",
    "            df.loc[idx, 'meu_16_1_constraint'] = row['申报价格'] <= price_limit\n",
    "\n",
    "    return df"
   ]
  },
  {
   "cell_type": "code",
   "execution_count": null,
   "id": "3728d43d",
   "metadata": {},
   "outputs": [],
   "source": [
    "df = check_meu_16_1(df)\n",
    "df"
   ]
  },
  {
   "cell_type": "markdown",
   "id": "cf65a42f",
   "metadata": {},
   "source": [
    "---"
   ]
  },
  {
   "cell_type": "markdown",
   "id": "a0f15a5d",
   "metadata": {},
   "source": [
    "# Law Article 18"
   ]
  },
  {
   "cell_type": "markdown",
   "id": "3ce8c8de",
   "metadata": {},
   "source": [
    "## MEU_18_7"
   ]
  },
  {
   "cell_type": "markdown",
   "id": "08e1d31e",
   "metadata": {},
   "source": [
    "\n",
    "| 字段 | 内容 |\n",
    "|------|------|\n",
    "| subject | 上市公司 |\n",
    "| condition | 进行股份回购的申报 |\n",
    "| constraint | 申报价格不得为公司股票当日交易涨幅限制的价格 |\n",
    "| contextual_info | nan |\n",
    "| note | 假设当日涨跌幅限制为前日收盘价的正负10% |\n",
    "| relation | nan |\n",
    "| target | nan |\n",
    "| type | 实际执行单元 |\n",
    "| comments | nan |\n",
    "| prompt_tokens | 1806 |\n",
    "| completion_tokens | 5234 |\n"
   ]
  },
  {
   "cell_type": "markdown",
   "id": "f786ed65",
   "metadata": {},
   "source": [
    "### 代码实现"
   ]
  },
  {
   "cell_type": "code",
   "execution_count": null,
   "id": "c59c90e6",
   "metadata": {},
   "outputs": [],
   "source": [
    "import pandas as pd\n",
    "\n",
    "def check_meu_18_7(df):\n",
    "    '''\n",
    "    验证MEU_18_7合规性:\n",
    "    - subject: 上市公司\n",
    "    - condition: 进行股份回购的申报\n",
    "    - constraint: 申报价格不得为当日涨跌幅限制价格\n",
    "    '''\n",
    "    df = df.copy()\n",
    "\n",
    "    # 初始化合规性标记列\n",
    "    df['meu_18_7_subject'] = True  # 所有公司均为上市公司\n",
    "    df['meu_18_7_condition'] = False\n",
    "    df['meu_18_7_constraint'] = False\n",
    "\n",
    "    # 1. 标记condition条件满足情况\n",
    "    # 条件成立需同时满足：存在回购方案且存在申报价格\n",
    "    has_repo_plan = df['存在回购方案']\n",
    "    has_declaration = df['申报价格'].notna()\n",
    "    valid_condition = has_repo_plan & has_declaration\n",
    "    df.loc[valid_condition, 'meu_18_7_condition'] = True\n",
    "\n",
    "    # 2. 标记constraint约束满足情况\n",
    "    # 计算前收盘价的±10%涨跌幅限制\n",
    "    prev_close = df['前收盘价']\n",
    "    upper_limit = prev_close * 1.1\n",
    "    lower_limit = prev_close * 0.9\n",
    "    \n",
    "    # 获取申报价格并判断是否触及限制\n",
    "    declared_price = df['申报价格']\n",
    "    is_at_upper = declared_price == upper_limit\n",
    "    is_at_lower = declared_price == lower_limit\n",
    "    \n",
    "    # 有效约束条件：存在申报价格且不触及涨跌停价\n",
    "    valid_constraint = has_declaration & ~(is_at_upper | is_at_lower)\n",
    "    df['meu_18_7_constraint'] = valid_constraint\n",
    "\n",
    "    return df"
   ]
  },
  {
   "cell_type": "code",
   "execution_count": null,
   "id": "ab385491",
   "metadata": {},
   "outputs": [],
   "source": [
    "df = check_meu_18_7(df)\n",
    "df"
   ]
  },
  {
   "cell_type": "markdown",
   "id": "03728f52",
   "metadata": {},
   "source": [
    "---"
   ]
  },
  {
   "cell_type": "markdown",
   "id": "26c7b77e",
   "metadata": {},
   "source": [
    "# Law Article 19"
   ]
  },
  {
   "cell_type": "markdown",
   "id": "05ffcddb",
   "metadata": {},
   "source": [
    "## MEU_19_1"
   ]
  },
  {
   "cell_type": "markdown",
   "id": "f53cdab6",
   "metadata": {},
   "source": [
    "\n",
    "| 字段 | 内容 |\n",
    "|------|------|\n",
    "| subject | 上市公司 |\n",
    "| condition | 实施竞价回购 |\n",
    "| constraint | 实施期限不超过12个月 |\n",
    "| contextual_info | 自董事会或股东大会（如须）审议通过回购股份决议之日起算 |\n",
    "| note | nan |\n",
    "| relation | nan |\n",
    "| target | nan |\n",
    "| type | 实际执行单元 |\n",
    "| comments | nan |\n",
    "| prompt_tokens | 1800 |\n",
    "| completion_tokens | 4633 |\n"
   ]
  },
  {
   "cell_type": "markdown",
   "id": "7bd0a36d",
   "metadata": {},
   "source": [
    "### 代码实现"
   ]
  },
  {
   "cell_type": "code",
   "execution_count": null,
   "id": "c20d8cbb",
   "metadata": {},
   "outputs": [],
   "source": [
    "import pandas as pd\n",
    "\n",
    "def check_meu_19_1(df):\n",
    "    '''\n",
    "    合规性检查函数，用于验证MEU_19_1条款的遵守情况：\n",
    "    - subject: 上市公司（所有行自动满足）\n",
    "    - condition: 实施竞价回购（需同时满足存在回购方案和回购方式为竞价）\n",
    "    - constraint: 实施期限不超过12个月（基于决议通过日与实施截止日的时间差）\n",
    "    '''\n",
    "    df = df.copy()\n",
    "\n",
    "    # 初始化标记列\n",
    "    df['meu_19_1_subject'] = True  # 所有公司均为上市公司\n",
    "    df['meu_19_1_condition'] = False\n",
    "    df['meu_19_1_constraint'] = False\n",
    "\n",
    "    # 标记条件：存在回购方案且回购方式为竞价\n",
    "    is_auction_repurchase = (\n",
    "        df['存在回购方案'] & \n",
    "        (df['回购方式'] == '竞价回购')\n",
    "    )\n",
    "    df.loc[is_auction_repurchase, 'meu_19_1_condition'] = True\n",
    "\n",
    "    # 标记约束：实施期限不超过12个月\n",
    "    # 仅当日期字段有效时进行计算\n",
    "    valid_dates = df['决议通过日'].notna() & df['实施截止日'].notna()\n",
    "    date_mask = valid_dates & (\n",
    "        df['实施截止日'] <= df['决议通过日'] + pd.DateOffset(months=12)\n",
    "    )\n",
    "    df.loc[date_mask, 'meu_19_1_constraint'] = True\n",
    "\n",
    "    return df"
   ]
  },
  {
   "cell_type": "code",
   "execution_count": null,
   "id": "d9f858b9",
   "metadata": {},
   "outputs": [],
   "source": [
    "df = check_meu_19_1(df)\n",
    "df"
   ]
  },
  {
   "cell_type": "markdown",
   "id": "d0eafa90",
   "metadata": {},
   "source": [
    "---"
   ]
  },
  {
   "cell_type": "markdown",
   "id": "944651e8",
   "metadata": {},
   "source": [
    "## MEU_19_2"
   ]
  },
  {
   "cell_type": "markdown",
   "id": "8e1d2d5c",
   "metadata": {},
   "source": [
    "\n",
    "| 字段 | 内容 |\n",
    "|------|------|\n",
    "| subject | 上市公司 |\n",
    "| condition | 因维护公司价值及股东权益所必需回购股份的，实施竞价回购 |\n",
    "| constraint | 回购实施期限自股东大会或者董事会审议通过最终回购股份方案之日起不超过3个月 |\n",
    "| contextual_info | nan |\n",
    "| note | nan |\n",
    "| relation | nan |\n",
    "| target | nan |\n",
    "| type | 实际执行单元 |\n",
    "| comments | nan |\n",
    "| prompt_tokens | 1810 |\n",
    "| completion_tokens | 4004 |\n"
   ]
  },
  {
   "cell_type": "markdown",
   "id": "b9ea7afe",
   "metadata": {},
   "source": [
    "### 代码实现"
   ]
  },
  {
   "cell_type": "code",
   "execution_count": null,
   "id": "cd8f9986",
   "metadata": {},
   "outputs": [],
   "source": [
    "import pandas as pd\n",
    "\n",
    "def check_meu_19_2(df):\n",
    "    '''\n",
    "    检查MEU_19_2合规性：\n",
    "    \"subject\": \"上市公司\", \n",
    "    \"condition\": \"因维护公司价值及股东权益所必需回购股份的，实施竞价回购\", \n",
    "    \"constraint\": \"回购实施期限自股东大会或者董事会审议通过最终回购股份方案之日起不超过3个月\", \n",
    "    \"contextual_info\": NaN\n",
    "    '''\n",
    "    df = df.copy()\n",
    "\n",
    "    # 初始化合规标记列\n",
    "    df['meu_19_2_subject'] = True  # 所有公司都是上市公司\n",
    "    df['meu_19_2_condition'] = False\n",
    "    df['meu_19_2_constraint'] = False\n",
    "\n",
    "    # 1. 标记condition合规性\n",
    "    # 条件需同时满足：存在回购方案、维护公司价值用途、竞价回购方式\n",
    "    condition_mask = (\n",
    "        df['存在回购方案'] &\n",
    "        (df['回购用途'] == '维护公司价值及股东权益所必需') &\n",
    "        (df['回购方式'] == '竞价回购')\n",
    "    )\n",
    "    df.loc[condition_mask, 'meu_19_2_condition'] = True\n",
    "\n",
    "    # 2. 标记constraint合规性\n",
    "    # 约束需同时满足：存在回购方案、实施截止日在决议通过日3个月内\n",
    "    constraint_mask = df['存在回购方案'].copy()\n",
    "    # 计算自然日边界（使用pd.DateOffset处理月份差异）\n",
    "    deadline = df['决议通过日'] + pd.DateOffset(months=3)\n",
    "    # 处理NaT避免类型错误（当存在回购方案为False时自动返回False）\n",
    "    constraint_mask = constraint_mask & (df['实施截止日'] <= deadline)\n",
    "    df.loc[constraint_mask, 'meu_19_2_constraint'] = True\n",
    "\n",
    "    return df"
   ]
  },
  {
   "cell_type": "code",
   "execution_count": null,
   "id": "b82c4a92",
   "metadata": {},
   "outputs": [],
   "source": [
    "df = check_meu_19_2(df)\n",
    "df"
   ]
  },
  {
   "cell_type": "markdown",
   "id": "1612db1e",
   "metadata": {},
   "source": [
    "---"
   ]
  },
  {
   "cell_type": "markdown",
   "id": "215bce74",
   "metadata": {},
   "source": [
    "# Law Article 21"
   ]
  },
  {
   "cell_type": "markdown",
   "id": "e464561d",
   "metadata": {},
   "source": [
    "## MEU_21_2"
   ]
  },
  {
   "cell_type": "markdown",
   "id": "35d52a68",
   "metadata": {},
   "source": [
    "\n",
    "| 字段 | 内容 |\n",
    "|------|------|\n",
    "| subject | 上市公司 |\n",
    "| condition | 回购股份用于股权激励或者员工持股计划、转换上市公司发行的可转换为股票的公司债券、维护公司价值及股东权益所必需的 |\n",
    "| constraint | 合计持有的本公司股份数不得超过本公司已发行股份总额的10% |\n",
    "| contextual_info | nan |\n",
    "| note | nan |\n",
    "| relation | exclude |\n",
    "| target | MEU_9_3 |\n",
    "| type | 实际执行单元 |\n",
    "| comments | nan |\n",
    "| prompt_tokens | 1818 |\n",
    "| completion_tokens | 2571 |\n"
   ]
  },
  {
   "cell_type": "markdown",
   "id": "33a15958",
   "metadata": {},
   "source": [
    "### 代码实现"
   ]
  },
  {
   "cell_type": "code",
   "execution_count": null,
   "id": "91228176",
   "metadata": {},
   "outputs": [],
   "source": [
    "import pandas as pd\n",
    "\n",
    "def check_meu_21_2(df):\n",
    "    '''\n",
    "    验证MEU_21_2合规性:\n",
    "    \"subject\": \"上市公司\",\n",
    "    \"condition\": \"回购股份用于股权激励或者员工持股计划、转换上市公司发行的可转换为股票的公司债券、维护公司价值及股东权益所必需的\",\n",
    "    \"constraint\": \"合计持有的本公司股份数不得超过本公司已发行股份总额的10%\",\n",
    "    \"contextual_info\": NaN\n",
    "    '''\n",
    "\n",
    "    df = df.copy()\n",
    "\n",
    "    # 初始化标记列\n",
    "    df['meu_21_2_subject'] = True  # 所有记录主体均为上市公司\n",
    "    df['meu_21_2_condition'] = False\n",
    "    df['meu_21_2_constraint'] = None\n",
    "\n",
    "    # 1. 标记condition有效性\n",
    "    valid_uses = [\n",
    "        '股权激励或者员工持股计划',\n",
    "        '转换上市公司发行的可转换为股票的公司债券',\n",
    "        '维护公司价值及股东权益所必需'\n",
    "    ]\n",
    "    df['meu_21_2_condition'] = df['回购用途'].isin(valid_uses)\n",
    "\n",
    "    # 2. 标记constraint有效性\n",
    "    # 处理空值并计算回购比例\n",
    "    total_shares = df['总股本'].replace(0, pd.NA)  # 防止除零错误\n",
    "    cumulative_repo = df['累计回购数量'].fillna(0)\n",
    "    repo_ratio = cumulative_repo / total_shares\n",
    "    \n",
    "    # 约束条件判断\n",
    "    valid_constraint = (repo_ratio <= 0.1) & (~total_shares.isna())\n",
    "    df['meu_21_2_constraint'] = valid_constraint.astype(bool)\n",
    "\n",
    "    # 当总股本缺失时标记约束无效\n",
    "    df.loc[total_shares.isna(), 'meu_21_2_constraint'] = False\n",
    "\n",
    "    return df"
   ]
  },
  {
   "cell_type": "code",
   "execution_count": null,
   "id": "c0fdf93c",
   "metadata": {},
   "outputs": [],
   "source": [
    "df = check_meu_21_2(df)\n",
    "df"
   ]
  },
  {
   "cell_type": "markdown",
   "id": "0449fc41",
   "metadata": {},
   "source": [
    "---"
   ]
  },
  {
   "cell_type": "markdown",
   "id": "be736dcb",
   "metadata": {},
   "source": [
    "# Law Article 42"
   ]
  },
  {
   "cell_type": "markdown",
   "id": "32b4f363",
   "metadata": {},
   "source": [
    "## MEU_42_2"
   ]
  },
  {
   "cell_type": "markdown",
   "id": "04779743",
   "metadata": {},
   "source": [
    "\n",
    "| 字段 | 内容 |\n",
    "|------|------|\n",
    "| subject | 上市公司 |\n",
    "| condition | 因维护公司价值及股东权益所必需而回购股份的，处于上市公司定期报告、业绩预告或者业绩快报披露前10个交易日内（因特殊原因推迟定期报告披露日期的，自原预约公告日前10个交易日起算，至披露前1个交易日） |\n",
    "| constraint | 不得采用集中竞价交易方式出售股份 |\n",
    "| contextual_info | nan |\n",
    "| note | 简化假设: 不考虑报告推迟情况 |\n",
    "| relation | nan |\n",
    "| target | nan |\n",
    "| type | 实际执行单元 |\n",
    "| comments | nan |\n",
    "| prompt_tokens | 1853 |\n",
    "| completion_tokens | 9520 |\n"
   ]
  },
  {
   "cell_type": "markdown",
   "id": "974001c5",
   "metadata": {},
   "source": [
    "### 代码实现"
   ]
  },
  {
   "cell_type": "code",
   "execution_count": null,
   "id": "51363489",
   "metadata": {},
   "outputs": [],
   "source": [
    "import pandas as pd\n",
    "\n",
    "def check_meu_42_2(df):\n",
    "    '''\n",
    "    合规性检查函数，对应MEU_42_2条款：\n",
    "    - subject: 上市公司\n",
    "    - condition: 因维护公司价值及股东权益回购股份且处于定期报告披露前10个交易日内\n",
    "    - constraint: 不得采用集中竞价交易方式出售股份\n",
    "    '''\n",
    "    df = df.copy()\n",
    "\n",
    "    # 初始化标记列\n",
    "    df['meu_42_2_subject'] = True  # 所有公司均为上市公司\n",
    "    df['meu_42_2_condition'] = False\n",
    "    df['meu_42_2_constraint'] = False\n",
    "\n",
    "    # 1. 计算时间窗口条件（condition的时间部分）\n",
    "    # 获取所有定期报告类公告日期\n",
    "    report_mask = df['公告类型'].isin(['定期报告', '业绩预告', '业绩快报'])\n",
    "    valid_announcements = df[report_mask][['公司简称', '公告日期']].drop_duplicates()\n",
    "    \n",
    "    # 计算时间窗口标记列\n",
    "    df['_temp_in_window'] = False\n",
    "    if not valid_announcements.empty:\n",
    "        # 生成时间窗口范围（自然日简化计算）\n",
    "        valid_announcements['start_date'] = valid_announcements['公告日期'] - pd.DateOffset(days=10)\n",
    "        \n",
    "        # 合并并标记有效窗口\n",
    "        merged = df.merge(valid_announcements, on='公司简称', suffixes=('', '_ann'))\n",
    "        time_condition = (merged['日期'] >= merged['start_date']) & (merged['日期'] < merged['公告日期_ann'])\n",
    "        window_idx = merged[time_condition].index.unique()\n",
    "        df.loc[window_idx, '_temp_in_window'] = True\n",
    "\n",
    "    # 2. 标记condition条件\n",
    "    usage_condition = df['回购用途'] == '维护公司价值及股东权益所必需'\n",
    "    df['meu_42_2_condition'] = usage_condition & df['_temp_in_window']\n",
    "\n",
    "    # 3. 标记constraint条件（独立检查）\n",
    "    # 集中竞价出售包含计划申报和实际成交两种情形\n",
    "    sell_condition = df['存在出售计划'] | (df['当日出售数量'] > 0)\n",
    "    df['meu_42_2_constraint'] = ~sell_condition\n",
    "\n",
    "    # 清理临时列\n",
    "    df.drop(columns=['_temp_in_window'], inplace=True, errors='ignore')\n",
    "\n",
    "    return df"
   ]
  },
  {
   "cell_type": "code",
   "execution_count": null,
   "id": "c5aaf0b7",
   "metadata": {},
   "outputs": [],
   "source": [
    "df = check_meu_42_2(df)\n",
    "df"
   ]
  },
  {
   "cell_type": "markdown",
   "id": "3852f718",
   "metadata": {},
   "source": [
    "---"
   ]
  },
  {
   "cell_type": "markdown",
   "id": "620dda77",
   "metadata": {},
   "source": [
    "# Law Article 45"
   ]
  },
  {
   "cell_type": "markdown",
   "id": "41fc1027",
   "metadata": {},
   "source": [
    "## MEU_45_2"
   ]
  },
  {
   "cell_type": "markdown",
   "id": "1fece75a",
   "metadata": {},
   "source": [
    "\n",
    "| 字段 | 内容 |\n",
    "|------|------|\n",
    "| subject | 上市公司 |\n",
    "| condition | 采用集中竞价交易方式出售已回购股份 |\n",
    "| constraint | 申报价格不得为公司股票当日交易跌幅限制的价格 |\n",
    "| contextual_info | nan |\n",
    "| note | nan |\n",
    "| relation | nan |\n",
    "| target | nan |\n",
    "| type | 实际执行单元 |\n",
    "| comments | nan |\n",
    "| prompt_tokens | 1796 |\n",
    "| completion_tokens | 8055 |\n"
   ]
  },
  {
   "cell_type": "markdown",
   "id": "09cd374c",
   "metadata": {},
   "source": [
    "### 代码实现"
   ]
  },
  {
   "cell_type": "code",
   "execution_count": null,
   "id": "1fd60665",
   "metadata": {},
   "outputs": [],
   "source": [
    "import pandas as pd\n",
    "\n",
    "def check_meu_45_2(df):\n",
    "    '''\n",
    "    检查MEU_45_2的合规性：\n",
    "    subject: 上市公司（所有行均为上市公司）\n",
    "    condition: 采用集中竞价交易方式出售已回购股份（存在出售计划即视为满足）\n",
    "    constraint: 申报价格≠当日跌停价（前收盘价*0.9）\n",
    "    '''\n",
    "    df = df.copy()\n",
    "\n",
    "    # 初始化标记列\n",
    "    df['meu_45_2_subject'] = True  # 所有公司均为上市公司\n",
    "    df['meu_45_2_condition'] = df['存在出售计划']  # 直接映射存在出售计划字段\n",
    "    df['meu_45_2_constraint'] = None  # 初始化为None以便后续布尔赋值\n",
    "\n",
    "    # 计算当日跌停价（前收盘价的90%）\n",
    "    df['_temp_lower_limit'] = df['前收盘价'] * 0.9\n",
    "    \n",
    "    # 构建约束有效性判断条件\n",
    "    price_condition = df['申报价格'] != df['_temp_lower_limit']\n",
    "    na_condition = df['申报价格'].isna()\n",
    "    valid_constraint = price_condition | na_condition  # 申报价≠跌停价或未申报均视为合规\n",
    "\n",
    "    # 标记约束有效性\n",
    "    df.loc[valid_constraint, 'meu_45_2_constraint'] = True\n",
    "    df.loc[~valid_constraint, 'meu_45_2_constraint'] = False\n",
    "\n",
    "    # 清理临时列\n",
    "    df.drop(columns=['_temp_lower_limit'], inplace=True)\n",
    "\n",
    "    return df"
   ]
  },
  {
   "cell_type": "code",
   "execution_count": null,
   "id": "77a973e2",
   "metadata": {},
   "outputs": [],
   "source": [
    "df = check_meu_45_2(df)\n",
    "df"
   ]
  },
  {
   "cell_type": "markdown",
   "id": "5723adda",
   "metadata": {},
   "source": [
    "---"
   ]
  },
  {
   "cell_type": "markdown",
   "id": "7d15a01b",
   "metadata": {},
   "source": [
    "## MEU_45_3"
   ]
  },
  {
   "cell_type": "markdown",
   "id": "2fcfbdd7",
   "metadata": {},
   "source": [
    "\n",
    "| 字段 | 内容 |\n",
    "|------|------|\n",
    "| subject | 上市公司 |\n",
    "| condition | 采用集中竞价交易方式出售已回购股份且每日出售数量超过10万股 |\n",
    "| constraint | 每日出售的数量不得超过出售计划披露日前20个交易日日均盘中成交量的25% |\n",
    "| contextual_info | nan |\n",
    "| note | nan |\n",
    "| relation | nan |\n",
    "| target | nan |\n",
    "| type | 实际执行单元 |\n",
    "| comments | nan |\n",
    "| prompt_tokens | 1810 |\n",
    "| completion_tokens | 8673 |\n"
   ]
  },
  {
   "cell_type": "markdown",
   "id": "832e044b",
   "metadata": {},
   "source": [
    "### 代码实现"
   ]
  },
  {
   "cell_type": "code",
   "execution_count": null,
   "id": "424d7d14",
   "metadata": {},
   "outputs": [],
   "source": [
    "import pandas as pd\n",
    "\n",
    "def check_meu_45_3(df):\n",
    "    '''\n",
    "    检查MEU_45_3合规性：\n",
    "    subject: 上市公司\n",
    "    condition: 采用集中竞价交易方式出售已回购股份且每日出售数量超过10万股\n",
    "    constraint: 每日出售数量不得超过出售计划披露日前20个交易日日均盘中成交量的25%\n",
    "    '''\n",
    "    df = df.copy()\n",
    "\n",
    "    # 初始化标记列\n",
    "    df['meu_45_3_subject'] = True  # 所有记录均为上市公司\n",
    "    df['meu_45_3_condition'] = False\n",
    "    df['meu_45_3_constraint'] = False  # 默认不满足约束\n",
    "\n",
    "    # 1. 标记condition条件\n",
    "    # 条件需同时满足：存在出售计划、采用集中竞价方式（隐含在存在出售计划中）、当日出售数量>10万\n",
    "    valid_condition = df['存在出售计划'] & (df['当日出售数量'] > 100000)\n",
    "    df.loc[valid_condition, 'meu_45_3_condition'] = True\n",
    "\n",
    "    # 2. 标记constraint约束（独立检查所有记录）\n",
    "    # 预处理：计算每个公司每个披露日前20日成交量均值\n",
    "    # 假设存在'成交量'列且'公告日期'为计划披露日\n",
    "    # 按公司分组处理\n",
    "    for company in df['公司简称'].unique():\n",
    "        company_df = df[df['公司简称'] == company].sort_values('日期')\n",
    "        \n",
    "        # 创建日期索引\n",
    "        company_dates = company_df.set_index('日期')\n",
    "        \n",
    "        # 遍历该公司的所有记录\n",
    "        for idx, row in company_df.iterrows():\n",
    "            disclosure_date = row['公告日期']\n",
    "            if pd.isnull(disclosure_date):\n",
    "                continue\n",
    "            \n",
    "            # 获取披露日前20个交易日的成交量\n",
    "            try:\n",
    "                # 筛选披露日前的交易日\n",
    "                mask = company_dates.index < disclosure_date\n",
    "                prior_sessions = company_dates[mask].last('20D')\n",
    "                \n",
    "                if len(prior_sessions) >= 20:\n",
    "                    avg_volume = prior_sessions['成交量'].mean()\n",
    "                    threshold = avg_volume * 0.25\n",
    "                    current_sell = row['当日出售数量']\n",
    "                    \n",
    "                    # 标记约束满足情况\n",
    "                    if current_sell <= threshold:\n",
    "                        df.loc[idx, 'meu_45_3_constraint'] = True\n",
    "            except KeyError:\n",
    "                # 日期索引不存在时跳过\n",
    "                continue\n",
    "\n",
    "    return df"
   ]
  },
  {
   "cell_type": "code",
   "execution_count": null,
   "id": "49ea04a6",
   "metadata": {},
   "outputs": [],
   "source": [
    "df = check_meu_45_3(df)\n",
    "df"
   ]
  },
  {
   "cell_type": "markdown",
   "id": "ed512cc6",
   "metadata": {},
   "source": [
    "---"
   ]
  },
  {
   "cell_type": "markdown",
   "id": "b87ea9ff",
   "metadata": {},
   "source": [
    "## MEU_45_4"
   ]
  },
  {
   "cell_type": "markdown",
   "id": "b826718a",
   "metadata": {},
   "source": [
    "\n",
    "| 字段 | 内容 |\n",
    "|------|------|\n",
    "| subject | 上市公司 |\n",
    "| condition | 采用集中竞价交易方式出售已回购股份 |\n",
    "| constraint | 在任意连续90日内，出售股份的总数不得超过公司股份总数的1% |\n",
    "| contextual_info | nan |\n",
    "| note | nan |\n",
    "| relation | nan |\n",
    "| target | nan |\n",
    "| type | 实际执行单元 |\n",
    "| comments | nan |\n",
    "| prompt_tokens | 1802 |\n",
    "| completion_tokens | 5301 |\n"
   ]
  },
  {
   "cell_type": "markdown",
   "id": "d66d98e8",
   "metadata": {},
   "source": [
    "### 代码实现"
   ]
  },
  {
   "cell_type": "code",
   "execution_count": null,
   "id": "12a95951",
   "metadata": {},
   "outputs": [],
   "source": [
    "import pandas as pd\n",
    "\n",
    "def check_meu_45_4(df):\n",
    "    '''\n",
    "    检查MEU_45_4合规性：\n",
    "    - subject: 上市公司（所有行自动满足）\n",
    "    - condition: 存在集中竞价出售已回购股份计划\n",
    "    - constraint: 90交易日累计出售量≤总股本1%\n",
    "    '''\n",
    "    df = df.copy()\n",
    "\n",
    "    # 初始化合规标记列\n",
    "    df['meu_45_4_subject'] = True  # 所有公司均为上市公司\n",
    "    df['meu_45_4_condition'] = df['存在出售计划'].astype(bool)  # 存在出售计划即满足条件\n",
    "    df['meu_45_4_constraint'] = None  # 初始化为空值\n",
    "\n",
    "    # 按公司分组计算滚动累计出售量\n",
    "    df.sort_values(['公司简称', '日期'], inplace=True)\n",
    "    df['90交易日累计出售'] = df.groupby('公司简称')['当日出售数量'].transform(\n",
    "        lambda x: x.rolling(90, min_periods=1).sum()\n",
    "    )\n",
    "\n",
    "    # 计算总股本1%阈值并验证约束\n",
    "    threshold = df['总股本'] * 0.01\n",
    "    df['meu_45_4_constraint'] = df['90交易日累计出售'] <= threshold\n",
    "\n",
    "    # 清理中间列\n",
    "    df.drop(columns=['90交易日累计出售'], inplace=True)\n",
    "\n",
    "    return df"
   ]
  },
  {
   "cell_type": "code",
   "execution_count": null,
   "id": "b1799e5d",
   "metadata": {},
   "outputs": [],
   "source": [
    "df = check_meu_45_4(df)\n",
    "df"
   ]
  },
  {
   "cell_type": "markdown",
   "id": "3719519d",
   "metadata": {},
   "source": [
    "---"
   ]
  },
  {
   "cell_type": "markdown",
   "id": "63d5e8f2",
   "metadata": {},
   "source": [
    "# Law Article 46"
   ]
  },
  {
   "cell_type": "markdown",
   "id": "d23163e9",
   "metadata": {},
   "source": [
    "## MEU_46_2"
   ]
  },
  {
   "cell_type": "markdown",
   "id": "ee29b6f2",
   "metadata": {},
   "source": [
    "\n",
    "| 字段 | 内容 |\n",
    "|------|------|\n",
    "| subject | 上市公司 |\n",
    "| condition | 采用集中竞价交易方式出售已回购股份期间且首次出售已回购股份事实发生后 |\n",
    "| constraint | 应当在次1个交易日内披露出售进展情况公告 |\n",
    "| contextual_info | nan |\n",
    "| note | nan |\n",
    "| relation | nan |\n",
    "| target | nan |\n",
    "| type | 实际执行单元 |\n",
    "| comments | nan |\n",
    "| prompt_tokens | 1806 |\n",
    "| completion_tokens | 9458 |\n"
   ]
  },
  {
   "cell_type": "markdown",
   "id": "2835a119",
   "metadata": {},
   "source": [
    "### 代码实现"
   ]
  },
  {
   "cell_type": "code",
   "execution_count": null,
   "id": "b9e81f0d",
   "metadata": {},
   "outputs": [],
   "source": [
    "import pandas as pd\n",
    "\n",
    "def check_meu_46_2(df):\n",
    "    '''\n",
    "    检查MEU_46_2合规性：\n",
    "    \"subject\": \"上市公司\", \n",
    "    \"condition\": \"采用集中竞价交易方式出售已回购股份期间且首次出售已回购股份事实发生后\", \n",
    "    \"constraint\": \"应当在次1个交易日内披露出售进展情况公告\"\n",
    "    '''\n",
    "    df = df.copy()\n",
    "    \n",
    "    # 初始化标记列\n",
    "    df['meu_46_2_subject'] = True  # 所有公司都是上市公司\n",
    "    df['meu_46_2_condition'] = False\n",
    "    df['meu_46_2_constraint'] = False\n",
    "    \n",
    "    # 条件1：标记subject（所有行自动满足）\n",
    "    \n",
    "    # 条件2：标记condition\n",
    "    # 步骤1：筛选存在集中竞价出售计划的行\n",
    "    mask_condition = df['存在出售计划'] == True\n",
    "    \n",
    "    # 步骤2：判断是否在出售期间内\n",
    "    mask_date_range = (df['日期'] >= df['出售开始日']) & (df['日期'] <= df['出售截止日'])\n",
    "    \n",
    "    # 步骤3：计算首次出售日期（按公司+出售计划分组）\n",
    "    group_cols = ['公司简称', '出售开始日', '出售截止日']\n",
    "    df['首次出售日期'] = df.groupby(group_cols)['日期'].transform(\n",
    "        lambda g: g[g['累计出售数量'] > 0]['日期'].min() if any(g['累计出售数量'] > 0) else pd.NaT\n",
    "    )\n",
    "    \n",
    "    # 步骤4：判断当前日期是否在首次出售之后\n",
    "    mask_first_sale = (df['日期'] >= df['首次出售日期']) & (~df['首次出售日期'].isna())\n",
    "    \n",
    "    # 合并condition条件\n",
    "    valid_condition = mask_condition & mask_date_range & mask_first_sale\n",
    "    df.loc[valid_condition, 'meu_46_2_condition'] = True\n",
    "    \n",
    "    # 条件3：标记constraint\n",
    "    # 步骤1：获取每个首次出售的次交易日\n",
    "    df_sorted = df.sort_values(['公司简称', '日期'])\n",
    "    df_sorted['次交易日'] = df_sorted.groupby('公司简称')['日期'].shift(-1)\n",
    "    \n",
    "    # 步骤2：建立首次出售与次日期的映射关系\n",
    "    first_sales = df[valid_condition].groupby(group_cols)['首次出售日期'].first().reset_index()\n",
    "    first_sales = first_sales.merge(\n",
    "        df_sorted[['公司简称', '日期', '次交易日']],\n",
    "        left_on=['公司简称', '首次出售日期'],\n",
    "        right_on=['公司简称', '日期'],\n",
    "        how='left'\n",
    "    )\n",
    "    first_sales_map = first_sales[group_cols + ['次交易日']]\n",
    "    \n",
    "    # 步骤3：合并到原始数据\n",
    "    df = df.merge(first_sales_map, on=group_cols, how='left')\n",
    "    \n",
    "    # 步骤4：验证次日披露情况\n",
    "    valid_constraint = (df['日期'] == df['次交易日']) & (df['披露出售进展'] == True)\n",
    "    df.loc[valid_constraint, 'meu_46_2_constraint'] = True\n",
    "    \n",
    "    # 清理临时列\n",
    "    df.drop(columns=['首次出售日期', '次交易日'], inplace=True, errors='ignore')\n",
    "    \n",
    "    return df"
   ]
  },
  {
   "cell_type": "code",
   "execution_count": null,
   "id": "2ed349f1",
   "metadata": {},
   "outputs": [],
   "source": [
    "df = check_meu_46_2(df)\n",
    "df"
   ]
  },
  {
   "cell_type": "markdown",
   "id": "51180a4e",
   "metadata": {},
   "source": [
    "---"
   ]
  },
  {
   "cell_type": "markdown",
   "id": "020cf31d",
   "metadata": {},
   "source": [
    "## MEU_46_3"
   ]
  },
  {
   "cell_type": "markdown",
   "id": "fbc27a5d",
   "metadata": {},
   "source": [
    "\n",
    "| 字段 | 内容 |\n",
    "|------|------|\n",
    "| subject | 上市公司 |\n",
    "| condition | 采用集中竞价交易方式出售已回购股份期间且出售已回购股份占上市公司总股本的比例增加1% |\n",
    "| constraint | 应当在事实发生之日起3个交易日内披露出售进展情况公告 |\n",
    "| contextual_info | nan |\n",
    "| note | nan |\n",
    "| relation | nan |\n",
    "| target | nan |\n",
    "| type | 实际执行单元 |\n",
    "| comments | nan |\n",
    "| prompt_tokens | 1813 |\n",
    "| completion_tokens | 9654 |\n"
   ]
  },
  {
   "cell_type": "markdown",
   "id": "ab89db78",
   "metadata": {},
   "source": [
    "### 代码实现"
   ]
  },
  {
   "cell_type": "code",
   "execution_count": null,
   "id": "8a24ca9c",
   "metadata": {},
   "outputs": [],
   "source": [
    "import pandas as pd\n",
    "\n",
    "def check_meu_46_3(df):\n",
    "    '''\n",
    "    检查MEU_46_3合规性：\n",
    "    subject: 上市公司（所有行自动满足）\n",
    "    condition: 1.处于集中竞价出售期间 2.当日累计出售比例较前日增加≥1%\n",
    "    constraint: 在触发条件的3个交易日内披露进展\n",
    "    '''\n",
    "    df = df.copy()\n",
    "    \n",
    "    # 初始化标记列\n",
    "    df['meu_46_3_subject'] = True  # 所有公司均为上市公司\n",
    "    df['meu_46_3_condition'] = False\n",
    "    df['meu_46_3_constraint'] = False\n",
    "    \n",
    "    # 条件1：存在有效的出售计划（假设均为集中竞价方式）\n",
    "    in_selling_period = df['存在出售计划']\n",
    "    \n",
    "    # 条件2：计算累计出售比例日增量\n",
    "    df['累计出售比例_prev'] = df.groupby('公司简称')['累计出售比例'].shift(1).fillna(0)\n",
    "    threshold_met = (df['累计出售比例'] - df['累计出售比例_prev']) >= 0.01\n",
    "    \n",
    "    # 标记满足条件的行\n",
    "    valid_condition = in_selling_period & threshold_met\n",
    "    df.loc[valid_condition, 'meu_46_3_condition'] = True\n",
    "    \n",
    "    # 约束检查：仅对满足条件的行检查后续3日披露\n",
    "    announcement_dates = df[df['披露出售进展']][['公司简称', '日期']]\n",
    "    \n",
    "    # 使用merge_asof查找最近3日内的公告\n",
    "    if not valid_condition.empty and not announcement_dates.empty:\n",
    "        merged = pd.merge_asof(\n",
    "            df[valid_condition][['公司简称', '日期']].sort_values('日期'),\n",
    "            announcement_dates.sort_values('日期'),\n",
    "            on='日期',\n",
    "            by='公司简称',\n",
    "            direction='forward',\n",
    "            tolerance=pd.Timedelta(days=3)\n",
    "        )\n",
    "        # 创建约束满足标记\n",
    "        constraint_mask = merged['日期_y'].notna()\n",
    "        # 将结果映射回原dataframe\n",
    "        df.loc[valid_condition, 'meu_46_3_constraint'] = (\n",
    "            constraint_mask.values\n",
    "            if len(constraint_mask) == valid_condition.sum() \n",
    "            else False\n",
    "        )\n",
    "    \n",
    "    # 清理中间列\n",
    "    df.drop(columns=['累计出售比例_prev'], inplace=True, errors='ignore')\n",
    "    \n",
    "    return df"
   ]
  },
  {
   "cell_type": "code",
   "execution_count": null,
   "id": "67c00ef6",
   "metadata": {},
   "outputs": [],
   "source": [
    "df = check_meu_46_3(df)\n",
    "df"
   ]
  },
  {
   "cell_type": "markdown",
   "id": "0181ef49",
   "metadata": {},
   "source": [
    "---"
   ]
  },
  {
   "cell_type": "markdown",
   "id": "411e8e31",
   "metadata": {},
   "source": [
    "# Law Article 50"
   ]
  },
  {
   "cell_type": "markdown",
   "id": "1ddc1ac3",
   "metadata": {},
   "source": [
    "## MEU_50_2"
   ]
  },
  {
   "cell_type": "markdown",
   "id": "34e43ab3",
   "metadata": {},
   "source": [
    "\n",
    "| 字段 | 内容 |\n",
    "|------|------|\n",
    "| subject | 上市公司 |\n",
    "| condition | 实施要约回购 |\n",
    "| constraint | 要约期限不得少于30个自然日 |\n",
    "| contextual_info | nan |\n",
    "| note | nan |\n",
    "| relation | nan |\n",
    "| target | nan |\n",
    "| type | 实际执行单元 |\n",
    "| comments | nan |\n",
    "| prompt_tokens | 1788 |\n",
    "| completion_tokens | 3462 |\n"
   ]
  },
  {
   "cell_type": "markdown",
   "id": "409b00a4",
   "metadata": {},
   "source": [
    "### 代码实现"
   ]
  },
  {
   "cell_type": "code",
   "execution_count": null,
   "id": "77001286",
   "metadata": {},
   "outputs": [],
   "source": [
    "import pandas as pd\n",
    "\n",
    "def check_meu_50_2(df):\n",
    "    '''\n",
    "    检查MEU_50_2合规性：\n",
    "    \"subject\": \"上市公司\",\n",
    "    \"condition\": \"实施要约回购\",\n",
    "    \"constraint\": \"要约期限不得少于30个自然日\",\n",
    "    \"contextual_info\": NaN\n",
    "    '''\n",
    "    df = df.copy()\n",
    "    \n",
    "    # 初始化合规标记列\n",
    "    df['meu_50_2_subject'] = True  # 所有公司均为上市公司\n",
    "    df['meu_50_2_condition'] = False\n",
    "    df['meu_50_2_constraint'] = False\n",
    "    \n",
    "    # 标记valid的condition（存在回购方案且为要约回购）\n",
    "    is_repurchase = df['存在回购方案']\n",
    "    is_tender_offer = df['回购方式'] == '要约回购'\n",
    "    df.loc[is_repurchase & is_tender_offer, 'meu_50_2_condition'] = True\n",
    "    \n",
    "    # 标记valid的constraint（自然日计算要约期限）\n",
    "    # 处理NaN并转换为布尔值\n",
    "    valid_constraint = (df['要约期限'] >= 30).fillna(False)\n",
    "    df['meu_50_2_constraint'] = valid_constraint.astype(bool)\n",
    "    \n",
    "    return df"
   ]
  },
  {
   "cell_type": "code",
   "execution_count": null,
   "id": "fbb966d5",
   "metadata": {},
   "outputs": [],
   "source": [
    "df = check_meu_50_2(df)\n",
    "df"
   ]
  },
  {
   "cell_type": "markdown",
   "id": "47d6ea5f",
   "metadata": {},
   "source": [
    "---"
   ]
  },
  {
   "cell_type": "markdown",
   "id": "4df59f5c",
   "metadata": {},
   "source": [
    "## MEU_50_3"
   ]
  },
  {
   "cell_type": "markdown",
   "id": "13b70266",
   "metadata": {},
   "source": [
    "\n",
    "| 字段 | 内容 |\n",
    "|------|------|\n",
    "| subject | 上市公司 |\n",
    "| condition | 实施要约回购 |\n",
    "| constraint | 要约期限不得超过60个自然日 |\n",
    "| contextual_info | nan |\n",
    "| note | nan |\n",
    "| relation | nan |\n",
    "| target | nan |\n",
    "| type | 实际执行单元 |\n",
    "| comments | nan |\n",
    "| prompt_tokens | 1787 |\n",
    "| completion_tokens | 3882 |\n"
   ]
  },
  {
   "cell_type": "markdown",
   "id": "15383204",
   "metadata": {},
   "source": [
    "### 代码实现"
   ]
  },
  {
   "cell_type": "code",
   "execution_count": null,
   "id": "4f1f358d",
   "metadata": {},
   "outputs": [],
   "source": [
    "import pandas as pd\n",
    "\n",
    "def check_meu_50_3(df):\n",
    "    '''\n",
    "    合规性检查函数，对应MEU_50_3条款：\n",
    "    - subject: 上市公司\n",
    "    - condition: 实施要约回购\n",
    "    - constraint: 要约期限不得超过60个自然日\n",
    "    '''\n",
    "    df = df.copy()\n",
    "\n",
    "    # 初始化标记列\n",
    "    df['meu_50_3_subject'] = True  # 所有公司均为上市公司\n",
    "    df['meu_50_3_condition'] = False\n",
    "    df['meu_50_3_constraint'] = False\n",
    "\n",
    "    # 标记条件：实施要约回购（存在有效回购方案且回购方式为要约回购）\n",
    "    valid_condition = (df['存在回购方案']) & (df['回购方式'] == '要约回购')\n",
    "    df.loc[valid_condition, 'meu_50_3_condition'] = True\n",
    "\n",
    "    # 标记约束：计算自然日差（需处理空值）\n",
    "    has_valid_dates = df['实施开始日'].notna() & df['实施截止日'].notna()\n",
    "    duration = (df['实施截止日'] - df['实施开始日']).dt.days\n",
    "    valid_constraint = (duration <= 60) & has_valid_dates\n",
    "    \n",
    "    # 更新约束标记（独立检查，不依赖subject和condition）\n",
    "    df.loc[valid_constraint, 'meu_50_3_constraint'] = True\n",
    "\n",
    "    return df"
   ]
  },
  {
   "cell_type": "code",
   "execution_count": null,
   "id": "87e3dbc8",
   "metadata": {},
   "outputs": [],
   "source": [
    "df = check_meu_50_3(df)\n",
    "df"
   ]
  },
  {
   "cell_type": "markdown",
   "id": "59c76bd8",
   "metadata": {},
   "source": [
    "---"
   ]
  },
  {
   "cell_type": "markdown",
   "id": "2d663970",
   "metadata": {},
   "source": [
    "# Law Article 51"
   ]
  },
  {
   "cell_type": "markdown",
   "id": "751d15d0",
   "metadata": {},
   "source": [
    "## MEU_51_2"
   ]
  },
  {
   "cell_type": "markdown",
   "id": "8b0865ae",
   "metadata": {},
   "source": [
    "\n",
    "| 字段 | 内容 |\n",
    "|------|------|\n",
    "| subject | 上市公司 |\n",
    "| condition | 实施要约回购 |\n",
    "| constraint | 要约价格不得低于回购股份方案公告日前30个交易日该种股票每日加权平均价的算术平均值 |\n",
    "| contextual_info | nan |\n",
    "| note | nan |\n",
    "| relation | refer_to |\n",
    "| target | Law_75 |\n",
    "| type | 实际执行单元 |\n",
    "| comments | nan |\n",
    "| prompt_tokens | 1865 |\n",
    "| completion_tokens | 6265 |\n"
   ]
  },
  {
   "cell_type": "markdown",
   "id": "47752838",
   "metadata": {},
   "source": [
    "### 代码实现"
   ]
  },
  {
   "cell_type": "code",
   "execution_count": null,
   "id": "4ecce701",
   "metadata": {},
   "outputs": [],
   "source": [
    "import pandas as pd\n",
    "\n",
    "def check_meu_51_2(df):\n",
    "    '''\n",
    "    验证MEU_51_2合规性：\n",
    "    - subject: 上市公司（所有行自动满足）\n",
    "    - condition: 实施要约回购（回购方式为要约回购）\n",
    "    - constraint: 要约价格不低于方案公告日前30个交易日平均价\n",
    "    '''\n",
    "    df = df.copy()\n",
    "\n",
    "    # 初始化标记列\n",
    "    df['meu_51_2_subject'] = True  # 所有公司均为上市公司\n",
    "    df['meu_51_2_condition'] = df['回购方式'] == '要约回购'\n",
    "    df['meu_51_2_constraint'] = False  # 默认设为False\n",
    "\n",
    "    # 计算前30日交易均价逻辑\n",
    "    # 步骤1：提取有效决议记录\n",
    "    valid_resolutions = df[['公司简称', '决议通过日']].dropna().drop_duplicates()\n",
    "    \n",
    "    # 步骤2：计算每个决议对应的30日均价\n",
    "    avg_price_list = []\n",
    "    for _, row in valid_resolutions.iterrows():\n",
    "        company = row['公司简称']\n",
    "        resolution_date = row['决议通过日']\n",
    "        \n",
    "        # 获取决议日前30个交易日数据\n",
    "        company_data = df[(df['公司简称'] == company) & (df['日期'] < resolution_date)]\n",
    "        sorted_dates = company_data.sort_values('日期', ascending=False)\n",
    "        last_30 = sorted_dates.head(30)\n",
    "        \n",
    "        if len(last_30) == 30:\n",
    "            avg_price = last_30['收盘价'].mean()\n",
    "            avg_price_list.append({\n",
    "                '公司简称': company,\n",
    "                '决议通过日': resolution_date,\n",
    "                'ref_price': avg_price\n",
    "            })\n",
    "\n",
    "    # 步骤3：合并参考价格到主表\n",
    "    if avg_price_list:\n",
    "        ref_df = pd.DataFrame(avg_price_list)\n",
    "        df = df.merge(ref_df, on=['公司简称', '决议通过日'], how='left')\n",
    "        \n",
    "        # 步骤4：执行价格比较（仅当要约价格和参考价均存在时）\n",
    "        price_mask = df['要约价格'].notna() & df['ref_price'].notna()\n",
    "        df.loc[price_mask, 'meu_51_2_constraint'] = df.loc[price_mask, '要约价格'] >= df.loc[price_mask, 'ref_price']\n",
    "        \n",
    "        # 清理临时列\n",
    "        df.drop(columns=['ref_price'], inplace=True)\n",
    "\n",
    "    return df"
   ]
  },
  {
   "cell_type": "code",
   "execution_count": null,
   "id": "951a4e75",
   "metadata": {},
   "outputs": [],
   "source": [
    "df = check_meu_51_2(df)\n",
    "df"
   ]
  },
  {
   "cell_type": "markdown",
   "id": "3d5c812c",
   "metadata": {},
   "source": [
    "---"
   ]
  }
 ],
 "metadata": {
  "kernelspec": {
   "display_name": "GE311",
   "language": "python",
   "name": "python3"
  },
  "language_info": {
   "codemirror_mode": {
    "name": "ipython",
    "version": 3
   },
   "file_extension": ".py",
   "mimetype": "text/x-python",
   "name": "python",
   "nbconvert_exporter": "python",
   "pygments_lexer": "ipython3",
   "version": "3.11.11"
  }
 },
 "nbformat": 4,
 "nbformat_minor": 5
}
